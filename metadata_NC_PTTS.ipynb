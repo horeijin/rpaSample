{
 "cells": [
  {
   "cell_type": "code",
   "execution_count": 1,
   "metadata": {},
   "outputs": [],
   "source": [
    "import os\n",
    "import pandas as pd\n",
    "from tqdm import tqdm\n",
    "import gzip\n",
    "from os import listdir\n",
    "from os.path import isfile, join\n",
    "from chardet import detect\n",
    "import re\n",
    "import numpy as np\n",
    "import shutil\n",
    "\n",
    "import openpyxl as xl\n",
    "import json\n",
    "from collections import OrderedDict\n",
    "import soundfile as sf\n",
    "import librosa"
   ]
  },
  {
   "cell_type": "code",
   "execution_count": 2,
   "metadata": {},
   "outputs": [],
   "source": [
    "### metadata.json 만들 db 선택 (ex:NC_PTTS)"
   ]
  },
  {
   "cell_type": "code",
   "execution_count": 5,
   "metadata": {},
   "outputs": [
    {
     "name": "stdin",
     "output_type": "stream",
     "text": [
      " NC_PTTS\n"
     ]
    }
   ],
   "source": [
    "input_value = input()"
   ]
  },
  {
   "cell_type": "code",
   "execution_count": 6,
   "metadata": {},
   "outputs": [],
   "source": [
    "data_path = './'+input_value+'/BnS/'\n",
    "files = listdir(data_path)"
   ]
  },
  {
   "cell_type": "code",
   "execution_count": 7,
   "metadata": {},
   "outputs": [],
   "source": [
    "del_file = []\n",
    "startwith_str = []\n",
    "\n",
    "for i in files:\n",
    "    if os.path.isdir(data_path+i):\n",
    "        del_file.append(i)\n",
    "        if re.search('^\\w', i):\n",
    "            startwith_str.append(i)"
   ]
  },
  {
   "cell_type": "code",
   "execution_count": 8,
   "metadata": {},
   "outputs": [
    {
     "name": "stderr",
     "output_type": "stream",
     "text": [
      "100%|██████████████████████████████████████████████████████████████████████████████████| 10/10 [00:03<00:00,  3.17it/s]\n"
     ]
    }
   ],
   "source": [
    "for i in tqdm(startwith_str, mininterval=1):\n",
    "    \n",
    "    # 화자별 wav 파일리스트 생성\n",
    "    wav_files = listdir(data_path+i+'/v0/wavs')\n",
    "    \n",
    "    # 음원파일의 duration, sample_rate, 파일명 경로, 스피커 구하기\n",
    "    duration_li = []\n",
    "    rate_li =[]\n",
    "    fname_li = []\n",
    "    spk_li = []\n",
    "    \n",
    "    for j in wav_files:\n",
    "        \n",
    "        # duration, sample_rate\n",
    "        f = sf.SoundFile(data_path+i+'/v0/wavs/'+j)\n",
    "        rate = f.samplerate\n",
    "        dur = round((len(f) / f.samplerate),2)\n",
    "        rate_li.append(rate)\n",
    "        duration_li.append(dur)\n",
    "    \n",
    "        # 파일경로, speaker\n",
    "        def clean_text(text):\n",
    "            pattern = '(\\.wav)$'\n",
    "            text = re.sub(pattern=pattern, repl='', string=text)\n",
    "            text = text.strip()\n",
    "            text = \" \".join(text.split())\n",
    "            return text\n",
    "        \n",
    "        k = input_value+'/'+i+'/item/'+j\n",
    "        k = clean_text(k)\n",
    "        q = k.split('/')\n",
    "        fname_li.append(k)\n",
    "        spk_li.append(q[0]+'/'+q[1])\n",
    "    \n",
    "    # 텍스트 내용 불러오기\n",
    "    txt_path = data_path+i+'/_scripts/ncbs_transcription.xlsx'\n",
    "    wb = xl.load_workbook(txt_path)\n",
    "    ws = wb.active\n",
    "    \n",
    "    txt_li = []\n",
    "    for r in ws.rows:\n",
    "        txt_li.append(r[1].value)\n",
    "    \n",
    "    # df로 병합\n",
    "    df = pd.DataFrame(fname_li, columns =['fname'])\n",
    "    df.index += 1\n",
    "    df['text'] = txt_li\n",
    "    df['duration'] = duration_li\n",
    "    df['speaker'] = spk_li\n",
    "    df['sample_rate'] = rate_li\n",
    "    \n",
    "    # 데이터프레임 저장 (csv, xlsx)\n",
    "    if not os.path.exists('./'+input_value+'_meta'):\n",
    "        os.makedirs('./'+input_value+'_meta')\n",
    "\n",
    "    df.to_csv('./'+input_value+'_meta/metadata_'+i+'.csv', encoding='utf-8-sig', header=None)\n",
    "    df.to_excel('./'+input_value+'_meta/metadata_'+i+'.xlsx', encoding='utf-8-sig', header=None)\n",
    "    \n",
    "    # json 생성\n",
    "    xlsx_path = './'+input_value+'_meta/metadata_'+i+'.xlsx'\n",
    "    wb_2 = xl.load_workbook(xlsx_path)\n",
    "    ws_2 = wb_2.active\n",
    "    dic = OrderedDict()\n",
    "    \n",
    "    for z in ws_2.rows:\n",
    "        dic[z[0].value] = {'fname':z[1].value,\n",
    "                           'text':z[2].value,\n",
    "                           'duration':z[3].value,\n",
    "                           'speaker':z[4].value,\n",
    "                           'sample_rate':z[5].value}\n",
    "    \n",
    "    with open('./'+input_value+'_meta/metadata_'+i+'.json', 'w', encoding=\"utf-8\") as make_file:\n",
    "        json.dump(dic, make_file, ensure_ascii=False, indent=\"\\t\")"
   ]
  },
  {
   "cell_type": "code",
   "execution_count": null,
   "metadata": {},
   "outputs": [],
   "source": []
  },
  {
   "cell_type": "code",
   "execution_count": null,
   "metadata": {},
   "outputs": [],
   "source": []
  }
 ],
 "metadata": {
  "kernelspec": {
   "display_name": "Python 3",
   "language": "python",
   "name": "python3"
  },
  "language_info": {
   "codemirror_mode": {
    "name": "ipython",
    "version": 3
   },
   "file_extension": ".py",
   "mimetype": "text/x-python",
   "name": "python",
   "nbconvert_exporter": "python",
   "pygments_lexer": "ipython3",
   "version": "3.7.4"
  }
 },
 "nbformat": 4,
 "nbformat_minor": 4
}
