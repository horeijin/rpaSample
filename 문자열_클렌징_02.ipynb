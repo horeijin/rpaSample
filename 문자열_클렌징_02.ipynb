{
 "cells": [
  {
   "cell_type": "code",
   "execution_count": 1,
   "metadata": {},
   "outputs": [],
   "source": [
    "import os\n",
    "import pandas as pd\n",
    "from tqdm import tqdm\n",
    "from os import listdir\n",
    "from os.path import isfile, join\n",
    "import re\n",
    "import numpy as np"
   ]
  },
  {
   "cell_type": "markdown",
   "metadata": {},
   "source": [
    "### 합쇼체 55자 이하"
   ]
  },
  {
   "cell_type": "code",
   "execution_count": 234,
   "metadata": {},
   "outputs": [],
   "source": [
    "hapsho = pd.read_csv('./합쇼체.txt', sep='\\n', header=None)"
   ]
  },
  {
   "cell_type": "code",
   "execution_count": 235,
   "metadata": {},
   "outputs": [
    {
     "data": {
      "text/html": [
       "<div>\n",
       "<style scoped>\n",
       "    .dataframe tbody tr th:only-of-type {\n",
       "        vertical-align: middle;\n",
       "    }\n",
       "\n",
       "    .dataframe tbody tr th {\n",
       "        vertical-align: top;\n",
       "    }\n",
       "\n",
       "    .dataframe thead th {\n",
       "        text-align: right;\n",
       "    }\n",
       "</style>\n",
       "<table border=\"1\" class=\"dataframe\">\n",
       "  <thead>\n",
       "    <tr style=\"text-align: right;\">\n",
       "      <th></th>\n",
       "      <th>0</th>\n",
       "    </tr>\n",
       "  </thead>\n",
       "  <tbody>\n",
       "    <tr>\n",
       "      <td>0</td>\n",
       "      <td>21세기와 새 밀레니엄은 엄밀히 말해 서기 2001년부터입니다.</td>\n",
       "    </tr>\n",
       "    <tr>\n",
       "      <td>1</td>\n",
       "      <td>서 예수가 태어난 해를 AD1년으로 규정했기 때문입니다.</td>\n",
       "    </tr>\n",
       "    <tr>\n",
       "      <td>2</td>\n",
       "      <td>따라서 AD 1세기는 1년에서 100년까지이며, 20세기도 1901년에서 2000년...</td>\n",
       "    </tr>\n",
       "    <tr>\n",
       "      <td>3</td>\n",
       "      <td>또 첫 밀레니엄은 서기 1000년까지, 두번째 밀레니엄은 2000년까지입니다.</td>\n",
       "    </tr>\n",
       "    <tr>\n",
       "      <td>4</td>\n",
       "      <td>그러나 2000이라는 숫자가 주는 시대적 체감 이 워낙 크기 때문에 이를 감안해 지...</td>\n",
       "    </tr>\n",
       "  </tbody>\n",
       "</table>\n",
       "</div>"
      ],
      "text/plain": [
       "                                                   0\n",
       "0                21세기와 새 밀레니엄은 엄밀히 말해 서기 2001년부터입니다.\n",
       "1                    서 예수가 태어난 해를 AD1년으로 규정했기 때문입니다.\n",
       "2  따라서 AD 1세기는 1년에서 100년까지이며, 20세기도 1901년에서 2000년...\n",
       "3        또 첫 밀레니엄은 서기 1000년까지, 두번째 밀레니엄은 2000년까지입니다.\n",
       "4  그러나 2000이라는 숫자가 주는 시대적 체감 이 워낙 크기 때문에 이를 감안해 지..."
      ]
     },
     "execution_count": 235,
     "metadata": {},
     "output_type": "execute_result"
    }
   ],
   "source": [
    "hapsho.head()"
   ]
  },
  {
   "cell_type": "code",
   "execution_count": 236,
   "metadata": {},
   "outputs": [],
   "source": [
    "hapsho_df = pd.DataFrame(hapsho)"
   ]
  },
  {
   "cell_type": "code",
   "execution_count": 237,
   "metadata": {},
   "outputs": [],
   "source": [
    "hapsho_df_2 = hapsho_df[hapsho_df[0].str.contains('아니다')==False]"
   ]
  },
  {
   "cell_type": "code",
   "execution_count": 238,
   "metadata": {},
   "outputs": [
    {
     "name": "stdout",
     "output_type": "stream",
     "text": [
      "5235589\n"
     ]
    },
    {
     "data": {
      "text/html": [
       "<div>\n",
       "<style scoped>\n",
       "    .dataframe tbody tr th:only-of-type {\n",
       "        vertical-align: middle;\n",
       "    }\n",
       "\n",
       "    .dataframe tbody tr th {\n",
       "        vertical-align: top;\n",
       "    }\n",
       "\n",
       "    .dataframe thead th {\n",
       "        text-align: right;\n",
       "    }\n",
       "</style>\n",
       "<table border=\"1\" class=\"dataframe\">\n",
       "  <thead>\n",
       "    <tr style=\"text-align: right;\">\n",
       "      <th></th>\n",
       "      <th>0</th>\n",
       "    </tr>\n",
       "  </thead>\n",
       "  <tbody>\n",
       "    <tr>\n",
       "      <td>0</td>\n",
       "      <td>21세기와 새 밀레니엄은 엄밀히 말해 서기 2001년부터입니다.</td>\n",
       "    </tr>\n",
       "    <tr>\n",
       "      <td>1</td>\n",
       "      <td>서 예수가 태어난 해를 AD1년으로 규정했기 때문입니다.</td>\n",
       "    </tr>\n",
       "    <tr>\n",
       "      <td>2</td>\n",
       "      <td>따라서 AD 1세기는 1년에서 100년까지이며, 20세기도 1901년에서 2000년...</td>\n",
       "    </tr>\n",
       "    <tr>\n",
       "      <td>3</td>\n",
       "      <td>또 첫 밀레니엄은 서기 1000년까지, 두번째 밀레니엄은 2000년까지입니다.</td>\n",
       "    </tr>\n",
       "    <tr>\n",
       "      <td>4</td>\n",
       "      <td>그러나 2000이라는 숫자가 주는 시대적 체감 이 워낙 크기 때문에 이를 감안해 지...</td>\n",
       "    </tr>\n",
       "  </tbody>\n",
       "</table>\n",
       "</div>"
      ],
      "text/plain": [
       "                                                   0\n",
       "0                21세기와 새 밀레니엄은 엄밀히 말해 서기 2001년부터입니다.\n",
       "1                    서 예수가 태어난 해를 AD1년으로 규정했기 때문입니다.\n",
       "2  따라서 AD 1세기는 1년에서 100년까지이며, 20세기도 1901년에서 2000년...\n",
       "3        또 첫 밀레니엄은 서기 1000년까지, 두번째 밀레니엄은 2000년까지입니다.\n",
       "4  그러나 2000이라는 숫자가 주는 시대적 체감 이 워낙 크기 때문에 이를 감안해 지..."
      ]
     },
     "execution_count": 238,
     "metadata": {},
     "output_type": "execute_result"
    }
   ],
   "source": [
    "print(len(hapsho_df_2))\n",
    "hapsho_df_2.head()"
   ]
  },
  {
   "cell_type": "code",
   "execution_count": 239,
   "metadata": {},
   "outputs": [],
   "source": [
    "hapsho_li = hapsho_df_2[0].tolist()"
   ]
  },
  {
   "cell_type": "code",
   "execution_count": 240,
   "metadata": {},
   "outputs": [],
   "source": [
    "short = []\n",
    "\n",
    "for i in hapsho_li:\n",
    "    if len(i) <= 55:\n",
    "        short.append(i)\n",
    "    else:\n",
    "        pass"
   ]
  },
  {
   "cell_type": "code",
   "execution_count": 242,
   "metadata": {},
   "outputs": [
    {
     "name": "stdout",
     "output_type": "stream",
     "text": [
      "2639397\n"
     ]
    },
    {
     "data": {
      "text/plain": [
       "['21세기와 새 밀레니엄은 엄밀히 말해 서기 2001년부터입니다.',\n",
       " '서 예수가 태어난 해를 AD1년으로 규정했기 때문입니다.',\n",
       " '따라서 AD 1세기는 1년에서 100년까지이며, 20세기도 1901년에서 2000년까지입니다.',\n",
       " '또 첫 밀레니엄은 서기 1000년까지, 두번째 밀레니엄은 2000년까지입니다.',\n",
       " '21세기로 맞추자 이런 주제를 다룹니다',\n",
       " '이런 논의들은 모두 요점별로 모아 지상 중계하며 국민 토론장으로 발전시킬 예정입니다.',\n",
       " '독자 여러분의 뜨거운 관심과 적극적인 참여를 기대합니다.',\n",
       " '가라타니국민국가는 건재합니다.',\n",
       " '베네딕트 앤더슨은 저서 상상의 공동체 에서 국가는 상상의 산물이라고 말합니다.',\n",
       " '중세 종교의 쇠퇴 이후 등장한 것이 국민국가입니다.']"
      ]
     },
     "execution_count": 242,
     "metadata": {},
     "output_type": "execute_result"
    }
   ],
   "source": [
    "print(len(short))\n",
    "short[:10]"
   ]
  },
  {
   "cell_type": "markdown",
   "metadata": {},
   "source": [
    "### 합쇼체 문자열 클리닝"
   ]
  },
  {
   "cell_type": "code",
   "execution_count": 243,
   "metadata": {},
   "outputs": [],
   "source": [
    "def clean_text(text):\n",
    "    pattern = '李'\n",
    "    text = re.sub(pattern=pattern, repl='이', string=text)\n",
    "    pattern = '盧'\n",
    "    text = re.sub(pattern=pattern, repl='노', string=text)\n",
    "    pattern = '가라타니'\n",
    "    text = re.sub(pattern=pattern, repl='', string=text)\n",
    "    pattern = 'YS'\n",
    "    text = re.sub(pattern=pattern, repl='', string=text)\n",
    "    pattern = '희 철 '\n",
    "    text = re.sub(pattern=pattern, repl='', string=text)\n",
    "    pattern = '아 이 '\n",
    "    text = re.sub(pattern=pattern, repl='', string=text)\n",
    "    pattern = '^[AQ]\\s'\n",
    "    text = re.sub(pattern=pattern, repl='', string=text)\n",
    "    text = text.strip()\n",
    "    text = \" \".join(text.split())\n",
    "    return text   "
   ]
  },
  {
   "cell_type": "code",
   "execution_count": 166,
   "metadata": {},
   "outputs": [],
   "source": [
    "#text = 'Q 야李노마 이게 지워지盧 안지워질까? 희 철 :아, 배고파. 아 이 : 배불러. YS 가라타니 인성오져.'"
   ]
  },
  {
   "cell_type": "code",
   "execution_count": 244,
   "metadata": {},
   "outputs": [
    {
     "name": "stderr",
     "output_type": "stream",
     "text": [
      "100%|████████████████████████████████████████████████████████████████████| 2639397/2639397 [00:20<00:00, 129990.40it/s]\n"
     ]
    }
   ],
   "source": [
    "clean_short = []\n",
    "\n",
    "for i in tqdm(short, mininterval=1):\n",
    "    j = clean_text(i)\n",
    "    clean_short.append(j)"
   ]
  },
  {
   "cell_type": "code",
   "execution_count": 246,
   "metadata": {},
   "outputs": [
    {
     "data": {
      "text/plain": [
       "['21세기와 새 밀레니엄은 엄밀히 말해 서기 2001년부터입니다.',\n",
       " '서 예수가 태어난 해를 AD1년으로 규정했기 때문입니다.',\n",
       " '따라서 AD 1세기는 1년에서 100년까지이며, 20세기도 1901년에서 2000년까지입니다.',\n",
       " '또 첫 밀레니엄은 서기 1000년까지, 두번째 밀레니엄은 2000년까지입니다.',\n",
       " '21세기로 맞추자 이런 주제를 다룹니다',\n",
       " '이런 논의들은 모두 요점별로 모아 지상 중계하며 국민 토론장으로 발전시킬 예정입니다.',\n",
       " '독자 여러분의 뜨거운 관심과 적극적인 참여를 기대합니다.',\n",
       " '국민국가는 건재합니다.',\n",
       " '베네딕트 앤더슨은 저서 상상의 공동체 에서 국가는 상상의 산물이라고 말합니다.',\n",
       " '중세 종교의 쇠퇴 이후 등장한 것이 국민국가입니다.',\n",
       " '유럽의 국민국가는 서로마제국의 해체과정에서 생겨났습니다.',\n",
       " '북미에 미국 중심의 공동체가 생긴다면 거기에 대항하는 형태로 아시아에서도 공동체가 탄생할 것입니다.',\n",
       " '경제적인 차원일 겁니다.',\n",
       " '윤리의 문제라고 봅니다.',\n",
       " '김1990년대 세계 지성계를 휩쓴 것이 역사의 종말론입니다.',\n",
       " '역사에 목적 같은 것은 없고 있는 것은 인과적인 과정입니다.',\n",
       " '그리고 칸트가 말한 대로 역사에 의미를 부여하는 것은 윤리입니다.',\n",
       " '인간을 자유롭고 자율적인 주체로 보는 윤리입니다.',\n",
       " '그러나 그런 것들을 동원하려는 이론가와 선동가는 있지만 그게 세계를 움직이는 원리는 아닙니다.',\n",
       " '하드한 사회민주주의의 형태라고 생각해요. 시장경제를 하면서 그것을 국가가 통제하는 겁니다.']"
      ]
     },
     "execution_count": 246,
     "metadata": {},
     "output_type": "execute_result"
    }
   ],
   "source": [
    "clean_short[:20]"
   ]
  },
  {
   "cell_type": "code",
   "execution_count": 247,
   "metadata": {},
   "outputs": [],
   "source": [
    "hapsho_df_2 = pd.DataFrame(clean_short)"
   ]
  },
  {
   "cell_type": "code",
   "execution_count": 248,
   "metadata": {},
   "outputs": [],
   "source": [
    "#저장\n",
    "hapsho_df_2.to_csv(\"./합쇼체(55자).txt\", encoding='utf-8-sig', header=None, index=False)"
   ]
  },
  {
   "cell_type": "markdown",
   "metadata": {},
   "source": [
    "### 합쇼체 영어단어 추출"
   ]
  },
  {
   "cell_type": "code",
   "execution_count": 178,
   "metadata": {},
   "outputs": [],
   "source": [
    "def isEnglish(text):\n",
    "    k_count = 0\n",
    "    e_count = 0\n",
    "    for c in text:\n",
    "        if ord('가') <= ord(c) <= ord('힣'):\n",
    "            k_count+=1\n",
    "        elif ord('a') <= ord(c.lower()) <= ord('z'):\n",
    "            e_count+=1\n",
    "    return \"e\" if e_count>1 else \"k\""
   ]
  },
  {
   "cell_type": "code",
   "execution_count": 179,
   "metadata": {},
   "outputs": [
    {
     "name": "stderr",
     "output_type": "stream",
     "text": [
      "100%|████████████████████████████████████████████████████████████████████| 2639397/2639397 [00:24<00:00, 106564.65it/s]\n"
     ]
    }
   ],
   "source": [
    "k_list = []\n",
    "e_list = []\n",
    "\n",
    "for i in tqdm(clean_short, mininterval=1):\n",
    "    app = isEnglish(i)\n",
    "    if app == 'k':\n",
    "        k_list.append(i)\n",
    "    else :\n",
    "        e_list.append(i)"
   ]
  },
  {
   "cell_type": "code",
   "execution_count": 199,
   "metadata": {},
   "outputs": [
    {
     "name": "stdout",
     "output_type": "stream",
     "text": [
      "119422\n"
     ]
    },
    {
     "data": {
      "text/plain": [
       "['서 예수가 태어난 해를 AD1년으로 규정했기 때문입니다.',\n",
       " '따라서 AD 1세기는 1년에서 100년까지이며, 20세기도 1901년에서 2000년까지입니다.',\n",
       " 'PDF파일은 미국 아도비시스템스사가 개발한 전자문서 파일 형태의 하나입니다.',\n",
       " '그렇습니다. NGO는 새로운 정보교류 수단인 인터넷을 만나면서 엄청난 힘을 갖게 됐습니다.',\n",
       " '그래도 한국에는 여전히 NGO와 거리를 두고 있는 사람이 많습니다.']"
      ]
     },
     "execution_count": 199,
     "metadata": {},
     "output_type": "execute_result"
    }
   ],
   "source": [
    "print(len(e_list))\n",
    "e_list[:5]"
   ]
  },
  {
   "cell_type": "code",
   "execution_count": 185,
   "metadata": {},
   "outputs": [
    {
     "name": "stdout",
     "output_type": "stream",
     "text": [
      "2519975\n"
     ]
    },
    {
     "data": {
      "text/plain": [
       "['21세기와 새 밀레니엄은 엄밀히 말해 서기 2001년부터입니다.',\n",
       " '또 첫 밀레니엄은 서기 1000년까지, 두번째 밀레니엄은 2000년까지입니다.',\n",
       " '21세기로 맞추자 이런 주제를 다룹니다',\n",
       " '이런 논의들은 모두 요점별로 모아 지상 중계하며 국민 토론장으로 발전시킬 예정입니다.',\n",
       " '독자 여러분의 뜨거운 관심과 적극적인 참여를 기대합니다.']"
      ]
     },
     "execution_count": 185,
     "metadata": {},
     "output_type": "execute_result"
    }
   ],
   "source": [
    "print(len(k_list))\n",
    "k_list[:5]"
   ]
  },
  {
   "cell_type": "code",
   "execution_count": 200,
   "metadata": {},
   "outputs": [
    {
     "name": "stderr",
     "output_type": "stream",
     "text": [
      "100%|██████████████████████████████████████████████████████████████████████| 119422/119422 [00:00<00:00, 492700.53it/s]\n"
     ]
    }
   ],
   "source": [
    "# re.findall로 영어텍스트 전부 찾기 -> re.sub로 한글로 교체하기\n",
    "\n",
    "word_li = []\n",
    "\n",
    "for i in tqdm(e_list, mininterval=1):\n",
    "    j = re.findall(r'[a-zA-Z]+', i)\n",
    "    word_li.extend(j)"
   ]
  },
  {
   "cell_type": "code",
   "execution_count": 202,
   "metadata": {},
   "outputs": [
    {
     "name": "stdout",
     "output_type": "stream",
     "text": [
      "129706\n"
     ]
    },
    {
     "data": {
      "text/plain": [
       "['AD', 'AD', 'PDF', 'NGO', 'NGO']"
      ]
     },
     "execution_count": 202,
     "metadata": {},
     "output_type": "execute_result"
    }
   ],
   "source": [
    "print(len(word_li))\n",
    "word_li[:5]"
   ]
  },
  {
   "cell_type": "code",
   "execution_count": 203,
   "metadata": {},
   "outputs": [],
   "source": [
    "word_li = list(set(word_li))"
   ]
  },
  {
   "cell_type": "code",
   "execution_count": 205,
   "metadata": {},
   "outputs": [
    {
     "name": "stdout",
     "output_type": "stream",
     "text": [
      "2402\n"
     ]
    },
    {
     "data": {
      "text/plain": [
       "['nawithparkyejin',\n",
       " 'AAV',\n",
       " 'LGU',\n",
       " 'press',\n",
       " 'HMS',\n",
       " 'SNS',\n",
       " 'OSJD',\n",
       " 'hit',\n",
       " 'ab',\n",
       " 'lo']"
      ]
     },
     "execution_count": 205,
     "metadata": {},
     "output_type": "execute_result"
    }
   ],
   "source": [
    "print(len(word_li))\n",
    "word_li[:10]"
   ]
  },
  {
   "cell_type": "code",
   "execution_count": 206,
   "metadata": {},
   "outputs": [],
   "source": [
    "# 수량이 많아 잠시 보류 --> 3만 문장 추출 후 변환 고려"
   ]
  },
  {
   "cell_type": "markdown",
   "metadata": {},
   "source": [
    "### 해요체 55자 이하 "
   ]
  },
  {
   "cell_type": "code",
   "execution_count": 208,
   "metadata": {},
   "outputs": [],
   "source": [
    "yo = pd.read_csv('./해요체.txt', sep='\\n', header=None)"
   ]
  },
  {
   "cell_type": "code",
   "execution_count": 211,
   "metadata": {},
   "outputs": [
    {
     "data": {
      "text/html": [
       "<div>\n",
       "<style scoped>\n",
       "    .dataframe tbody tr th:only-of-type {\n",
       "        vertical-align: middle;\n",
       "    }\n",
       "\n",
       "    .dataframe tbody tr th {\n",
       "        vertical-align: top;\n",
       "    }\n",
       "\n",
       "    .dataframe thead th {\n",
       "        text-align: right;\n",
       "    }\n",
       "</style>\n",
       "<table border=\"1\" class=\"dataframe\">\n",
       "  <thead>\n",
       "    <tr style=\"text-align: right;\">\n",
       "      <th></th>\n",
       "      <th>0</th>\n",
       "    </tr>\n",
       "  </thead>\n",
       "  <tbody>\n",
       "    <tr>\n",
       "      <td>0</td>\n",
       "      <td>1990년대의 경험으로 2050년의 세계를 그릴 수 있을지도 모르지요.</td>\n",
       "    </tr>\n",
       "    <tr>\n",
       "      <td>1</td>\n",
       "      <td>김아시아 지역공동체는 어떤 성격의 것일까요.</td>\n",
       "    </tr>\n",
       "    <tr>\n",
       "      <td>2</td>\n",
       "      <td>전전 교토학파의 아시아의 공생공영의 이념과 비슷하지 않을까요.</td>\n",
       "    </tr>\n",
       "    <tr>\n",
       "      <td>3</td>\n",
       "      <td>종교가 아니라 윤리가 21세기의 가장 큰 문제라고 생각해요.</td>\n",
       "    </tr>\n",
       "    <tr>\n",
       "      <td>4</td>\n",
       "      <td>전쟁 포기의 이념은 칸트에서 나왔지만 서양에서는 실현되지 않았어요. 일본 헌법을 만...</td>\n",
       "    </tr>\n",
       "  </tbody>\n",
       "</table>\n",
       "</div>"
      ],
      "text/plain": [
       "                                                   0\n",
       "0            1990년대의 경험으로 2050년의 세계를 그릴 수 있을지도 모르지요.\n",
       "1                           김아시아 지역공동체는 어떤 성격의 것일까요.\n",
       "2                 전전 교토학파의 아시아의 공생공영의 이념과 비슷하지 않을까요.\n",
       "3                  종교가 아니라 윤리가 21세기의 가장 큰 문제라고 생각해요.\n",
       "4  전쟁 포기의 이념은 칸트에서 나왔지만 서양에서는 실현되지 않았어요. 일본 헌법을 만..."
      ]
     },
     "execution_count": 211,
     "metadata": {},
     "output_type": "execute_result"
    }
   ],
   "source": [
    "yo.head()"
   ]
  },
  {
   "cell_type": "code",
   "execution_count": 212,
   "metadata": {},
   "outputs": [],
   "source": [
    "yo_df = pd.DataFrame(yo)"
   ]
  },
  {
   "cell_type": "code",
   "execution_count": 214,
   "metadata": {},
   "outputs": [
    {
     "name": "stdout",
     "output_type": "stream",
     "text": [
      "287118\n"
     ]
    },
    {
     "data": {
      "text/html": [
       "<div>\n",
       "<style scoped>\n",
       "    .dataframe tbody tr th:only-of-type {\n",
       "        vertical-align: middle;\n",
       "    }\n",
       "\n",
       "    .dataframe tbody tr th {\n",
       "        vertical-align: top;\n",
       "    }\n",
       "\n",
       "    .dataframe thead th {\n",
       "        text-align: right;\n",
       "    }\n",
       "</style>\n",
       "<table border=\"1\" class=\"dataframe\">\n",
       "  <thead>\n",
       "    <tr style=\"text-align: right;\">\n",
       "      <th></th>\n",
       "      <th>0</th>\n",
       "    </tr>\n",
       "  </thead>\n",
       "  <tbody>\n",
       "    <tr>\n",
       "      <td>0</td>\n",
       "      <td>1990년대의 경험으로 2050년의 세계를 그릴 수 있을지도 모르지요.</td>\n",
       "    </tr>\n",
       "    <tr>\n",
       "      <td>1</td>\n",
       "      <td>김아시아 지역공동체는 어떤 성격의 것일까요.</td>\n",
       "    </tr>\n",
       "    <tr>\n",
       "      <td>2</td>\n",
       "      <td>전전 교토학파의 아시아의 공생공영의 이념과 비슷하지 않을까요.</td>\n",
       "    </tr>\n",
       "    <tr>\n",
       "      <td>3</td>\n",
       "      <td>종교가 아니라 윤리가 21세기의 가장 큰 문제라고 생각해요.</td>\n",
       "    </tr>\n",
       "    <tr>\n",
       "      <td>4</td>\n",
       "      <td>전쟁 포기의 이념은 칸트에서 나왔지만 서양에서는 실현되지 않았어요. 일본 헌법을 만...</td>\n",
       "    </tr>\n",
       "  </tbody>\n",
       "</table>\n",
       "</div>"
      ],
      "text/plain": [
       "                                                   0\n",
       "0            1990년대의 경험으로 2050년의 세계를 그릴 수 있을지도 모르지요.\n",
       "1                           김아시아 지역공동체는 어떤 성격의 것일까요.\n",
       "2                 전전 교토학파의 아시아의 공생공영의 이념과 비슷하지 않을까요.\n",
       "3                  종교가 아니라 윤리가 21세기의 가장 큰 문제라고 생각해요.\n",
       "4  전쟁 포기의 이념은 칸트에서 나왔지만 서양에서는 실현되지 않았어요. 일본 헌법을 만..."
      ]
     },
     "execution_count": 214,
     "metadata": {},
     "output_type": "execute_result"
    }
   ],
   "source": [
    "print(len(yo_df))\n",
    "yo_df.head()"
   ]
  },
  {
   "cell_type": "code",
   "execution_count": 215,
   "metadata": {},
   "outputs": [],
   "source": [
    "yo_li = yo_df[0].tolist()"
   ]
  },
  {
   "cell_type": "code",
   "execution_count": 216,
   "metadata": {},
   "outputs": [],
   "source": [
    "short = []\n",
    "\n",
    "for i in yo_li:\n",
    "    if len(i) <= 55:\n",
    "        short.append(i)\n",
    "    else:\n",
    "        pass"
   ]
  },
  {
   "cell_type": "code",
   "execution_count": null,
   "metadata": {},
   "outputs": [],
   "source": [
    "print(len(short))\n",
    "short"
   ]
  },
  {
   "cell_type": "markdown",
   "metadata": {},
   "source": [
    "### 해요체 문자열 클리닝"
   ]
  },
  {
   "cell_type": "code",
   "execution_count": 227,
   "metadata": {},
   "outputs": [],
   "source": [
    "def clean_text(text):\n",
    "    pattern = '李'\n",
    "    text = re.sub(pattern=pattern, repl='이', string=text)\n",
    "    pattern = '盧'\n",
    "    text = re.sub(pattern=pattern, repl='노', string=text)\n",
    "    pattern = '가라타니'\n",
    "    text = re.sub(pattern=pattern, repl='', string=text)\n",
    "    pattern = 'YS'\n",
    "    text = re.sub(pattern=pattern, repl='', string=text)\n",
    "    pattern = '^희 철 '\n",
    "    text = re.sub(pattern=pattern, repl='', string=text)\n",
    "    pattern = '^아 이 '\n",
    "    text = re.sub(pattern=pattern, repl='', string=text)\n",
    "    pattern = '^희 철'\n",
    "    text = re.sub(pattern=pattern, repl='', string=text)\n",
    "    pattern = '^아 이'\n",
    "    text = re.sub(pattern=pattern, repl='', string=text)\n",
    "    pattern = '^[AQ]'\n",
    "    text = re.sub(pattern=pattern, repl='', string=text)\n",
    "    text = text.strip()\n",
    "    text = \" \".join(text.split())\n",
    "    return text   "
   ]
  },
  {
   "cell_type": "code",
   "execution_count": 228,
   "metadata": {},
   "outputs": [
    {
     "name": "stderr",
     "output_type": "stream",
     "text": [
      "100%|███████████████████████████████████████████████████████████████████████| 230477/230477 [00:02<00:00, 96729.39it/s]\n"
     ]
    }
   ],
   "source": [
    "clean_short = []\n",
    "\n",
    "for i in tqdm(short, mininterval=1):\n",
    "    j = clean_text(i)\n",
    "    clean_short.append(j)"
   ]
  },
  {
   "cell_type": "code",
   "execution_count": 231,
   "metadata": {},
   "outputs": [
    {
     "data": {
      "text/plain": [
       "['이모씨 피해자 서류들을 찢어버렸다고 했거든요.',\n",
       " '여기 와서 잡혀가면 그렇게 많이 투자해 가지고 잡혀서 집으로 가면 또 빚지고 사는 거에요.',\n",
       " '김정림 상인 서울 부암동 옛날보다 한두달 전부터 완전 바닥이에요.',\n",
       " '전에는 왔다갔다 했는데 요즘은 사람이 안 다녀요.',\n",
       " '서울 잠실 석촌호수에 나와있습니다 불꽃놀이가 화려하게 펼쳐지고 있군요.',\n",
       " '김경미 서울 고척동 새해는 새로운 직장에 취직했는데 일 열심히 했으면 좋겠구요.',\n",
       " '가족 모두 건강하고 행복했으면 좋겠습니다 김민구 경기 광명 가족 모두 건강하구요.',\n",
       " '이 모씨 피의자 한 삼천만원 가지면 셋이 일천만원씩 나눠가질수 있잖아요.',\n",
       " '피해자 낮에 미리 만져놔서 미리 작업을 해놓았던 거예요.',\n",
       " '송영돈 충남 당진군 집옆에 내린 눈은 못먹을 거 같은데 여기서는 먹어도 될 거 같아요.']"
      ]
     },
     "execution_count": 231,
     "metadata": {},
     "output_type": "execute_result"
    }
   ],
   "source": [
    "clean_short[-10:]"
   ]
  },
  {
   "cell_type": "code",
   "execution_count": 232,
   "metadata": {},
   "outputs": [],
   "source": [
    "yo_df_2 = pd.DataFrame(clean_short)"
   ]
  },
  {
   "cell_type": "code",
   "execution_count": 233,
   "metadata": {},
   "outputs": [],
   "source": [
    "#저장\n",
    "yo_df_2.to_csv(\"./해요체(55자).txt\", encoding='utf-8-sig', header=None, index=False)"
   ]
  },
  {
   "cell_type": "markdown",
   "metadata": {},
   "source": [
    "### 의문문 55자 이하"
   ]
  },
  {
   "cell_type": "code",
   "execution_count": 249,
   "metadata": {},
   "outputs": [],
   "source": [
    "que = pd.read_csv('./의문문.txt', sep='\\n', header=None)"
   ]
  },
  {
   "cell_type": "code",
   "execution_count": 250,
   "metadata": {},
   "outputs": [],
   "source": [
    "que_df = pd.DataFrame(que)"
   ]
  },
  {
   "cell_type": "code",
   "execution_count": 253,
   "metadata": {},
   "outputs": [
    {
     "name": "stdout",
     "output_type": "stream",
     "text": [
      "109435\n"
     ]
    },
    {
     "data": {
      "text/html": [
       "<div>\n",
       "<style scoped>\n",
       "    .dataframe tbody tr th:only-of-type {\n",
       "        vertical-align: middle;\n",
       "    }\n",
       "\n",
       "    .dataframe tbody tr th {\n",
       "        vertical-align: top;\n",
       "    }\n",
       "\n",
       "    .dataframe thead th {\n",
       "        text-align: right;\n",
       "    }\n",
       "</style>\n",
       "<table border=\"1\" class=\"dataframe\">\n",
       "  <thead>\n",
       "    <tr style=\"text-align: right;\">\n",
       "      <th></th>\n",
       "      <th>0</th>\n",
       "    </tr>\n",
       "  </thead>\n",
       "  <tbody>\n",
       "    <tr>\n",
       "      <td>0</td>\n",
       "      <td>헬로 2000 컴퓨터를 입는다?</td>\n",
       "    </tr>\n",
       "    <tr>\n",
       "      <td>1</td>\n",
       "      <td>생각하기도 전에 눈물이 되곤 하는 어머니 김정자 여사, 지난해 성탄절 전야에 흙으로...</td>\n",
       "    </tr>\n",
       "    <tr>\n",
       "      <td>2</td>\n",
       "      <td>그는 냉장고에서 물병을 꺼내 컵과 함께 가지고 왔다.컵에 물을 따르며 그는 말을 이...</td>\n",
       "    </tr>\n",
       "    <tr>\n",
       "      <td>3</td>\n",
       "      <td>취재일기 Y2K 사기극이었나?</td>\n",
       "    </tr>\n",
       "    <tr>\n",
       "      <td>4</td>\n",
       "      <td>2000년 서울 시정의 방향은?</td>\n",
       "    </tr>\n",
       "  </tbody>\n",
       "</table>\n",
       "</div>"
      ],
      "text/plain": [
       "                                                   0\n",
       "0                                  헬로 2000 컴퓨터를 입는다?\n",
       "1  생각하기도 전에 눈물이 되곤 하는 어머니 김정자 여사, 지난해 성탄절 전야에 흙으로...\n",
       "2  그는 냉장고에서 물병을 꺼내 컵과 함께 가지고 왔다.컵에 물을 따르며 그는 말을 이...\n",
       "3                                   취재일기 Y2K 사기극이었나?\n",
       "4                                  2000년 서울 시정의 방향은?"
      ]
     },
     "execution_count": 253,
     "metadata": {},
     "output_type": "execute_result"
    }
   ],
   "source": [
    "print(len(que_df))\n",
    "que_df.head()"
   ]
  },
  {
   "cell_type": "code",
   "execution_count": 254,
   "metadata": {},
   "outputs": [],
   "source": [
    "que_li = que_df[0].tolist()"
   ]
  },
  {
   "cell_type": "code",
   "execution_count": 257,
   "metadata": {},
   "outputs": [],
   "source": [
    "short = []\n",
    "\n",
    "for i in que_li:\n",
    "    if len(i) <= 55:\n",
    "        short.append(i)\n",
    "    else:\n",
    "        pass"
   ]
  },
  {
   "cell_type": "code",
   "execution_count": null,
   "metadata": {},
   "outputs": [],
   "source": [
    "print(len(short))\n",
    "short"
   ]
  },
  {
   "cell_type": "code",
   "execution_count": 260,
   "metadata": {},
   "outputs": [],
   "source": [
    "### 의문문 문자열 클리닝"
   ]
  },
  {
   "cell_type": "code",
   "execution_count": 276,
   "metadata": {},
   "outputs": [],
   "source": [
    "def clean_text(text):\n",
    "    pattern = '李'\n",
    "    text = re.sub(pattern=pattern, repl='이', string=text)\n",
    "    pattern = '盧'\n",
    "    text = re.sub(pattern=pattern, repl='노', string=text)\n",
    "    pattern = '가라타니'\n",
    "    text = re.sub(pattern=pattern, repl='', string=text)\n",
    "    pattern = 'YS'\n",
    "    text = re.sub(pattern=pattern, repl='', string=text)\n",
    "    pattern = '^희 철 '\n",
    "    text = re.sub(pattern=pattern, repl='', string=text)\n",
    "    pattern = '^아 이 '\n",
    "    text = re.sub(pattern=pattern, repl='', string=text)\n",
    "    pattern = '^희 철'\n",
    "    text = re.sub(pattern=pattern, repl='', string=text)\n",
    "    pattern = '^아 이'\n",
    "    text = re.sub(pattern=pattern, repl='', string=text)\n",
    "    pattern = '^아이 '\n",
    "    text = re.sub(pattern=pattern, repl='', string=text)\n",
    "    pattern = '^미화원 '\n",
    "    text = re.sub(pattern=pattern, repl='', string=text)\n",
    "    pattern = '^미화원'\n",
    "    text = re.sub(pattern=pattern, repl='', string=text)\n",
    "    pattern = '^두더지 '\n",
    "    text = re.sub(pattern=pattern, repl='', string=text)\n",
    "    pattern = '^장 사 '\n",
    "    text = re.sub(pattern=pattern, repl='', string=text)\n",
    "    pattern = '^어머니'\n",
    "    text = re.sub(pattern=pattern, repl='', string=text)\n",
    "    pattern = '^[AQ]'\n",
    "    text = re.sub(pattern=pattern, repl='', string=text)\n",
    "    pattern = '^[0-9] '\n",
    "    text = re.sub(pattern=pattern, repl='', string=text)\n",
    "    pattern = '^[-=.#/?:$}]'\n",
    "    text = re.sub(pattern=pattern, repl='', string=text)\n",
    "    text = text.strip()\n",
    "    text = \" \".join(text.split())\n",
    "    return text   "
   ]
  },
  {
   "cell_type": "code",
   "execution_count": 277,
   "metadata": {},
   "outputs": [
    {
     "name": "stderr",
     "output_type": "stream",
     "text": [
      "100%|█████████████████████████████████████████████████████████████████████████| 88678/88678 [00:01<00:00, 52519.02it/s]\n"
     ]
    }
   ],
   "source": [
    "clean_short = []\n",
    "\n",
    "for i in tqdm(short, mininterval=1):\n",
    "    j = clean_text(i)\n",
    "    clean_short.append(j)"
   ]
  },
  {
   "cell_type": "code",
   "execution_count": null,
   "metadata": {},
   "outputs": [],
   "source": [
    "clean_short"
   ]
  },
  {
   "cell_type": "code",
   "execution_count": 279,
   "metadata": {},
   "outputs": [],
   "source": [
    "que_df_2 = pd.DataFrame(clean_short)"
   ]
  },
  {
   "cell_type": "code",
   "execution_count": 281,
   "metadata": {},
   "outputs": [],
   "source": [
    "#저장\n",
    "que_df_2.to_csv(\"./의문문(55자).txt\", encoding='utf-8-sig', header=None, index=False)"
   ]
  },
  {
   "cell_type": "markdown",
   "metadata": {},
   "source": [
    "### 명사형 55자 이하"
   ]
  },
  {
   "cell_type": "code",
   "execution_count": 282,
   "metadata": {},
   "outputs": [],
   "source": [
    "noun = pd.read_csv('./명사형.txt', sep='\\n', header=None)"
   ]
  },
  {
   "cell_type": "code",
   "execution_count": 283,
   "metadata": {},
   "outputs": [],
   "source": [
    "noun_df = pd.DataFrame(noun)"
   ]
  },
  {
   "cell_type": "code",
   "execution_count": 284,
   "metadata": {},
   "outputs": [
    {
     "name": "stdout",
     "output_type": "stream",
     "text": [
      "1428375\n"
     ]
    },
    {
     "data": {
      "text/html": [
       "<div>\n",
       "<style scoped>\n",
       "    .dataframe tbody tr th:only-of-type {\n",
       "        vertical-align: middle;\n",
       "    }\n",
       "\n",
       "    .dataframe tbody tr th {\n",
       "        vertical-align: top;\n",
       "    }\n",
       "\n",
       "    .dataframe thead th {\n",
       "        text-align: right;\n",
       "    }\n",
       "</style>\n",
       "<table border=\"1\" class=\"dataframe\">\n",
       "  <thead>\n",
       "    <tr style=\"text-align: right;\">\n",
       "      <th></th>\n",
       "      <th>0</th>\n",
       "    </tr>\n",
       "  </thead>\n",
       "  <tbody>\n",
       "    <tr>\n",
       "      <td>0</td>\n",
       "      <td>새천년 이 아침</td>\n",
       "    </tr>\n",
       "    <tr>\n",
       "      <td>1</td>\n",
       "      <td>지지정당 없다 69.9 본사 여론조사</td>\n",
       "    </tr>\n",
       "    <tr>\n",
       "      <td>2</td>\n",
       "      <td>김행 전문기자</td>\n",
       "    </tr>\n",
       "    <tr>\n",
       "      <td>3</td>\n",
       "      <td>이회창 총재 신년사</td>\n",
       "    </tr>\n",
       "    <tr>\n",
       "      <td>4</td>\n",
       "      <td>박태준 총재 신년사</td>\n",
       "    </tr>\n",
       "  </tbody>\n",
       "</table>\n",
       "</div>"
      ],
      "text/plain": [
       "                      0\n",
       "0              새천년 이 아침\n",
       "1  지지정당 없다 69.9 본사 여론조사\n",
       "2               김행 전문기자\n",
       "3            이회창 총재 신년사\n",
       "4            박태준 총재 신년사"
      ]
     },
     "execution_count": 284,
     "metadata": {},
     "output_type": "execute_result"
    }
   ],
   "source": [
    "print(len(noun_df))\n",
    "noun_df.head()"
   ]
  },
  {
   "cell_type": "code",
   "execution_count": 285,
   "metadata": {},
   "outputs": [],
   "source": [
    "noun_li = noun_df[0].tolist()"
   ]
  },
  {
   "cell_type": "code",
   "execution_count": 286,
   "metadata": {},
   "outputs": [],
   "source": [
    "short = []\n",
    "\n",
    "for i in noun_li:\n",
    "    if len(i) <= 55:\n",
    "        short.append(i)\n",
    "    else:\n",
    "        pass"
   ]
  },
  {
   "cell_type": "code",
   "execution_count": null,
   "metadata": {},
   "outputs": [],
   "source": [
    "print(len(short))\n",
    "short"
   ]
  },
  {
   "cell_type": "code",
   "execution_count": 288,
   "metadata": {},
   "outputs": [],
   "source": [
    "# 명사형 클리닝"
   ]
  },
  {
   "cell_type": "code",
   "execution_count": 290,
   "metadata": {},
   "outputs": [],
   "source": [
    "def clean_text(text):\n",
    "    pattern = '李'\n",
    "    text = re.sub(pattern=pattern, repl='이', string=text)\n",
    "    pattern = '盧'\n",
    "    text = re.sub(pattern=pattern, repl='노', string=text)\n",
    "    pattern = '가라타니'\n",
    "    text = re.sub(pattern=pattern, repl='', string=text)\n",
    "    pattern = '^희 철 '\n",
    "    text = re.sub(pattern=pattern, repl='', string=text)\n",
    "    pattern = '^고양이'\n",
    "    text = re.sub(pattern=pattern, repl='', string=text)\n",
    "    pattern = '^여 자'\n",
    "    text = re.sub(pattern=pattern, repl='', string=text)\n",
    "    pattern = '^아 이 '\n",
    "    text = re.sub(pattern=pattern, repl='', string=text)\n",
    "    pattern = '^희 철'\n",
    "    text = re.sub(pattern=pattern, repl='', string=text)\n",
    "    pattern = '^아 이'\n",
    "    text = re.sub(pattern=pattern, repl='', string=text)\n",
    "    pattern = '^아이 '\n",
    "    text = re.sub(pattern=pattern, repl='', string=text)\n",
    "    pattern = '^미화원 '\n",
    "    text = re.sub(pattern=pattern, repl='', string=text)\n",
    "    pattern = '^미화원'\n",
    "    text = re.sub(pattern=pattern, repl='', string=text)\n",
    "    pattern = '^두더지 '\n",
    "    text = re.sub(pattern=pattern, repl='', string=text)\n",
    "    pattern = '^장 사 '\n",
    "    text = re.sub(pattern=pattern, repl='', string=text)\n",
    "    pattern = '^어머니'\n",
    "    text = re.sub(pattern=pattern, repl='', string=text)\n",
    "    pattern = '^[AQ]'\n",
    "    text = re.sub(pattern=pattern, repl='', string=text)\n",
    "    pattern = '^[0-9] '\n",
    "    text = re.sub(pattern=pattern, repl='', string=text)\n",
    "    pattern = '^... 기자$'\n",
    "    text = re.sub(pattern=pattern, repl='', string=text)\n",
    "    pattern = '^[-=.#/?:$}]'\n",
    "    text = re.sub(pattern=pattern, repl='', string=text)\n",
    "    text = text.strip()\n",
    "    text = \" \".join(text.split())\n",
    "    return text   "
   ]
  },
  {
   "cell_type": "code",
   "execution_count": 291,
   "metadata": {},
   "outputs": [
    {
     "name": "stderr",
     "output_type": "stream",
     "text": [
      "100%|█████████████████████████████████████████████████████████████████████| 1133754/1133754 [00:23<00:00, 48683.56it/s]\n"
     ]
    }
   ],
   "source": [
    "clean_short = []\n",
    "\n",
    "for i in tqdm(short, mininterval=1):\n",
    "    j = clean_text(i)\n",
    "    clean_short.append(j)"
   ]
  },
  {
   "cell_type": "code",
   "execution_count": 298,
   "metadata": {},
   "outputs": [],
   "source": [
    "clean_short = list(set(clean_short))[1:]"
   ]
  },
  {
   "cell_type": "code",
   "execution_count": 299,
   "metadata": {},
   "outputs": [],
   "source": [
    "noun_df_2 = pd.DataFrame(clean_short)"
   ]
  },
  {
   "cell_type": "code",
   "execution_count": 300,
   "metadata": {},
   "outputs": [],
   "source": [
    "#저장\n",
    "noun_df_2.to_csv(\"./명사형(55자).txt\", encoding='utf-8-sig', header=None, index=False)"
   ]
  },
  {
   "cell_type": "markdown",
   "metadata": {},
   "source": [
    "### 반말 55자 이하"
   ]
  },
  {
   "cell_type": "code",
   "execution_count": 301,
   "metadata": {},
   "outputs": [],
   "source": [
    "da_1 = pd.read_csv('./반말(~다.)_1.txt', sep='\\n', header=None)"
   ]
  },
  {
   "cell_type": "code",
   "execution_count": 302,
   "metadata": {},
   "outputs": [],
   "source": [
    "da_2 = pd.read_csv('./반말(~다.)_2.txt', sep='\\n', header=None)"
   ]
  },
  {
   "cell_type": "code",
   "execution_count": 304,
   "metadata": {},
   "outputs": [],
   "source": [
    "da_3 = pd.read_csv('./반말(기타).txt', sep='\\n', header=None)"
   ]
  },
  {
   "cell_type": "code",
   "execution_count": 309,
   "metadata": {},
   "outputs": [
    {
     "name": "stdout",
     "output_type": "stream",
     "text": [
      "5000000\n",
      "4164402\n",
      "765205\n",
      "9929607\n"
     ]
    }
   ],
   "source": [
    "print(len(da_1))\n",
    "print(len(da_2))\n",
    "print(len(da_3))\n",
    "print(len(da_1)+len(da_2)+len(da_3))"
   ]
  },
  {
   "cell_type": "code",
   "execution_count": 305,
   "metadata": {},
   "outputs": [],
   "source": [
    "da_1_df = pd.DataFrame(da_1)\n",
    "da_2_df = pd.DataFrame(da_2)\n",
    "da_3_df = pd.DataFrame(da_3)"
   ]
  },
  {
   "cell_type": "code",
   "execution_count": 307,
   "metadata": {},
   "outputs": [],
   "source": [
    "banmal_df = pd.concat([da_1_df, da_2_df, da_3_df], axis=0, ignore_index=True)"
   ]
  },
  {
   "cell_type": "code",
   "execution_count": 308,
   "metadata": {},
   "outputs": [
    {
     "name": "stdout",
     "output_type": "stream",
     "text": [
      "9929607\n"
     ]
    },
    {
     "data": {
      "text/html": [
       "<div>\n",
       "<style scoped>\n",
       "    .dataframe tbody tr th:only-of-type {\n",
       "        vertical-align: middle;\n",
       "    }\n",
       "\n",
       "    .dataframe tbody tr th {\n",
       "        vertical-align: top;\n",
       "    }\n",
       "\n",
       "    .dataframe thead th {\n",
       "        text-align: right;\n",
       "    }\n",
       "</style>\n",
       "<table border=\"1\" class=\"dataframe\">\n",
       "  <thead>\n",
       "    <tr style=\"text-align: right;\">\n",
       "      <th></th>\n",
       "      <th>0</th>\n",
       "    </tr>\n",
       "  </thead>\n",
       "  <tbody>\n",
       "    <tr>\n",
       "      <td>0</td>\n",
       "      <td>한반도의 모든 산들이 어기영차 치달아 오르고, 만주벌 대륙의 산들이 쉼없이 내려와,...</td>\n",
       "    </tr>\n",
       "    <tr>\n",
       "      <td>1</td>\n",
       "      <td>새 하늘 길을 열었다.</td>\n",
       "    </tr>\n",
       "    <tr>\n",
       "      <td>2</td>\n",
       "      <td>천지를 둘러싼 저 용틀임. 저 피와 땀과 눈물의 용틀임. 마침내 대지의 젖,가슴 시...</td>\n",
       "    </tr>\n",
       "    <tr>\n",
       "      <td>3</td>\n",
       "      <td>우리는 달라졌다.</td>\n",
       "    </tr>\n",
       "    <tr>\n",
       "      <td>4</td>\n",
       "      <td>우리는 깨어났다.</td>\n",
       "    </tr>\n",
       "  </tbody>\n",
       "</table>\n",
       "</div>"
      ],
      "text/plain": [
       "                                                   0\n",
       "0  한반도의 모든 산들이 어기영차 치달아 오르고, 만주벌 대륙의 산들이 쉼없이 내려와,...\n",
       "1                                       새 하늘 길을 열었다.\n",
       "2  천지를 둘러싼 저 용틀임. 저 피와 땀과 눈물의 용틀임. 마침내 대지의 젖,가슴 시...\n",
       "3                                          우리는 달라졌다.\n",
       "4                                          우리는 깨어났다."
      ]
     },
     "execution_count": 308,
     "metadata": {},
     "output_type": "execute_result"
    }
   ],
   "source": [
    "print(len(banmal_df))\n",
    "banmal_df.head()"
   ]
  },
  {
   "cell_type": "code",
   "execution_count": 310,
   "metadata": {},
   "outputs": [],
   "source": [
    "ban_li = banmal_df[0].tolist()"
   ]
  },
  {
   "cell_type": "code",
   "execution_count": 311,
   "metadata": {},
   "outputs": [],
   "source": [
    "short = []\n",
    "\n",
    "for i in ban_li:\n",
    "    if len(i) <= 55:\n",
    "        short.append(i)\n",
    "    else:\n",
    "        pass"
   ]
  },
  {
   "cell_type": "code",
   "execution_count": null,
   "metadata": {},
   "outputs": [],
   "source": [
    "print(len(short))\n",
    "short"
   ]
  },
  {
   "cell_type": "code",
   "execution_count": 313,
   "metadata": {},
   "outputs": [],
   "source": [
    "# 반말 클리닝"
   ]
  },
  {
   "cell_type": "code",
   "execution_count": 314,
   "metadata": {},
   "outputs": [],
   "source": [
    "def clean_text(text):\n",
    "    pattern = '李'\n",
    "    text = re.sub(pattern=pattern, repl='이', string=text)\n",
    "    pattern = '盧'\n",
    "    text = re.sub(pattern=pattern, repl='노', string=text)\n",
    "    pattern = '가라타니'\n",
    "    text = re.sub(pattern=pattern, repl='', string=text)\n",
    "    text = re.sub(pattern=pattern, repl='', string=text)\n",
    "    pattern = '^[AQ]'\n",
    "    text = re.sub(pattern=pattern, repl='', string=text)\n",
    "    pattern = '^[0-9] '\n",
    "    text = re.sub(pattern=pattern, repl='', string=text)\n",
    "    pattern = '^... 기자$'\n",
    "    text = re.sub(pattern=pattern, repl='', string=text)\n",
    "    pattern = '^[-=.#/?:$}]'\n",
    "    text = re.sub(pattern=pattern, repl='', string=text)\n",
    "    text = text.strip()\n",
    "    text = \" \".join(text.split())\n",
    "    return text   "
   ]
  },
  {
   "cell_type": "code",
   "execution_count": 315,
   "metadata": {},
   "outputs": [
    {
     "name": "stderr",
     "output_type": "stream",
     "text": [
      "100%|████████████████████████████████████████████████████████████████████| 3571442/3571442 [00:35<00:00, 100154.99it/s]\n"
     ]
    }
   ],
   "source": [
    "clean_short = []\n",
    "\n",
    "for i in tqdm(short, mininterval=1):\n",
    "    j = clean_text(i)\n",
    "    clean_short.append(j)"
   ]
  },
  {
   "cell_type": "code",
   "execution_count": 316,
   "metadata": {},
   "outputs": [
    {
     "data": {
      "text/plain": [
       "['새 하늘 길을 열었다.',\n",
       " '우리는 달라졌다.',\n",
       " '우리는 깨어났다.',\n",
       " '무당파가 70를 육박하고 있다.',\n",
       " '2여1야의 정당 지지율은 합해야 30 정도 밖에 되지 않는다.',\n",
       " '이는 중앙일보가 2000년을 맞이해 실시한 특집 여론조사에서 밝혀졌다.',\n",
       " '그러나 제3의 신당 출현시 그 타격은 주로 한나라당 쪽에 모아질 것으로 보인다.',\n",
       " '새로운 세기를 맞아 우리는 다시 출발해야 한다.',\n",
       " '오늘의 정치현실은 천년을 송구영신하는 이 시점에 버리고 가야 할 구시대의 것 이다.',\n",
       " '새 세기는 사고와 발상의 대전환이 예상되며, 인류가 경험해보지 못했던 새로운 세상이 펼쳐질 것이다.',\n",
       " '국민회의 새 간판이 될 새 천년 민주신당은 31일 20곳의 지구당 조직책을 확정, 발표했다.',\n",
       " '희망과 불안이 극적으로 교차하는 새 천년 새해를 맞는다.',\n",
       " '격변하는 세계의 흐름 속에서 확신이 없고 자신감이 없다.',\n",
       " '무엇을 향해 어떤 방법으로 변화에 접근해야 할지 지향점이 없고 실천기준이 없기 때문이다.',\n",
       " '이제 우리는 밀레니엄 스탠더드.밀레니엄 코드를 찾아나서야 한다.',\n",
       " '지난 25년간의 기술변화는 엄청난 변화를 몰고왔다.',\n",
       " '그러나 우리 경제는 아직도 사방이 불확실성 투성이다.',\n",
       " '갈 길을 모르고 새로운 잣대마저 지니지 못했다.',\n",
       " '관치금융은 틈만 나면 되살아나고 정치논리에 휘말려 경제는 언제나 뒷전이다.',\n",
       " '올 봄 총선으로 경제가 어떻게 결딴날지 지금부터 걱정이 앞선다.',\n",
       " '싱가포르.대만.인도.말레이시아 등 아시아 국가들도 오래 전부터 경쟁력 강화 전략 수립에 부산하다.',\n",
       " '중국과 일본의 아시아 재편구도가 어떤 방향으로 전개될지도 중대한 변수다.',\n",
       " '우리도 국가경영전략을 다시 짜야 한다.',\n",
       " '제도와 틀만으로 개혁이 완성되지는 않는다.',\n",
       " '잘못된 기업관행과 경영형태 전반에 스며 있는 경제문화를 쇄신해야 한다.',\n",
       " '세계화와 인터넷화는 시공을 초월하는, 어지럼증을 동반하는 복잡계다.',\n",
       " '균형과 조화의 어울림 없이는 한시도 살 수 없는 어지러운 세상이다.',\n",
       " '어울림의 창출자는 지도자다.',\n",
       " '교향악적 질서를 정치.사회.문화 각 분야에서 창출하기 위해서는 지도자의 능력 없이는 불가능하다.',\n",
       " '지휘자의 손끝.눈짓 하나로 교향악적 질서는 달라질 수 있다.',\n",
       " '규칙과 도덕의 규범은 법과 질서에서 나온다.',\n",
       " '사법부 독립이란 조직구성원들의 독자성 못지않게 그 독자성을 지켜줄 대통령의 의지가 더욱 중요하다.',\n",
       " '지도자의 요건은 관용이다.',\n",
       " '힘의 정치라는 유혹에서 벗어나 베풂의 정치, 나눔의 정치, 어울림의 덕치를 해야 한다.',\n",
       " '이것이 밀레니엄 정치의 실천정신이어야 한다.',\n",
       " '올 봄 총선은 어차피 치열한 선거전이 될 것이다.',\n",
       " '음해와 반목, 그리고 지역감정이 교차하는 험난한 고비를 맞을 것이다.',\n",
       " '정치가 이러고서야 세계화와 밀레니엄을 논의할 가치조차 없다.',\n",
       " '정치지도자들의 뼈를 깎는 자성과 변신 없이는 우리의 밀레니엄은 남의 잔치밖에 될 게 없다.',\n",
       " '제발 이번 총선을 바라보는 국민을 즐겁게 해주는 상생의 정치를 당부한다.',\n",
       " '그래야 새 천년은 우리에게 가능성과 기회의 새 세기로 다가설 수 있다.',\n",
       " '김종필총리는 새 천년 휘호로 양양천양 유유고금 을 내놓았다.',\n",
       " '새 세기를 여는 총선에 국민의 주권행사에 신중을 기해야 한다.',\n",
       " '새 천년이 어떻게 될지 아는 사람은 아무도 없다.',\n",
       " '콜럼버스가 맨 처음 세인트 도밍고 섬에 상륙했을 때 그는 종달새 소리를 들었다고 적고 있다.',\n",
       " '그리고 그 신대륙의 종달새는 스페인의 종달새보다 훨씬 더 아름답게 운다고 평했다.',\n",
       " '하지만 그 섬에는 종달새란 없었다.',\n",
       " '단지 콜럼버스가 처음 듣는 새소리를 구대륙의 종달새 소리로 들은 것뿐이다.',\n",
       " '우리는 지금 21세기의 신대륙에 첫발을 디디고 있다.',\n",
       " '우리의 마음도 그렇게 비우고 새로운 천년을 맞지 않으면 안될 것이다.',\n",
       " '그렇지 않으면 그것은 단지 20세기를 연장한 1999년 13월에 지나지 않는다.',\n",
       " '새로운 새소리를 듣기 위해서는 우리의 의식과 행동의 모든 가치 시스템을 21세기에 맞춰야 한다.',\n",
       " '첫번째 밀레니엄 코드는 인간의 생명 그 자체에 관한 것이다.',\n",
       " '두번째 밀레니엄 코드는 인간의 생명을 에워싸고 있는 환경문제다.',\n",
       " '이제 환경은 생명권으로 그 차원이 바뀌어지고 정치.경제.사회.문화 등 광범한 테마들과 연결된다.',\n",
       " '세번째의 밀레니엄 코드는 새 인간 새 환경이 만들어내는 행위의 함수, 즉 생산양식의 변화다.',\n",
       " '이른바 정보사회.지식사회가 지니고 있는 문제점들이다.',\n",
       " '네번째의 밀레니엄 코드는 그러한 행위를 꿰어가는 역사다.',\n",
       " '결국 마지막 물음 앞에 놓여 있는 것은 평화의 코드다.',\n",
       " '과거 천년을 지배한 전쟁 패러다임이 평화 패러다임으로 바뀌는 새 천년의 대모험이 시작되고 있다.',\n",
       " '국민 전체가 함께 논의하고 토론하고 해결해야 할 즈믄해 수수께끼들이다.',\n",
       " 'i세대 로 불리는 이들이 21세기를 이끌어갈 신세대로 떠오르고 있다.',\n",
       " '6세의 김동혁군은 1994년생이다.',\n",
       " '유치원에 다니는 개구쟁이지만 아빠 어깨너머로 배운 컴퓨터 실력이 제법이다.',\n",
       " '96년생인 이종윤군은 인터넷에 자신의 홈페이지를 가지고 있다.',\n",
       " '엄마가 읽어주던 동화책 대신 CD롬에서 나오는 화면과 컴퓨터음으로 말을 깨우친다.',\n",
       " '그때그때 따라하고 흉내낸 영어도 제2모국어라고 할 정도로 쉽게 익숙해져 간다.',\n",
       " '부모세대가 486 에 허덕이고 있는 동안 이들은 펜티엄 에 길들여지고 있는 것이다.',\n",
       " 'i세대의 미래는 낮과 밤이 없다.',\n",
       " '인공지능을 갖춘 집에서 낮과 밤을 인위적으로 만들어 아무 때나 자고 아무 때나 일한다.',\n",
       " '자신이 잠든 시간엔 인터넷 홈페이지에서 갖가지 업무가 자동적으로 처리된다.',\n",
       " '몸은 하나지만 몇가지 일을 동시에 처리할 수 있다.',\n",
       " '기성세대는 일반적으로 기존생활에 안주하며 변화를 거부한다.',\n",
       " '그러나 앞으로 변화에 대한 거부는 생존 자체를 위협할지도 모른다.',\n",
       " '우선 인터넷에 대한 마인드부터 새롭게 가져야 한다.',\n",
       " '가정의 노력도 중요하다.',\n",
       " '부모들로서는 i세대를 이끌어주는 일이 곧 자신이 앞으로 이들과 함께 살 준비가 되기 때문이다.',\n",
       " '경기도 부천시 중동에 사는 서현주씨는 재윤.해윤 두 아이를 키우면서 집에서는 영어만 사용했다.',\n",
       " '이 사이트를 활용해 영어공부를 한 덕에 큰아이 재윤은 벌써 인터넷 온라인게임을 할 줄 안다.',\n",
       " '무엇보다 필요한 것은 개인적인 노력이다.',\n",
       " '인터넷이 보편화하기 시작한 94년 이후 태어난 세대를 가르킨다.',\n",
       " '이들에게 사이버공간은 현실세계 못지않게 중요한 삶의 터전이다.',\n",
       " '사무실은 없고 미팅룸을 빌려 쓴다69시간 근무제나 개인 책상이 사라진 지는 오래다.',\n",
       " '몇년 전 사무실마저 없어졌다.',\n",
       " '화상인간에 질려 사람 을 찾는다사람 만나는 일은 개인적이든 업무적이든 대부분 동화상으로 이뤄진다.',\n",
       " '이따금 옷장 속의 파티복을 차려입고 사교클럽에 나간다.',\n",
       " '술을 마시고 못다 한 말을 나누며 사람 냄새에 흠뻑 취한다.',\n",
       " '웬만한 병은 집안에서 진료 재택 진료시대 가 열렸다.',\n",
       " '중병일 경우엔 전문의와 자동 연결된다.',\n",
       " '1주일에 8시간 이상 운동을 해야 하며 이를 확인받아 관청에 신고하도록 돼 있다.',\n",
       " '유전자 정보로 결혼상대 선택 인간파괴 라는 비난 속에서도 사람의 유전자 정보가 규명됐다.',\n",
       " '머리 나쁜 사람을 위해 암호 관리기능이 부착된 손목시계가 등장한다.',\n",
       " '산업혁명기 백인들은 아프리카 흑인을 천연자원처럼 채취해 노예로 부렸다.',\n",
       " '우리가 아직 자원으로만 여기고 있는 생명체들도 언제 우리 형제들로 판명될지 모른다.',\n",
       " '아마도 가혹한 착취가 모두에게 고칠 수 없는 상처를 입힌 뒤의 일일 것이다.',\n",
       " '한 사회의 구성원들끼리 서로 같은 인간임을 부인하고 나 에만 집착한다면 그 사회는 무너진다.',\n",
       " '마찬가지로 인간이 자연현상의 일부이기를 거부한다면 자연계가 무너질 것이다.',\n",
       " '근대는 인간이 자연과 맞선 시기다.',\n",
       " '인간을 자연과 절연시키고 대립시키는 것이 근대과학의 기본원리였다.',\n",
       " '과학기술에 자만심을 가진 인간은 자연과의 절연 속에서 자신의 행복을 규정했다.',\n",
       " '자연계에 대한 무제한의 지배력을 추구해 온 결과 인간은 환경위기를 자초했다.',\n",
       " '인간이 자연의 구속에서 벗어난 것은 독특한 정보매체 덕분이었다.',\n",
       " '대량 파괴무기를 장악한 자의 손가락이 인류의 생명을 위협한 지는 이미 오래다.',\n",
       " '장래의 정보무기를 장악하는 자의 손가락은 인간의 정체성까지 위협할 것이다.',\n",
       " '이 파국에 대비하는 구조조정이 밀레니엄 전환기의 과제다.',\n",
       " '너 자신을 알라 는 고전적 명제로 돌아가지 않을 수 없다.',\n",
       " '자연과 격리된 인간의 존엄성에 집착해서는 생존조건의 붕괴를 피할 길이 없다.',\n",
       " '지난 수천년간 인간은 자연의 구속과 위협으로부터 벗어나려고 발버둥쳐 왔다.',\n",
       " '그 결과는 인간 자신의 구속과 위협에 시달리게 된 것이다.',\n",
       " '사회에 기대지 않고 개인의 존재 를 세우는 사람들이 이 구조조정을 이룩할 것이다.',\n",
       " '사람들은 희망을 말한다.',\n",
       " '새로운 세기, 새로운 천년은 희망의 시대가 될 것이라고 덕담을 얘기한다.',\n",
       " '장밋빛 낙관이 신문과 방송을 장식한다.',\n",
       " '자유와 평등의 확산, 기술의 진보와 삶의 질 향상이 가져올 인류의 미래를 예상한다.',\n",
       " '그렇다.',\n",
       " '9시 방송 뉴스시간을 자식과 함께 바라보고 있기가 두렵다.',\n",
       " '신문 사회면을 보기가 부끄럽다.',\n",
       " '부패와 비리와 사기로 얼룩진 세상이다.',\n",
       " '부패공화국.사고공화국이란 말이 횡행한다.',\n",
       " '어느 사고로 자식을 잃은 어머니는 아예 보따리를 싸고 조국을 떠났다.',\n",
       " '그녀의 가족과 함께 희망도 이 한반도를 떠나고 있다.',\n",
       " '정치는 썩고 경제는 병들고 사회와 문화는 낙후됐다.',\n",
       " '이런 때에 우리에게 다가온 IMF 경제위기는 차라리 축복이었다.',\n",
       " '그것들을 바꾸고 새로운 사회체제와 의식을 만들라는 요구였다.',\n",
       " '그러나 그 절호의 기회를 우리는 삭히고 있다.',\n",
       " 'IMF 이전과 이후에 달라진 것이 별로 없다.',\n",
       " '새로운 시대로 열어갈 체제가 갖춰지지 않았다.',\n",
       " '유감스럽게도 문제는 이 정권만의 문제가 아니라는 사실에 있다.',\n",
       " '이 나라 정치와 경제, 나라와 민족의 운명이 걸린 문제다.',\n",
       " '이대로 가다간 오늘은 어제의 연속이며 내일은 오늘의 연장일 뿐이다.',\n",
       " '역사에 공짜는 없다.',\n",
       " '비약도 없다.',\n",
       " '정직한 것이 역사다.',\n",
       " '우리가 그리는 대로 도화지에 나타날 뿐이다.',\n",
       " '파란 색칠을 하면 파란 색깔로,빨간 색칠을 하면 빨간 색깔로 나타난다.',\n",
       " '이대로라면 희망보다 절망이 더 크다.',\n",
       " '희망의 조건과 환경을 찾을 길이 없는 것이다.',\n",
       " '21세기의 해는 밝았다.',\n",
       " '우리가 원했든, 원치 않았든 새로운 시대의 동은 터온 것이다.',\n",
       " '2000년 벽두인 4월에는 총선이 있다.',\n",
       " '우리들의 선량을 뽑는다.',\n",
       " '한국호의 키를 잡고 21세기의 바다를 저어갈 국회의원들을 선출하는 것이다.',\n",
       " '모든 것을 살려야 할 정치가 이땅에서는 오히려 모든 것의 발목을 잡아왔다.',\n",
       " '정치 때문에 경제가 병들고 문화와 사회가 뒤처졌다.',\n",
       " '정치는 전염병이었고 정치인은 부패의 대명사로 지탄받았다.',\n",
       " '정경유착으로 경제까지 못살게 만들었다.',\n",
       " '기업인이 한명 구속되면 리스트 하나가 출현했다.',\n",
       " '청와대의 전 주인들이 가야 할 곳도 감옥이었다.',\n",
       " '혹자는 이탓 저탓 타령을 하지만, 바로 제도의 탓이었으며 사람의 문제였다.',\n",
       " '21세기까지 이 오염을 이어갈 수는 없다.',\n",
       " '정치판을 완전히 새로 짜지 않으면 안된다.',\n",
       " '제도를 바꾸고 사람을 바꿔야 한다.',\n",
       " '부패와 비효율과 정쟁의 어둡고 더러운 모습은 이제 과거의 기억으로만 남게 해야 한다.',\n",
       " '우리 스스로의 힘에 의해 이 개벽을 이뤄내야 한다.',\n",
       " '우리의 투표에 의해 지난 어두운 과거를 심판하고 새로운 미래의 희망을 만들어야 한다.',\n",
       " '한때 부산 영도다리 밑에는 투표를 잘못해 잘라낸 손가락이 둥둥 떠다닌다 는 우스갯소리가 떠돌았다.',\n",
       " '찍고 나서 후회하는 일이 더 이상 있어서는 안된다.',\n",
       " '밝은 희망의 21세기를 가지느냐 못가지느냐는 온전히 우리의 손에 달려 있다.',\n",
       " '제대로 투표하는 손은 위대하다.',\n",
       " '정치인들의 도덕성.윤리성은 오히려 거꾸로 가는 모양새였다.',\n",
       " '15대 국회에서는 의원 4명 중 1명 꼴인 73명이 당적을 옮겨 철새 정치인 을 양산했다.',\n",
       " '정권교체탓이라고 치부하기엔 그 정도가 심각했다.',\n",
       " '여기에다 고비용 저효율 정치구조 를 개선해보려는 제도개혁도 다짐만 요란했지 실천에 옮겨지지 않았다.',\n",
       " '여야 지도부는 지난해 초 지구당 폐지와 중앙당 축소 등 당 살림의 슬림화를 의욕적으로 내세웠다.',\n",
       " '그러나 1년여의 지루한 여야 협상은 용두사미 로 막을 내렸다.',\n",
       " '돈먹는 하마 로 꼽히는 정당연설회의 폐지도 사실상 물건너가는 분위기다.',\n",
       " '총선이 가까워올수록 비현실적이라며 외면해버렸다.',\n",
       " '의원 세비를 인상하는 데는 채 반나절도 걸리지 않았다.',\n",
       " '후배나 동생한테 추천하고 싶은 대학은 어디냐 는 질문에 도쿄대가 21등으로 나왔다.',\n",
       " '아사히신문사가 최근 출간한 2000년판 대학종합평가랭킹에서 대학 재학생들이 밝힌 응답이다.',\n",
       " '물론 지금도 여전히 도쿄대 출신들의 위세는 대단하다.',\n",
       " '일본의 관계와 정계는 여전히 도쿄대 출신의 손아귀에 들어 있다.',\n",
       " '사법고시나 행정고시는 물론이고 국회의원들도 타의 추종을 불허하며 계속 1등이다.',\n",
       " '한국의 서울대와는 비교도 할 수 없을 정도다.',\n",
       " '기업들은 도쿄대 출신 채용을 외면하기 시작한 지 오래다.',\n",
       " '최근 인사담당자들의 종합평가는 14위. 1년 전의 17위에서 좀 나아졌다는 게 그 정도다.',\n",
       " '그전 같으면 도쿄대 출신이 너무 우수해서 기업들이 경원한다고 했다.',\n",
       " '지금은 불량품 이라서 퇴짜를 놓는다고 노골적으로 비판한다.',\n",
       " '생산성을 올리는 데 주축이 되기는커녕, 뒷다리를 잡는 장애물들이기 십상이라는 것이다.',\n",
       " '일본 사회의 변화를 말하고싶어서다.',\n",
       " '오히려 도쿄대의 급속한 쇠락에서 일본 장래의 희망을 찾아낼 수 있을지도 모른다.',\n",
       " '다른 많은 대학까지 변화를 촉구하는 신선한 충격을 안겨줬었다.',\n",
       " '새 천년을 여는 도쿄의 아침도 여느때와 같을 수 없다.',\n",
       " '결심을 다지고 변화를 채찍질하는 분위기가 완연하다.',\n",
       " '그러나 기대와 흥분보다는 차분하기 그지없다.',\n",
       " '축제 같은 것과는 거리가 멀다.',\n",
       " '닥쳐올 변화에 어떻게 부응해 나가느냐로 오히려 걱정들이다.',\n",
       " '2000년대에 벌어질 변화들은 그런 의미에서 기대의 대상이기는커녕, 이들에겐 죄다 위기관리대상이다.',\n",
       " '한국처럼 선거 때문에 봐주는 것도 없고, 2자를 달기 전에 서둘러 해치우자는 것도 없다.',\n",
       " '이들에겐 2000년이 1999년의 다음해일 뿐인 것 같다.',\n",
       " '하지만 2000년에 들어서는 길목에 엄청난 변화의 러시 현상이 벌어지고 있음을 모를 리 없다.',\n",
       " '인터넷 한방으로 기존의 질서들이 와장창 무너질 조짐들이 사방에서 예고되고 있다.',\n",
       " '그럼에도 2000년이야말로 일본에겐 또 한차례 도약의 계기가 될 것이라는 이야기도 나온다.',\n",
       " '변화를 거부하던 세력들은 거의가 벼랑끝으로 몰리고 있다.',\n",
       " '자생적인 일본판 빅딜 이 자고 나면 터져나오고 있다.',\n",
       " '느린 변화는 변화가 아니다 는 말도 나온다.',\n",
       " '변화의 물결이 일기 시작했고, 드디어 본격적으로 가속 단계에 들어갈 것임을 예고하는 것이다.',\n",
       " '그럼에도 일본의 새 천년 맞이는 겉으론 조용하기 짝이 없다.',\n",
       " '새 천년이 시작됐다.',\n",
       " '한 순간에 뛰어넘은 천년이란 시간의 단위가 백년도 못사는 한 인간에게 너무나 버겁게 다가든다.',\n",
       " '우리가 살고 있는 한반도 역시 예외는 아닐 것이다.',\n",
       " '가장 중요한 과제는 역시 남북간의 화해 내지는 통일문제다.',\n",
       " '21세기에도 분단 대결구도를 벗어나지 못하면 통일의 물꼬는 아예 막혀버릴지도 모른다.',\n",
       " '다음 중요한 문제는 환경문제라고 생각한다.',\n",
       " '셋째로 중요한 과제는 과감한 정치개혁이다.',\n",
       " 'IMF 체제 이후 갈수록 심화되고 있는 빈부격차도 시급히 해결돼야 할 과제다.',\n",
       " '우리 사회의 많은 문제점들에도 불구하고 우리의 미래는 밝을 것이라고 나는 믿는다.',\n",
       " '새로운 세기의 사회는 지식기반사회가 될 것이라고 한다.',\n",
       " '우리는 예로부터 쌀 꾸러는 가도 글 꾸러는 안간다 고 할 만큼 교육열이 높았다.',\n",
       " '우리 사회의 미래는 건전한 시민운동에 달려 있다고 나는 생각한다.',\n",
       " '시민의식의 고양과 시민운동의 활성화를 위해서는 교육과 방송이 큰 역할을 할 수 있을 것이다.',\n",
       " '방송이 하루빨리 제대로 서야 하는 까닭이 여기에 있다.',\n",
       " '새 천년의 여명을 가장 먼저 머금은 기스본. 이날만큼은 더 이상 뉴질랜드만의 땅이 아니었다.',\n",
       " '그곳에서 세계인들은 가슴 조이며 Y2K의 첫 뚜껑을 열면서 묵은 천년을 털어냈다.',\n",
       " '9만명의 세계인과 밤을 꼬박 지샌 존 클라크 기스본 시장은 새 천년의 화두로 화합 을 꼽았다.',\n",
       " '뉴질랜드 원주민 마오리족도 우마차가 수레를 끌고 가듯 세계인들이 함께 나아가자 며 소리쳤다.',\n",
       " '해맞이 행사장인 기스본시의 해안 미드웨이 비치에는 예상과 달리 간간이 빗줄기가 뿌렸다.',\n",
       " '이를 감로수처럼 고개를 치켜들어 마시는 관광객들도 눈에 띄었다.',\n",
       " 'Y2K 전문가들은 컴퓨터가 Y2K 고개를 가까스로 넘기자 환호를 올리며 밀레니엄 축배 를 들었다.',\n",
       " '민.관이 힘을 합쳐 열심히 준비한 덕분에 별 문제가 없었다.',\n",
       " '더 정확히 말해 채텀군도의 하나인 피트섬의 하케파산이 뉴 밀레니엄의 첫 햇살과 마주했다.',\n",
       " '새 밀레니엄의 숨소리를 놓치지 않고 전달하려는 취재진과 토착민이 뒤엉켜 새 천년을 노래했다.',\n",
       " '그러나 89년 역사학자 마이클 킹이 그들을 찾아냈다.',\n",
       " '넘어야 할 산으로 첩첩하고 가야할 길처럼 멀기만 한 날들이었다.',\n",
       " '그렇게 미완의 역사로 살아온 우리에게 거대한 시간이 와 있다.',\n",
       " '이 시간은 이념보다 더 이념적이다.',\n",
       " '천년의 시작이 바로 이렇게 오늘이 된 것이다.',\n",
       " '아시아인에게는 공간만 있고 시간이 없다고 말하던 헤겔의 악담은 이제 아무데서도 들리지 않는다.',\n",
       " '우리는 그 시간의 핵심에 다가선 것이다.',\n",
       " '이런 영원에의 갈망은 우리 뿐 아니라 인류의 여러 자취를 다시 한번 새겨보게 한다.',\n",
       " '누구도 하루살이가 아니라 천년을 내다보며 사는 인간이 된 것이다.',\n",
       " '이것이 사실이라면 인간은 이제 그 자신의 전망을 실현하고 있는 것이기도 하다.',\n",
       " '지구 곳곳에서는 너도 나도 밀레니엄축제를 자랑하고 있다.',\n",
       " '기제의 피라미드는 온통 광선의 마술로 황홀했다.',\n",
       " '사실 오늘 맞이하는 2000년 이전의 천년이란 우리에게 아무런 의미도 주어지지 않는다.',\n",
       " '그것은 아무런 울림도 없는 우연이었다.',\n",
       " '그런데 지금 분명한 것은 우리에게 새로운 천년이라는 시간이 의식으로서의 시간이라는 사실이다.',\n",
       " '이와 함께 지난 세기에 대해 새로운 세기의 출발이 동행하고 있다.',\n",
       " '그동안 21세기, 21세기라고 입에 오르내리던 내일이 오늘이 됐다.',\n",
       " '지난 20세기는 우리에게 자아의 세기가 아니라 타자의 세기로 시작했다.',\n",
       " '그 타자를 때로 저항하고 때로 수용하면서 수고 많은 나날을 보내야 했던 것이다.',\n",
       " '그런 20세기가 굴욕과 영광 말고도 영구 미제 혹은 미결의 문제들을 남겨둔 채 가버렸다.',\n",
       " '그 악몽의 자리, 그 미련의 자리에 21세기의 오늘이 온 것이다.',\n",
       " '이제 어쩔 수 없이 한 세기의 시간대는 보편적인 역사인식의 기본인지 모른다.',\n",
       " '백년세월이란 인생의 현실적인 시간이기 때문이다.',\n",
       " '아마도 앞으로 50년쯤 지나가서야 21세기적인 문명의 얼굴들이 있게 될 것이다.',\n",
       " '어디서 어떤 괴물이 나와 지구 전체를 깜짝 놀라게 할지 모른다.',\n",
       " '문명의 조작 말고도 자연과 우주의 예측할 수 없는 활동도 전제되고 있다.',\n",
       " '그러나 새해는 새해다.',\n",
       " '지난해 8월 SK텔레콤은 메리메리 크리스마스 라는 판촉행사를 벌였다.',\n",
       " '비싼 통화료 때문에 망설였지만 좋아할 아이들의 얼굴이 떠올라 가입을 했다.',\n",
       " '지난해 12월초 한 직원으로부터 당첨됐다는 전화가 걸려왔고, 방문 날짜는 12월 18일로 잡았다.',\n",
       " '방문시간은 이 직원이 당일날 번거롭더라도 좀 기다려달라 고 해 정확하게 정하지는 않았다.',\n",
       " '그러나 칭얼대는 아이들을 달래며 하루종일 기다렸지만 약속했던 산타클로스는 결국 오지않았다.',\n",
       " '아이들은 내가 착한 일을 하지않아 안오나 봐 라며 연신 눈물을 흘려 마음이 더욱 언짢았다.',\n",
       " '20일까지 기다려도 오지 않아 이 회사 고객센터에 전화를 걸어 항의했더니 택배업체 탓으로 돌렸다.',\n",
       " '나는 다시 이 회사에서 배달업무를 담당하는 부서에 전화를 걸었다.',\n",
       " '지금의 음력은 입춘무렵에 새해가 시작된다.',\n",
       " '원래 중국문명의 초기에는 동지무렵에 새해가 시작되는 것으로 역법을 만들었다고 전해진다.',\n",
       " '천문관측이 꽤 정밀해지자 19태양년의 길이가 235삭망월의 길이와 거의 일치하는 주기성이 발견됐다.',\n",
       " '그래서 19년 1장을 우주질서의 기본주기로 인식한다.',\n",
       " '초하루 동틀녘의 동지 가 76년마다 되풀이되는 현상이라고 본 것이다.',\n",
       " '이 큰 주기의 출발점이 곧 역원이었다.',\n",
       " '우주질서의 주기성에 대한 이 신비주의적 사고는 13세기말 원나라의 수시력에서부터 사라졌다.',\n",
       " '신비주의가 문명 주류에서 벗어났다고 해서 아주 사라진 것은 아니었다.',\n",
       " '조선말기의 심한 혼란 속에 고종이 즉위한 1863년은 60간지의 마지막인 계해년이었다.',\n",
       " '그렇다고 많은 사람들이 함께 느끼는 긴장과 흥분을 묵살한다는 것도 비현실적이다.',\n",
       " '아무래도 새 천년 은 허황하다.',\n",
       " '옛 천년 의 흐름을 일관되게 파악하기도 어렵고 천년 후 인류문명의 존재를 장담할 수도 없다.',\n",
       " '새 세기 의 의미와 과제는 훨씬 절실하다.',\n",
       " '그러나 기본은 역시 새해 의 의미다.',\n",
       " '1년, 또 1년의 의미가 충실히 쌓였다면 지난 세기도 치욕의 세기 가 되지 않았을 것이다.',\n",
       " '지난해 중앙일보가 겪어야 했던 아픔은 그 어느 해보다 컸다.',\n",
       " '충격적인 일들이 꼬리를 물고 이어졌고, 이에 따른 독자들의 질책과 성원이 동시에 밀려들었다.',\n",
       " '새 천년 프런티어로서의 중앙일보의 역할에 대한 기대도 많았다.',\n",
       " '이지석씨도 새로운 언론계의 패러다임 변화에 대비해야 한다 고 강조했다.',\n",
       " '지난해 10월 일본 IBM과 올림포스사는 입는 컴퓨터 를 선보였다.',\n",
       " '작게, 더 작게 변해온 컴퓨터가 드디어 옷 속으로 들어가게 된 것이다.',\n",
       " '입는 컴퓨터의 구성을 살펴보면, 몸 곳곳에 작은 부품으로 나눠 휴대할 수 있게 돼 있다.',\n",
       " '모니터는 가격에 따라 성능에 큰 차이가 있다.',\n",
       " '우선 선박.항공기.군사용 장비 등의 정비분야에 일대 전환점이 될 것이다.',\n",
       " '도구는 생활과 문화를 바꾼다.',\n",
       " '세관원들은 빠른 걸음으로 트럭들을 오가면서 서류와 물품을 확인하고 있다.',\n",
       " '고대에 몇달씩 걸리던 비단길과 초원길이 이렇게 단축된 형태로 되살아난 것이다.',\n",
       " '옛 실크로드 국가들이 소련으로부터 독립하면서 이 지역에 새로운 활력이 생기고 있는 것이다.',\n",
       " '신실크로드로 불리는 TRACECA프로젝트의 결과다.',\n",
       " '페고프 사장은 현재 열리고 있는 전자상거래 시대에 값싸고 효율적인 물류통로의 확보는 필수적이다.',\n",
       " '인터넷 시대, 유라시아 중심부는 동서양을 잇는 거대한 경제통로로 우뚝 서게 될 것 이라고 강조했다.',\n",
       " '게다가 이 지역은 단순한 연결통로에 그칠 것으로 보이지 않는다.',\n",
       " '시베리아 벌판에 묻힌 거대한 자원 때문이다.',\n",
       " '시베리아 최고수준을 자랑하는 이 지역 유전으로 장비와 물품을 운반하는 차량들이다.',\n",
       " '군데군데 미제 체로키, 일제 랜드크루저 등 고급 지프들이 보인다.',\n",
       " '여기가 과연 천형의 땅이라는 시베리아의 한복판이 맞는가 하는 의문이 생길 정도다.',\n",
       " '시립 미술관에는 17세기 러시아 화가들이 그린 성화들이 줄지어 걸려 있다.',\n",
       " '눈덮인 대지 위로 최신식 주택들이 줄지어 서 있다.',\n",
       " '주정부가 이주 노동자들에게 무료로 나눠준 집들이다.',\n",
       " '중.고교에선 학생들이 펜티엄급 컴퓨터를 놓고 수업을 하고 있다.',\n",
       " '의과대학과 사범대학까지 있다.',\n",
       " '인구 3만5천명에 불과한 시베리아의 소도시가 수도인 모스크바보다 더욱 유복해 보인다.',\n",
       " '유전에서 나온 풍부한 자금 때문이다.',\n",
       " '시베리아의 지하자원은 러시아의 희망임을 보여주는 현장이다.',\n",
       " '따라서 새로 부활하는 비단길.초원길은 과거와 달리 단순 중개무역지로서의 역할에 그치지 않을 것이다.',\n",
       " '미국과 러시아, 중국과 일본은 유라시아 중심부의 자원개발과 전략적.지정학적 변화의 흐름에 민감하다.',\n",
       " '자칫 한눈을 팔다가 21세기 역사의 주도권을 다른 나라에 빼앗길지 모른다는 초조감도 강하다.',\n",
       " '세계사적 변혁이 일고 있는 유라시아 중심부의 변화에 우리가 관심을 갖지 않을 수 없는 이유다.',\n",
       " '유럽과 아시아 대륙은 별개의 대륙으로 취급되나 바다로 나뉘지 않는다.',\n",
       " '유라시아는 이 두 대륙을 합친, 지리학적.지정학적 개념이다.',\n",
       " '유라시아 중심부 란 유럽 서부와 동아시아.중동 등을 제외한 내륙지역을 일컫는 지정학적 용어다.',\n",
       " '러시아와 중앙아시아 5개국 및 카프카스 3개국이 이에 포함된다.',\n",
       " '러시아는 지구상에서 가장 넓은 국토면적에 1억5천만명의 인구를 갖고 있다.',\n",
       " '중앙아시아 5개국은 총면적이 4백만로 한반도의 20배에 이르나 인구는 5천3백만명 정도다.',\n",
       " '세계 최대의 자원매장 지대지만 대부분 미개발 상태여서 무한한 잠재력을 지니고 있다.',\n",
       " '로마노프 왕조의 러시아제국 시절, 황제의 문장에는 동쪽과 서쪽을 노려보는 쌍두독수리가 쓰였다.',\n",
       " '그만큼 그의 아는 바와 생각하는 바는 넓고 깊었다.',\n",
       " '2시간반 동안 담배 11개비를 피우면서 담배를 안피우면 사고가 안된다고 말했다.',\n",
       " '시종일관 그를 떠나지 않는 화두는 윤리의 문제였다.',\n",
       " '환경파괴를 봅시다.',\n",
       " '지난 24일 여객기를 납치한 범인들은 아자르를 포함해 총 36명의 회교 전사들의 석방을 요구했었다.',\n",
       " '모스크바김석환 특파원보리스 옐친 러시아 대통령이 지난해 12월 31일 전격적으로 사임을 발표했다.',\n",
       " '그는 옐친 일가의 부패사건을 수사해온 유리 스쿠라토프 검찰총장 해임과 기소에 결정적인 역할을 했다.',\n",
       " '6월로 예정됐던 선거가 3개월 정도 앞당겨진다는 것 정도가 중요한 변화라 할 수 있다.',\n",
       " '따라서 러시아 정치는 이미 푸틴을 중심으로 안정돼 있다.',\n",
       " '옐친은 대통령직에서 물러났지만 그에 대한 총체적 평가를 내리기에는 아직은 시기상조라고 할 수 있다.',\n",
       " '밀레니엄 정치는 선거로 열린다.',\n",
       " '올 4월 13일 실시하는 16대 국회의원 총선은 새 천년 새 정치의 실험이다.',\n",
       " '구태를 벗고 정치가 거듭나기 위해서는 선거현장에서 국민의 관심과 지원이 있어야만 가능하다.',\n",
       " '밀레니엄 새 정치는 투표장에 나와 찍어야 열린다.',\n",
       " '13 총선은 김대중 정부 후반기의 국정운영과 권력관리, 여야 지도부의 정치적 장래와 직결돼 있다.',\n",
       " '여야는 총선 승리를 위한 전열정비에 전력을 기울이고 있으며, 후보자들의 발걸음은 바빠지고 있다.',\n",
       " '최대 승부처는 서울.경기.인천등 수도권으로 대부분 지역이 혼전양상이다.',\n",
       " '부산울산경남, 대구경북, 광주전남북, 대전충남북은 정당별 선호도가 뚜렷이 갈리고 있다.',\n",
       " '본지는 4.13고지를 향한 열전의 주요 현장을 골라 권역별로 나눠 소개한다.',\n",
       " '전통적 여권 강세지역인 강원도의 민심이 밀레니엄 총선 때 어떤 모습으로 나타날지가 관심이다.',\n",
       " '제주도는 3개 선거구 모두 한나라당이 장악하고 있다.',\n",
       " '그러나 97년 대선 때는 김대중 후보가 더 많은 표를 얻었다.',\n",
       " '강원춘천에서는 한나라당 한승수.유종수의원이 선거구 통합에 대비, 공천경쟁을 벌이고 있다.',\n",
       " '신당에선 아나운서 출신 이계진씨의 영입을 추진하고 있고, 자민련의 한호선 전 의원도 뛰어들었다.',\n",
       " '강릉은 한나라당 조순 명예총재의 거취가 변수. 최각규 전 강원도지사도 출사표를 던졌다.',\n",
       " '신당에선 영월평창에 황원탁 청와대 외교안보수석을 투입할 것을 검토 중이다.',\n",
       " '경기.인천지역은 서울과 함께 총선의 최대 승부처로 꼽힌다.',\n",
       " '의석도 49석에 이른다.',\n",
       " '그러나 정권교체 후 한나라당 의원들의 무더기 여당행으로 이젠 19석으로 줄었다.',\n",
       " '유권자들의 입맛이 까다로워 여야는 후보들의 질높이기에 주력하고 있다.',\n",
       " '경기중량급 정치인에 대한 상대당의 표적공천도 치열할 것으로 예상된다.',\n",
       " '광명을은 국민회의 조세형 고문과 한나라당 손학규 전 의원이 맞붙는다.',\n",
       " '연천포천은 5선의 이한동 의원이 자민련으로 말을 갈아타고 6선에 도전장을 냈다.',\n",
       " '한나라당이 맞대응할 인물을 고르고 있다.',\n",
       " '전국구인 안재홍.조웅규 의원이 1년 전부터 사무실을 내고 뛰는 등 현역의원간 신경전도 치열하다.',\n",
       " '김용수 부대변인, 언론인 출신인 신동준 21세기정치연구소장도 거론된다.',\n",
       " '국민회의에선 경기도 정무부지사를 지낸 김덕배 위원장이 공천을 노리고 있다.',\n",
       " '홍기훈 전 의원도 재기를 노린다.',\n",
       " '수원 팔달에선 신당의 전수신 전 삼성라이온즈 대표가 한나라당 남경필 의원에게 도전장을 던졌다.',\n",
       " '국민회의 내부에선 임수복 전 경기부지사.김재호 위원장직무대리도 공천경쟁을 하고 있다.',\n",
       " '합당이 무산되자 김문원 한국언론재단이사장도 출마할 태세다.',\n",
       " '현역에 도전하는 젊은 피들의 분전도 눈에 띈다.',\n",
       " '안양 동안갑은 신당에 들어간 전문경영인 이승엽씨가 뛰고 있어 최희준 의원을 긴장케 하고 있다.',\n",
       " '인천우선 현역의원간 한판승부가 관심거리다.',\n",
       " '연수구는 서한샘 의원과 황우려 의원이, 부평갑은 박상규 의원과 조진형 의원간 승부가 주목된다.',\n",
       " '밀레니엄 총선은 서울을 격전의 한복판으로 몰고 있다.',\n",
       " '그러나 여야가 바뀐 지금 어느 쪽도 승리를 장담키 어려운 혼전의 분위기가 감돌고 있다.',\n",
       " '중구에서는 박성범 의원에게 국민회의 정대철 부총재가 고토회복의 재도전에 나섰다.',\n",
       " '부총재와 공천경합이 예상되던 이득렬 관광공사 사장은 비례대표쪽으로 옮길 것으로 알려졌다.',\n",
       " '강남을에선 현역인 홍사덕 의원의 5선 고지 극복 여부도 주목된다.',\n",
       " '여야 극한대치의 여파에 따른 각당의 표적공천 움직임도 분주하다.',\n",
       " '강서을의 이신범 의원을 겨냥해 국민회의측에선 DJ저격수 를 잡는 적임자 경쟁이 치열하다.',\n",
       " '김민석 의원이 재선을 노리는 영등포을에서는 거꾸로 한나라당이 표적 공천을 고려 중이다.',\n",
       " '신당의 대변인인 의원을 꺾을 경우 신당바람을 잠재우는 전략적 효과가 있다는 계산에서다.',\n",
       " '항명파동으로 여론의 관심을 끌었던 심재륜 전 대구고검장의 출마가 거론되고 있다.',\n",
       " '중진 대 젊은 피의 대결도 급증하고있다.',\n",
       " '서대문갑의 국민회의 김상현 의원은 안팎에서 연세대 출신 젊은세대의 도전을 받고 있다.',\n",
       " '개그맨 출신인 김형곤씨도 이 지역에서 나온다.',\n",
       " '이색 열전이 예상되는 곳도 적지 않다.',\n",
       " '박주천 의원의 마포을에서는 신바람 건강학 의 연세대 교수 황수관씨가 사무실을 내고 출마채비를 했다.',\n",
       " '한보청문회에 나왔던 비뇨기과의사 박경식씨도 이곳에 도전장을 냈다.',\n",
       " '국민회의 현역의원의 물갈이 폭이 최대 변수다.',\n",
       " '그래서 출마 희망자도 넘쳐난다.',\n",
       " '15대 총선때 현역의 공천탈락 비율이 40를 넘었다.',\n",
       " '탈락 인사들이 무소속으로 나설 경우 혼전이 예상된다.',\n",
       " '의원이 목포를 맡고, 총장이 신안과 무안을 합해 출마하는 쪽으로 교통정리된다는 관측이 나돌고 있다.',\n",
       " '황주홍 아태재단사무부총장.정숭열 도로공사 사장.최인기 여수대총장도 공천경합에 뛰어들었다.',\n",
       " '그 지역의 김영진.김경재.정호선 의원이 수성에 바쁘다.',\n",
       " '한나라당은 이곳에서 당선된 경력이 있는 전국구 이형배 의원에게 기대를 걸고 있다.',\n",
       " '충청권은 96년 총선에서 나타났던 JP바람이 재현될지 관심이다.',\n",
       " '그러나 내각제 문제로 JP와 갈라선 김용환의원과 국민회의 이인제 당무위원의 거취가 변수다.',\n",
       " 'JP는 현역 물갈이 공천으로 맞설 것으로 알려졌다.',\n",
       " '그러잖아도 12인 물갈이 명단 같이 정치권을 떠도는 괴문서에 충청권 의원들은 떨고 있다.',\n",
       " '충남보령의 김용환 의원에 대한 JP의 표적 공천이 관심사다.',\n",
       " '청양홍성에선 자민련의 이완구 의원과 조부영 전 사무총장이 혈투를 벌이고 있다.',\n",
       " '충북상대적으로 JP바람이 약해 자민련에 대한 도전이 거세다.',\n",
       " '15대 총선 때 YS로부터 공천받은 사람들이 울산 일부를 빼곤 싹쓸이했던 지역이다.',\n",
       " '그때나 지금이나 반DJ정서 는 별로 바뀌지 않았다.',\n",
       " '한나라당은 공천당선 으로 자신하고 있으나 이회창 총재의 고민이 없지않다.',\n",
       " 'YS의 영향력이 건재하고 이기택전 총재권한대행은 옛 민주당 지분 30를 요구하기 때문이다.',\n",
       " '사하갑에는 문정수 전 부산시장, 최광 전 보건복지부장관이 YS후원을 내세우며 공천경쟁에 뛰어들었다.',\n",
       " 'KT는 동래을출마를 희망한다.',\n",
       " '여당 후보들의 성적도 관심사다.',\n",
       " '국민회의 노무현 부총재는 북강서을, 김정길 전 청와대 정무수석은 영도에서 출마한다.',\n",
       " '국민회의는 이곳을 유력지로 보고 차정인 변호사를 내세웠다.',\n",
       " '울산은 무소속 정몽준 의원의 4선 여부, 민주노동당 후보의 당선 여부가 관심거리다.',\n",
       " '대구.경북지역에는 한나라당 바람이 얼마만큼 부느냐에 따라 판세가 결정난다.',\n",
       " '15대 때만 해도 신한국당과 자민련.무소속으로 3등분됐다.',\n",
       " '신한국당은 대구 2곳을 비롯해 13석을 얻는데 그쳤고, 자민련은 10개 의석을 차지했다.',\n",
       " '하지만 지난 대선을 계기로 반여의 소극적 민심은 친야 로 탈바꿈했다.',\n",
       " '지난해 두차례 보선에서 한나라당은 4석을 휩쓸었다.',\n",
       " '물론 반여친야 가 아니라는 게 국민회의.자민련이나 5.6공 출신 옛 여권인사들의 주장이다.',\n",
       " '5공출신 장세동.정호용.전경환씨가 대구에서, 6공출신 정해창씨의 김천 출마설이 나돌고 있다.',\n",
       " '이들이 무소속으로 연대해 나설 경우 지역 민심이 어떤 반응을 보일지 관심사다.',\n",
       " '여권의 동진책이 먹혀들지도 관전 포인트다.',\n",
       " '여기에 맞서 4선을 노리는 김찬우 의원이 뛰고 있지만 당내 공천도전이 만만찮다.',\n",
       " '장영철 의원의 군위칠곡에 이수성 전 총리가 출마할 것이란 얘기도 있다.',\n",
       " '안동갑과 안동을은 선거구 통합 예상지역으로 치열한 접전이 예상된다.',\n",
       " '자민련의 박태준.박철언.박세직의원이 어떤 옷을 입고 나타날지도 주목된다.',\n",
       " '박태준 총재는 총리를 맡아 지역구를 넘겨줄 것으로 보인다.',\n",
       " '중앙일보는 2000년을 맞아 특집 여론조사를 실시했다.',\n",
       " '민주신당과 자민련의 보수대연합이 합당할 경우다.',\n",
       " '각각 35.428.726.9로 조사됐다.',\n",
       " '시나리오 ②와 비슷한 판세가 전개된다.',\n",
       " '그 연유는 시나리오 ④에 나온다.',\n",
       " '경기의 경우는 예상지지율이 25.038.025.3로 한나라당의 독주가 두드러진다.',\n",
       " '기존 정당후보 구도에 홍사덕.장기표씨 등이 신진인사를 규합해 무소속연합체를 띄울 경우다.',\n",
       " '그러나 실제로 뜰 경우에는 특히 한나라당쪽의 전선에는 적색경보가 켜질 것으로 전망된다.',\n",
       " '그러나 무소속연합체는 여당에도 결코 호락호락한 상대는 아닐 것으로 보인다.',\n",
       " '시나리오 ⑤에 공동여당이 합당할 경우다.',\n",
       " '판세가 여야대결에서 여와 무소속의 양자대결로 패러다임 자체가 바뀐다.',\n",
       " '아직 4.13총선까지는 1백일 정도 남았다.',\n",
       " '그 동안 선거판세는 수없이 바뀔 것이다.',\n",
       " '최근 각종 여론조사에서 전례없이 무당파의 비율이 높아지고 있다.',\n",
       " '도움될 것 이라는 판단은 충북.호남.충남등 공동여권 우세지역에서 상대적으로 많았다.',\n",
       " '2000년이 밝았다.',\n",
       " '새 천년이 가져다 줄 희망과 함께 미지의 세계를 향해가는 불안도 없지 않다.',\n",
       " '지구는 점점 더 뜨거워지고 마실 물은커녕 곡식을 키울 물조차 없다고 아우성이다.',\n",
       " '세계공황의 파국으로 치달을 가능성은 없는 것일까. 미국의 독주에 중국과 러시아가 딴죽을 걸고 있다.',\n",
       " '올해 지구촌의 10대 쟁점과 전망을 살펴봤다.',\n",
       " '90년 이후 세계를 관통한 사상 조류는 신자유주의 였다.',\n",
       " '신자유주의에 대한 도전 바람은 특히 남미에서 거세다.',\n",
       " '신자유주의는 자본주의의 가장 무책임한 형태 라는 유럽좌파 지성들의 목소리도 커지고 있다.',\n",
       " '러시아 대통령 선거를 앞두고 예상 후보들 모두 러시아 대국 재건 을 공통적으로 약속하고 있다.',\n",
       " '최근 국가두마선거에서 친크렘린계인 단합당과 우파연합의 약진으로 든든한 지지세력까지 얻었다.',\n",
       " '한편 러시아와 벨로루시는 지난달 통합연방수립조약에 서명, 새해부터 구체적인 작업에 들어간다.',\n",
       " '중동평화의 전망은 그 어느 때보다 밝다.',\n",
       " '이스라엘이 연말부터 시작한 주변 아랍국들과의 화해 노력을 계속할 방침이기 때문이다.',\n",
       " '3일부터 이스라엘은 시리아와 평화회담을 시작한다.',\n",
       " '지난해 말 4년만에 재개된 고위급회담에 이어 두번째 회담이다.',\n",
       " '양측은 골란고원에서의 이스라엘군 철수에 관한 문제 등을 올해 안에 타결하겠다는 입장이다.',\n",
       " '회담이 순조로울 경우 이스라엘은 레바논과의 분쟁도 한꺼번에 해결할 수 있을 것으로 기대하고 있다.',\n",
       " '양국의 협상이 계획대로 진행될 경우 9월까지는 팔레스타인의 최종지위에 대한 합의안이 마련된다.',\n",
       " '중동의 평화정착을 위해 당사자들의 의지 못지 않게 필요한 것이 미국의 지원이다.',\n",
       " '빌 클린턴 미 대통령은 어떠한 희생을 치르고라도 중동에 평화를 정착시키겠다는 의지를 표방하고 있다.',\n",
       " '마카오까지 다시 손에 넣은 중국은 대만과의 통일에 더욱 박차를 가할 것으로 보인다.',\n",
       " '대만의 반응은 3월 18일 실시되는 대만 총통선거에서 드러날 것으로 보인다.',\n",
       " '그러나 지난달 터진 부정자금 수수설로 제1야당 민진당의 천수이볜후보에게 공동 1위를 허용했다.',\n",
       " '후보는 현재 독립국 유지를 공약으로 내걸고 있다.',\n",
       " '지난달 3일 세계무역기구시애틀 각료회의가 최루가스 속에 막을 내렸다.',\n",
       " '그러나 이달부터 뉴라운드협상 재개를 목표로 일반 이사회가 제네바에서 수시로 열릴 예정이다.',\n",
       " '1백35개 회원국들은 더 완벽한 준비로 협상에서 유리한 고지를 선점하겠다는 의욕에 차 있다.',\n",
       " 'WTO는 후발국가들과 NGO의 다양한 주장까지 고려해야 하는 부담을 안고 있다.',\n",
       " '그러나 모든 회원국들은 중단된 뉴라운드 논의를 반드시 재개해야 한다는 데는 뜻을 같이하고 있다.',\n",
       " '미국 위주의 일극적 국제질서에 반대한다는 뜻이다.',\n",
       " '이들의 반발은 지난해 봄 미국이 주도한 북대서양조약기구의 유고공습으로 본격화됐다.',\n",
       " '러.중은 미국이 적어도 군사적으로는 자신들을 제압할 수 없을 것이라는 자신감을 갖고 있다.',\n",
       " '현재까지는 러.중의 반발은 말 의 수준을 크게 벗어나지 못하고 있다.',\n",
       " '경제제재 등 카드를 더 많이 쥔 쪽은 미국이기 때문이다.',\n",
       " '하지만 러.중의 경제 잠재력도 무시할 수 없다.',\n",
       " '세계 제일의 경제대국이자 군사강국인 미국의 대통령은 국제사회에서 가장 영향력있는 자리다.',\n",
       " '11월 미 대통령 선거에 전세계의 관심이 쏠리는 이유다.',\n",
       " '하지만 다크호스들도 있다.',\n",
       " '누가 당선되든 미국의 대외정책 기조가 크게 바뀌지는 않을 것으로 보인다.',\n",
       " '다만 최근 부시가 중국은 더 이상 동반자가 아니다 당선되면 단호한 대북정책을 펼치겠다 고 공언했다.',\n",
       " '더구나 민주당 브래들리의 외교정책의 대강이 로널드 레이건의 정책과 흡사하다는 지적이다.',\n",
       " '국제통화기금에 따르면 미 경제는 4년 전에 비해 생산성이 2배나 늘었다.',\n",
       " '정보산업의 혁명이라는 큰 흐름도 이른바 뉴이코노미 의 파워를 뒷받침하고 있다.',\n",
       " '일본이 장기적인 경기침체에서 벗어날 것인지도 관심사다.',\n",
       " '지구 온난화와 물부족 문제가 지구촌의 양대 환경과제다.',\n",
       " '지금도 전세계 인구의 20는 자체 식수원이 없다.',\n",
       " '12억명은 위생용수 부족으로 건강이 위협받고 있다.',\n",
       " '전세계의 공장과 6억5천여만대에 이르는 자동차 등에서 내뿜는 이산화탄소는 지구 온난화의 주범이다.',\n",
       " '지구 온난화로 인해 인류는 지난 30년간 3백만명의 인명피해를 보았다.',\n",
       " '빙하와 만년설의 해빙, 기상변화, 산호초 파괴 등 자연재해가 발생했기 때문이다.',\n",
       " '환경문제의 심화는 범지구적인 대책의 필요성을 절실히 요구하고 있다.',\n",
       " '하지만 선진국과 개발도상국 사이의 이해관계가 얽혀 적절한 대책이 마련되지 못하고 있다.',\n",
       " '환경문제 해결을 위한 국제적인 리더십과 강한 의지력이 필요하다.',\n",
       " '전문가들은 뉴 밀레니엄이 그린 밀레니엄 으로 불릴 것으로 전망한다.',\n",
       " '21세기에는 국력의 척도가 국부에서 환경으로 옮겨갈 것으로 예상된다.',\n",
       " '전세계가 인터넷 열병을 앓고 있다.',\n",
       " '컴퓨터 통신으로 인사하고 사랑에 빠지는 이웃을 만나는 일도 이미 낯설지 않다.',\n",
       " '정보혁명은 이제 우리의 곁으로 다가왔다.',\n",
       " '92년 대중적으로 처음 보급되기 시작한 인터넷은 지난해 현재 미국가정의 절반을 파고 들었다.',\n",
       " '그러나 인터넷은 그것들에 비하면 광속으로 번져가는 셈이다.',\n",
       " '세계 인터넷 이용자도 지난해 11월 현재 2억명이 넘는다.',\n",
       " '국내에서도 지난해 6백50만명을 넘었고 올해에는 1천만명을 웃돌 것으로 예상된다.',\n",
       " '경제활동인구 대부분이 인터넷을 활용하는 셈이다.',\n",
       " '이미 하루 주식거래량의 40 가까이는 인터넷으로 이뤄진다.',\n",
       " '2003년에는 1조3천억달러를 넘을 것으로 예상되고 있다.',\n",
       " '실제로 에어버스사는 이미 6백인승 항공기 제작에 들어가 2005년께 첫 선을 보인다.',\n",
       " '또 고급 항공편이 특정계층만을 위한 교통수단이 될 가능성도 크다.',\n",
       " '잠깐, 내가 감독이라면 지금 스퀴즈번트 사인을 내겠는데. 망설일 필요가 없다.',\n",
       " '각종 기록이 그때 그때 관객에게 제공되는 것도 물론이다.',\n",
       " '21세기 잠실구장에서 벌어지는 풍경이다.',\n",
       " '음악공연장은 완벽한 멀티미디어와 네트워크 설비를 갖춘 첨단 복합공간이다.',\n",
       " '작곡가가 음향 디자이너.컴퓨터 프로그래머.연주자를 겸하게 되기 때문이다.',\n",
       " '무덤 속에 있는 전설적인 명연주자들도 무대로 불러낼 수 있다.',\n",
       " '이들이 음반으로 남겨 놓은 연주 스타일을 디지털 데이터로 축적해 놓은 덕분이다.',\n",
       " '대학을 졸업하기 전 산부인과에 자신의 난자를 보관해 두고자 하는 여대생들이 보편화된다.',\n",
       " '자녀 맞춤시대가 현실화된 것은 난자보관이 가능해진 이후다.',\n",
       " '물론 난자는 1백개 이상 넉넉하게 채취해 보관해 두게 된다.',\n",
       " '정자의 성능도 선별되고 자녀의 성별도 원하는 대로 선택이 가능하다.',\n",
       " '특히 가 나 군에 속한 주요 대학들을 피해 다 라 군을 선택한 대학들의 경쟁률이 비교적 높았다.',\n",
       " '이날 오후 1시 원서집계 결과 라 군에 속한 동국대 경주캠퍼스는 9.2대1의 높은 경쟁률을 보였다.',\n",
       " '특히 한의예 32.3대1의예 22.5대1 등 이들 학과가 강세를 보였다.',\n",
       " '강릉대 치의예과는 14.9대1, 강원대 의예과는 4.2대1의 경쟁률을 나타냈다.',\n",
       " '예체능계열의 경쟁률도 여전히 높아 동아대 기악 12.6대1, 경원대 관현악은 31.5대1이었다.',\n",
       " '각 대학은 오는 31일까지 합격자 발표를 끝내고 2월 1일부터 3일까지 합격자 등록을 마친다.',\n",
       " '윤년이란 2월이 윤달인 해를 가리킨다.',\n",
       " '흔히 4년마다 한번씩 윤년이 드는 것으로 알고 있는데 이는 정확하지 않은 것이다.',\n",
       " '예를 들어 1896년은 윤년이었지만 4년 후에 찾아온 1900년은 평년이었다.',\n",
       " '외국인들도 전쟁.갈등.기아 등으로 얼룩진 세기를 마감하고 공존의 새 시대가 찾아오길 염원했다.',\n",
       " '국립보건원은 지난해 12월 31일 전국에 독감주의보를 발령했다.',\n",
       " '3시간30분 동안 진행된 1부는 미국 극단 핑총 의 보자기 로 마무리됐다.',\n",
       " '오후 11시쯤 강태환의 색소폰 연주로 2부가 시작됐다.',\n",
       " '무대에 설치된 대형 큐브형 멀티스크린에서는 1부 공연의 하이라이트가 편집 방영됐다.',\n",
       " '장장 7시간이 넘는 대단원의 막은 그렇게 내려졌다.',\n",
       " '그리고 주민등록번호 13자리는 그대로 유지된다.',\n",
       " '예를 들어 2000년 1월 1일 태어난 사내아이의 경우 주민등록번호는 0001013 가 된다.',\n",
       " '새해 첫날, 겁 없는 중학생 4명을 태운 경비행기와 열기구가 한반도의 창공을 종횡으로 누빈다.',\n",
       " '이들은 창공에서 새 천년의 해돋이를 보며 김종필국무총리가 청소년에게 보내는 메시지를 낭독하게 된다.',\n",
       " '평소 패러글라이딩을 즐겼다는 이들은 열기구 비행시간만도 30시간을 넘긴 지 오래다.',\n",
       " '기후 상태에 따라 비행을 포기해야만 하는 일이 벌어질 수도 있다.',\n",
       " '하지만 이들은 결코 주눅들거나 겁내지 않는다.',\n",
       " '모두 비행을 무사히 마칠 것을 자신한다.',\n",
       " '오히려 창공에서의 흥분을 기다릴 뿐이다.',\n",
       " '재능과 취미는 서로 다르지만 용감한 파일럿 이 되는 것이 모두의 꿈이다.',\n",
       " '해맞이 관광객 이모씨는 시속 510로 서행, 대관령 구간을 지나는데 3시간 이상 걸렸다 고 말했다.',\n",
       " '이로써 지난해4월 사상 최장인 8일간의 전면파업 등 갈등으로 치닫던 노사관계가 정상화됐다.',\n",
       " '한국의 원전이 Y2K문제와 관련, 세계 원자력계의 주목을 받고 있다.',\n",
       " '대학생 이모씨는 1일 미국으로 갈 예정인데 정상적으로 비행기를 탈 수 있느냐 며 걱정스럽게 물었다.',\n",
       " '미국 항공우주국이 올해 선정한 10대 과학 성과에 재미 한국 여성 천체물리학자의 연구물이 뽑혔다.',\n",
       " '이들은 쌍성 주위를 돌고 있는 외계 행성 을 처음 발견해냈다.',\n",
       " 'NASA는 최근 이같은 10대 과학성과를 인터넷 홈페이지 등에 발표했다.',\n",
       " '이교수는 서울대 물리학과를 졸업하고 미 스탠퍼드대에서 박사학위를 받았다.',\n",
       " '벤처기업들이 역시 고용창출의 효자로 판명되고 있다.',\n",
       " '이는 연중 자금이 가장 많이 풀리는 추석 때를 뛰어넘은 것이다.',\n",
       " '기업들이 새해를 맞아 다채로운 행사를 갖는다.',\n",
       " '한화 인사팀 김형락 과장은 임직원의 일체감 형성과 도약 의지를 다지려고 행사를 마련했다 고 말했다.',\n",
       " '2000년 재계 화두는 지식경영.디지털 경영.글로벌 기준.선진형 재무구조 갖추기 등으로 요약됐다.',\n",
       " '이들 금융기관은 이를 위해 상호회사인 메이지생명의 주식회사 전환을 추진 중이다.',\n",
       " '삼성전자 윤종용부회장이 지난해 경영을 잘한 세계 최고 경영인 중 한 사람으로 뽑혔다.',\n",
       " '일본도 소비와 투자가 회복세를 보임에 따라 99년에 이어 소폭의 플러스 성장이 가능할 전망이다.',\n",
       " '국제통상올해 국제무역 전선에는 지난해말 뉴라운드 협상 결렬에 따른 이상기류가 감지되고 있다.',\n",
       " '산업자원부와 민간 경제연구기관들은 올해 국내 산업 경기가 본격적인 상승세를 탈 것으로 보고 있다.',\n",
       " '이런 현상은 올해도 이어질 전망이어서 이 문제를 어떻게 해결하느냐가 큰 과제다.',\n",
       " '대부분 대기업들이 본격적으로 사업을 전개하겠다고 선언, 이 분야에서 치열한 경쟁이 예고되고 있다.',\n",
       " '특히 연관산업의 수요가 많은 합성수지와 합성고무가 석유화학산업의 내수 호조를 이끌 전망이다.',\n",
       " '내수 호조에 따라 수출물량이 내수로 전환되면서 수출은 지난해보다 5정도 늘어나는 데 그칠 전망이다.',\n",
       " '동남아.중국 시장의 경제성장으로 국산기계 수출도 활기를 띨 전망이다.',\n",
       " '업계는 올 수출이 작년보다 5.8 늘어난 1백80억달러에 이를 것으로 내다봤다.',\n",
       " '그러나 어두운 면도 없지 않다. 무엇보다 고질적인 과당 경쟁과 덤핑이 변수다.',\n",
       " '97년 이후 지난해까지 뒷걸음질만 쳤던 건설경기가 올해는 3년만에 회복 국면으로 돌아설 전망이다.',\n",
       " '해외건설협회는 올 해외건설 수주액이 1백10억달러에 이를 것으로 내다봤다.',\n",
       " '지난해 크게 인기를 모았던 레저용차도 올해 신차종의 대거 출시로 인기가 지속될 것으로 보인다.',\n",
       " '정보통신 업종은 지난해에 이어 올해도 경제성장의 견인차 역할을 할 전망이다.',\n",
       " '이 중 특히 휴대폰 수출은 지난해 36억달러에서 올해는 65억달러에 이를 전망이다.',\n",
       " '세계적인 디지틀화의 확산은 전자산업의 성장을 더욱 부추길 것이다.',\n",
       " '1인 1PC 시대를 열기 위해 정부는 1백만원 이하의 인터넷PC 도 보급 중이다.',\n",
       " '피겨 요정 남나리가 미국 로스앤젤레스에서 본지 독자들에게 새 천년 새해 인사를 보내왔다.',\n",
       " '키 1백50도 안되는 가냘픈 몸매로 전세계 빙상팬을 사로잡은 남나리의 새 천년 포부는 당차다.',\n",
       " '남나리는 자랑스러운 한국인임을 항상 잊지 않을게요 라며 변함없는 팬들의 성원을 부탁했다.',\n",
       " '한국 마라톤을 내 어깨에 짊어지고 뛰겠다. 새 천년 새해 이봉주의 각오가 비장하다.',\n",
       " '절박한 상황에 처한 이봉주는 지난달 13일 경남 고성에 훈련캠프를 차린 뒤 맹훈련에 들어갔다.',\n",
       " '한편 SOCOG는 오는 4월까지 종목별로 프레올림픽 등 각종 대회를 열어 최종점검에 나설 예정이다.',\n",
       " '5회 연속 올림픽 톱10 은 가능할 것인가. 한국은 올해 시드니올림픽에서 7위가 목표다.',\n",
       " '시드니올림픽을 9개월여 앞두고 한국의 종목별 메달 색깔과 수를 전망해본다.',\n",
       " '축구허정무 감독이 이끄는 올림픽대표팀은 8강 진출이 목표며 메달권 진입까지는 어려울 것으로 보인다.',\n",
       " '지나치게 회고조로 흐르는 지금 이 작품을 통해 온 가족이 진정한 사랑의 의미를 찾을 수 있다.',\n",
       " '뮤지컬 남센스 도 눈길을 끈다. 진지함보다는 화끈하게 웃으면서 새해를 맞이할 수 있는 작품이다.',\n",
       " '안방서 만나는 비디오 극장의 새해는 어느 때보다 다양하고 풍부하다.',\n",
       " '우선 결혼식 축가같은 발라드 신부에게 로 인기를 모으고 있는 포크 듀오 유리상자의 콘서트가 있다.',\n",
       " '1일 임헌정 지휘의 부천시향이 베토벤의 합창환상곡 , 부르흐의 콜 니드라이 을 들려준다.',\n",
       " '2일엔 박은성 지휘의 서울심포니가 거슈윈의 랩소디 인 블루 와 오페라 아리아.중창을 선사한다.',\n",
       " '새천년을 맞아 장르를 뛰어넘는 새로운 예술이 꽃피고 있다.',\n",
       " '또 인터넷.화상전화를 이용해 프로그램에 시청자가 직접 참여하는 인터랙티브 방송시대도 열린다.',\n",
       " '간편하게 자신의 컴퓨터를 통해 해당 프로그램을 선택해 즐길 수 있게 된다.',\n",
       " '반면 선정적인 내용을 주로 취급하는 신문을 대중지, 또는 통속지로 구분한다.',\n",
       " '미 신문편집인협회는 최근 고급신문이 고수해야 할 핵심적인 가치들을 선별해 제시한 바 있다.',\n",
       " '미당 서정주시인의 건강이 심상치 않다는 말이 나돌아 지난해 봄부터 계속 안부 전화를 걸었다.',\n",
       " '우리는 첫째로 우리 아이들을 잘 길러내야겠다.',\n",
       " '그런 사람들이 되게해야겠다.',\n",
       " '그런 여무진 사람들이 되게해야겠다.',\n",
       " '그런 끈기를 길러내야겠다.',\n",
       " '그러므로 나는, 내게 소중한 것들을 한꺼번에 건져주신 분들께 먼저 감사드린다.',\n",
       " '내가 쓰는 글들이 새 천년에 어울리는 것이었으면 좋겠다. 기쁘다.',\n",
       " '별을 털며 집으로 가는 퇴근길은 아름다웠다.',\n",
       " '마지막까지 선자들이 주목했던 작품들은 김다솔.강성민.박승철.류남.박성우씨의 시편이었다.',\n",
       " '횡단보도를 건너자마자 그는 내 얼굴을 빤히 쳐다보며 이렇게 말했다.',\n",
       " '개각은 총선에 출마하는 사람을 바꾸는 소폭으로 45명선이 될 것으로 알려졌다.',\n",
       " '이에 앞서 여야는 대통령과 이회창한나라당 총재의 회담을 67일을 목표로 추진 중이다.',\n",
       " '대통령은 3일 세종문화회관에서 열릴 민관합동 시무식에서 새 천년 신년사 를 발표한다.',\n",
       " '13 총선은 사이버공간부터 열기가 오르고 있다.',\n",
       " '국내 인터넷 인구는 6백50여만명으로 추산된다.',\n",
       " '실태현역의원의 절반이 넘는 1백50여명이 인터넷 홈페이지를 갖고 네티즌 유권자 공략에 나서고 있다.',\n",
       " '자민련은 홈페이지를 총선체제로 전환했다.',\n",
       " '3일 지역별 예상 최저기온은 철원 영하 8도춘천 영하 6도대전 영하 4도 등이다.',\n",
       " '생활에 직접 영향을 미치는 상수도.전화.교통 등도 이상없이 운영 중인 것으로 나타났다.',\n",
       " '김대중 대통령은 1일 내 임기 중 남북 정상회담이 실현될 것으로 생각한다 고 말했다.',\n",
       " '새 천년을 맞으면서 온겨레가 그 어느 때보다 남북관계 개선에 큰 기대를 걸고 있다.',\n",
       " '반세기를 넘긴 반목과 대결의 상극시대가 이제는 마감돼야 한다는 절절한 바람 때문이다.',\n",
       " '북한 노동신문의 신년 사설은 한해 정책노선을 밝히는 중요한 단서다.',\n",
       " '전체 분위기로는 올해도 체제.정권을 보위하려는 수성의 입지가 역력하다.',\n",
       " '사상중시 총대중시 아래 군을 앞세우고 사상의 모기장을 든든히 치는 데 강한 집착을 보여줬다.',\n",
       " '또 북한은 이산가족의 한을 풀어주는 특단의 자세전환을 통해 화해와 관용의 정신을 보여줘야 한다.',\n",
       " '이렇게 될 때 비로소 남과 북은 더 이상 분열이 아닌 민족융합의 시대를 앞당길 수 있다.',\n",
       " '새 천년 새해의 남북 공통과제는 융합과 상생에 있다고 본다.',\n",
       " '자민련 내에 이한동 총재설 에 대한 반발기류가 발생하고 있다.',\n",
       " '선봉이 한영수 부총재다.',\n",
       " '그는 지난 97년 전당대회 때도 JP총재 추대를 거부하고, 스스로 경선에 뛰어든 전력이 있다.',\n",
       " '한 당직자는 박철언.김종호 부총재를 비롯한 충청.영남권 세력도 동요하고 있다 고 전했다.',\n",
       " '보리스 옐친 러시아 대통령이 지난해 12월 31일 전격 사임함으로써 세계를 놀라게 했다.',\n",
       " '러시아 개혁작업의 걸림돌이기도 한 올리가르키 를 어떻게 다룰 것인가도 만만치 않은 과제다.',\n",
       " '국민회의 이만섭 총재권한대행이 자신의 자민련 비판발언 때문에 연초부터 곤욕을 치르고 있다.',\n",
       " '국민회의 종무식에서 공개적으로 사과한 지 이틀 만이다.',\n",
       " '각당은 1일 단배식을 갖고 총선 승리를 다짐했다.',\n",
       " '자민련은 또 총선기획단을 발족해 사회간접자본투자 확대.교원정년 연장 등의 공약을 마련할 계획이다.',\n",
       " '한나라당오는 610일 후보를 공모하고 공천심사위를 열어 이달 말까지 공천작업을 마무리할 예정이다.',\n",
       " '북한은 미국.일본에 대해서도 비난하지 않아 대외관계 개선에 대한 기대를 나타냈다.',\n",
       " '곳곳에서 Y2K문제가 발생할 것으로 우려됐으나 새해 첫 이틀은 별다른 사고없이 지나갔다.',\n",
       " '다른 나라 역시 비슷한 상황이다.',\n",
       " 'Y2K 합격 을 선언하기 위해서는 좀더 두고봐야 한다는 것이다.',\n",
       " '한편 지난 1년여 동안 정부와 기업들이 준비작업을 해 오면서 얻은 점도 적지 않다.',\n",
       " '무엇보다 디지털 사회로의 진입을 위한 국민의식 제고에 큰 보탬이 됐다.',\n",
       " 'Y2K는 물론 새 천년 통화 폭주로 통신대란이 우려됐던 통신분야는 별다른 사고가 발생하지 않았다.',\n",
       " '통신업체들은 2일 현재 시내전화.시외전화.국제전화.휴대폰 등이 정상 소통되고 있다고 밝혔다.',\n",
       " '항공 등 교통분야도 정상적으로 운행이 이뤄졌다.',\n",
       " '취약분야인 중소기업의 경우도 2일까지 이상 사례가 접수되지 않았다.',\n",
       " '그러나 실제 업무가 시작되는 4일 이후 Y2K 문제 발생 여부가 최종 판가름날 전망이다.',\n",
       " '한편 전국 3만6천여 병.의원 중 두 곳에서 경미한 사고가 발생했다.',\n",
       " '경기도 안산 동산의원에서는 40세 여자환자의 골밀도 측정 결과 17세로 잘못 나왔다.',\n",
       " '테스트는 했다. 그러나 4일 한꺼번에 고객이 몰리면 어떤 문제가 발생할지 장담할 수 없다.',\n",
       " '큰 걱정은 않는다.',\n",
       " '아직 문제가 발생했다는 얘기를 듣지 않았다.',\n",
       " '세계 주요 나라들에서도 우려했던 대형 사고는 없었다.',\n",
       " '긴장했던 정부와 기업들의 비상경계태세도 해제돼 일상적인 수준으로 돌아가고 있다.',\n",
       " '전국 각지의 원전 관측자료가 한때 전송되지 않는 등 경미한 문제가 생겼으나 곧 정상을 되찾았다.',\n",
       " '일부 도시의 택시요금기가 제대로 작동하지 않은 것이 사고라면 사고였다.',\n",
       " '대비 소홀이란 지적을 받았던 전력.통신.항공관제 시스템도 정상을 잃지 않았다.',\n",
       " '동남아시아.중동.호주 등에서도 이상 징후는 없었다.',\n",
       " '직장인들은 3일 첫 출근하면 으레 신년인사를 한다.',\n",
       " '업무 개시일 바이러스 대비중요도가 낮은 PC부터 단계적으로 실행한다.',\n",
       " '이때 개인 행동을 자제하고 보안책임자나 전담부서의 지시에 따른다.',\n",
       " '수신된 메일 중 의심가는 메일은 절대로 열어보지 말고 삭제한다.',\n",
       " '문제가 발생하면 그 상태 그대로 두고 비상대응상황실등 전문기관으로 연락해 필요한 조치를 받는다.',\n",
       " '문제가 발생하면 PC제조업체에 문의, 해결한다.',\n",
       " '고향인 부산시 기장군에 체류 중인 박태준총재는 김종필총리의 후임총리직을 맡을 것으로 알려져 있다.',\n",
       " '그러나 그의 관심은 자민련과 공동여당의 선거문제에 집중돼 있다.',\n",
       " '자민련의 영입작업은 수도권과 영남권을 중심으로 진행 중이다.',\n",
       " '결과도 어느 정도 자신하는 모습이다.',\n",
       " '그는 이들을 투표장으로 끌어내면 지금의 의석 수준을 능가하는 당세확장이 가능하다 고까지 했다.',\n",
       " '자민련의 최대 과제는 국민회의와의 연합공천이다.',\n",
       " '이를 감안해 국민회의와의 마찰을 피하려는 분위기다.',\n",
       " '그러나 명예총재인 총리가 격앙된 상태여서 불씨가 남아 있다.',\n",
       " '한나라당 이회창총재는 1일 신년 인사회에서 총선 승리를 위한 두가지 길을 제시했다.',\n",
       " '당 단합과 국민의 신망 획득이 그것이다.',\n",
       " '공천과 관련해선 우선 610일 전국 각 지구당을 상대로 공천 희망자를 공개 모집한다.',\n",
       " '그간 이총재 등과의 접촉을 통해 영입이 확정된 인사들도 이때 공천신청을 할 것으로 알려졌다.',\n",
       " '11일부터는 공천심사위가 가동되며, 이달 말까지 각 지구당 공천자를 확정할 계획이다.',\n",
       " '이총재는 종무식에서 나 스스로도 내 것을 찾거나 요구하지 않을 것 이라고 다짐했다.',\n",
       " '하지만 한나라당에도 고민이 없지 않다.',\n",
       " '자칫 공천 과정에서 당의 단합을 해치는 일이 발생할 수도 있다.',\n",
       " '이와 함께 한나라당은 총선 슬로건으로 상생의 정치 를 내세울 방침이다.',\n",
       " '공약 개발도 이런 이미지를 줄 수 있는 것들에 초점을 맞출 생각이다.',\n",
       " '반면 여권에 대해선 그 반대 측면을 부각시킨다는 계획을 갖고 있다.',\n",
       " '신당은 그래서 지구당 조직책의 물갈이 작업도 가속한다는 전략이다.',\n",
       " '유권자의 귀를 솔깃하게 할 새 공약 개발도 한창이다.',\n",
       " '신정 연휴를 맞아 여야의 단배식과 전직 대통령 자택에는 세배객들의 발길이 줄을 이었다.',\n",
       " '특히 3당 단배식은 지도부의 눈도장을 받으려는 공천 희망자들로 북적거렸다.',\n",
       " '전직 대통령김영삼전 대통령의 상도동 자택에는 1일 5백여명의 세배객이 몰렸다.',\n",
       " '전두환전 대통령은 한복 차림으로 부인 이순자씨와 함께 세배객을 맞았다.',\n",
       " '그는 내가 전직 대통령 중 고참이 됐다 며 나라를 안정시키는 게 전직 대통령의 역할 이라고 말했다.',\n",
       " '특히 전대통령을 겨냥한 듯 전직 대통령이 현직 대통령을 흔들면 나라가 흔들린다 고 했다.',\n",
       " '노태우전 대통령과 최규하전 대통령은 측근이나 가족과 함께 떡국을 먹으며 연휴를 보냈다.',\n",
       " '마포 당사에서 열린 자민련 단배식은 고향방문 중인 박태준 총재 대신 김종필국무총리가 주재했다.',\n",
       " '그러면서도 그는 하나가 돼 위기를 극복해야 한다 는 말로 대통령의 심중을 간접적으로 전했다.',\n",
       " '경제도약에 대한 구체적 구상은 부처별 신년 업무보고에서 나올 예정이다.',\n",
       " '새 천년의 분위기를 조성하겠다는 것이다.',\n",
       " '그러나 이런 구상을 실천에 옮기기 위해서는 정국이 안정돼야 한다는 것이 대통령의 생각이다.',\n",
       " '총선에서 승리하려면 공천을 잘해야 한다.',\n",
       " '대통령은 또 새해부터는 본격적으로 신당에 무게를 실어주겠다는 입장을 굳히고 있다고 한다.',\n",
       " '광야에서 외치는 소리가 있었다.',\n",
       " '양이 음을 눌렀던 전천시대가 끝나고 음양이 공생하는 후천시대가 열린다고 했다.',\n",
       " '과학적인 예언자들도 많았다.',\n",
       " '혼란스럽게 들리는 예언들의 요점은 의외로 간단하다.',\n",
       " '안으로, 부드러움으로, 없음으로 넘어가기 위해 엄청난 파괴와 창조가 시작됐다.',\n",
       " '우리는 불행하게도, 혹은 참으로 행복하게도 그 파괴와 창조 한가운데서 새 천년을 맞는다.',\n",
       " '그것은 3중혁명의 시작일 뿐이다.',\n",
       " '우선 바깥에서 안으로 의 혁명이다.',\n",
       " '땅.물자.공장 등 밖으로 프런티어를 넓힐수록 권력과 부가 축적됐다.',\n",
       " '그런데 갑자기 삶의 근거지에 물과 공기가 썩고,가정과 지역사회와 학교가 붕괴했다.',\n",
       " '바깥으로 나갈수록 안이 파괴됐다.',\n",
       " '이제 프런티어는 우리의 생활 안, 우리의 마음 안으로 바뀌었다.',\n",
       " '위험의 요소도 거기가 가장 크고, 잠재된 힘도 거기가 가장 크다.',\n",
       " '다음은 단단함에서 부드러움으로 의 혁명이다.',\n",
       " '이제까지 힘은 크고 강철 같은 조직과 운영원리에서 나왔다.',\n",
       " '한국과 일본의 기업조직이 그랬고, 국가동원체계가 그러했고, 혁명철학이 그랬다.',\n",
       " '바깥에 있는 것들을 조직하기 위해서였다.',\n",
       " '부드러움은 훨씬 다양한 자원을 농도 짙게 결합하면서도 내면의 자발성까지 품어 안을 수 있다.',\n",
       " '네트워크의 핵심은 고도의 신뢰다.',\n",
       " '이제까지 불신은 규율과 훈육, 견제와 균형의 이름으로 사회를 조직했다.',\n",
       " '보이지 않는 마음의 자원을 부드럽게 결합하기 위해서는 믿는 법 을 배워야 한다.',\n",
       " '마지막으로 있는 것에서 없는 것으로 의 혁명이다.',\n",
       " '20세기 물리학은 없는 것 이 있는 것 의 인프라라고 선언했다.',\n",
       " '지식경제의 기반인 지식.문화.감성은 없는 것처럼 보이는 혼돈 으로부터 발생한다.',\n",
       " '새로운 사회원리인 신뢰도 보이지 않는 것이다.',\n",
       " '우리는 그런 창조적 전사들 덕분에 삶을 향상시킬 수 있다.',\n",
       " '밀레니엄 정치는 사이버 선거 로 열리고 있다.',\n",
       " '올 4.13 총선에서 후보와 유권자들이 만나는 또 다른 선거현장으로 등장하고 있다.',\n",
       " '선진국에 비해 초보단계지만 인터넷 선거운동이 이번 총선 때 본격화할 분위기다.',\n",
       " '때문에 올해가 사이버 정치시대의 원년 으로 기록될 것이란 게 정치권의 일반적 전망이다.',\n",
       " '홈페이지 개설 열풍인터넷 홈페이지를 갖고 있는 의원이 97년에 비해 6배나 늘어났다.',\n",
       " '네티즌 유권자들과 E메일 클럽 을 결성, 정기적으로 전자홍보물을 보내주는 사례도 늘고 있다.',\n",
       " '정치전문 사이트다양한 정치정보를 제공하는 사이트들이 생겨나고 있다.',\n",
       " '홈페이지에 접속하면 ARS계약을 맺은 의원들의 약력과 전화번호가 나온다.',\n",
       " '14명의 의원이 참여했다.',\n",
       " '이윤성의원의 경우 지난 한달새 4백여만원의 후원금을 모았다.',\n",
       " '그러나 선관위에선 이를 선거법 위반으로 규정하고 있어 마찰이 일고 있다.',\n",
       " '4월 총선에 대비하는 의원들의 인터넷 바람몰이가 한창이다.',\n",
       " '2030대 유권자를 잡으려면 인터넷 들어가기 가 필수라는 판단 때문이다.',\n",
       " '인터넷 홈페이지에 동화상과 그래픽을 곁들여 새롭게 단장하는 데 바쁘다.',\n",
       " '2030대 네티즌을 상대로 사이버 보좌관 을 모집해 총선전략을 모으는 경우도 상당수다.',\n",
       " '국민회의 정동영 의원의 자유게시판에는 접속자 수가 6만명을 넘어섰다.',\n",
       " '인터넷을 총선과 연결시키기 위한 아이디어도 백출하고 있다.',\n",
       " '받는 사람이 컴퓨터에 장착하면 의원의 경력.활동이 떠오른다.',\n",
       " '벤처신당 창당에 나선 김용환의원은 신당 명 4개를 걸어놓고 온라인을 통해 투표를 실시하고 있다.',\n",
       " '신당에 대한 관심을 모으려는 전략의 하나다.',\n",
       " '한나라당 맹형규의원은 인터넷을 통해 정치후원금을 모금 중이다.',\n",
       " '홈페이지에 계좌번호.금액을 적어 넣으면 후원회 통장으로 자동입금된다.',\n",
       " '한 걸음 더 나가 사이버 정치 를 정치 모토로 들고 나온 의원도 있다.',\n",
       " '홍사덕의원과 장기표신문명정책연구원장은 이달 중순 인터넷을 활용해 신당을 창당한다.',\n",
       " '사이버 정치 문제점 사이버 선거는 새로운 정치현상이다.',\n",
       " '대표적인 신종 선거운동이다.',\n",
       " '그러나 한쪽에선 탈법의 모습이 드러나고 있다.',\n",
       " '사이버 정치의 급속한 확산은 적잖은 부작용을 예고하고 있다.',\n",
       " '무엇보다 사이버 공간의 정치활동을 감시할 장치가 미흡하다.',\n",
       " '그러나 중앙선관위의 대응시스템은 체계를 갖추지 못하고 있다.',\n",
       " '사이버 공간을 차지하는 PC통신과 E메일 중 E메일에 대해선 접근조차 제대로 못하고 있다.',\n",
       " '위한 제도적 장치의 보완이 필요하다 고 지적했다.',\n",
       " '선관위는 이같은 불법.탈법 선거운동을 막기 위해 선관위 홈페이지에 신고센터를 개설해놓고 있다.',\n",
       " '그렇지만 이용실적은 미미하다.',\n",
       " '최근엔 유권자의 E메일 주소를 사고파는 암시장 까지 등장한 것으로 알려졌다.',\n",
       " '최근 경북 봉화군이 그럴싸한 일을 해냈다.',\n",
       " '발상의 전환이었다.',\n",
       " '봉화군청은 1백20억원짜리 공사에 대해 생각을 바꿔 12억원으로 해답을 찾아냈다.',\n",
       " '새 청사용 임야를 샀으나 야산을 깎는 비용만 1백20억원이 든다는 계산이 나왔다.',\n",
       " '고민이 거듭됐다.',\n",
       " '한 회의에서 농민들이 객토용으로 흙을 가져가게 하자 는 제안이 나왔다.',\n",
       " '그러나 관련법규 때문에 공무원만 다친다 는 반대론이 강했다.',\n",
       " '1억원 이상 공사는 반드시 공개입찰을 하게 돼있는 중앙정부 규정 때문이다.',\n",
       " '결국 엄태항군수가 결단을 내려 일을 밀어붙였다.',\n",
       " '군청측은 흙을 가져가는 주민에게 한 트럭당 1만원씩을 주었다.',\n",
       " '결과는 대성공이었다.',\n",
       " '흙 처리비는 12억원으로 충분했다.',\n",
       " '게다가 객토를 한 농민들은 땅심이 좋아져 수확량까지 늘었다고 한다.',\n",
       " '경직된 규정을 융통성 있게 돌파해낸 봉화군청의 멋쟁이들에게 우리는 박수를 아낄 필요가 없다.',\n",
       " '경남도청이 지난해 3월 처음으로 만들어낸 여권 1시간 내 발급제 도 눈길을 끈다.',\n",
       " '여권은 발급받는 데 3일에서 7일 이상 걸렸다.',\n",
       " '경남도는 여권이라는 행정상품 에 대해 누구보다 먼저 발상의 전환을 했다.',\n",
       " '기업이라면 고객을 이렇게 불편하게 할 수 있겠느냐는 게 혁파의 출발점이었다.',\n",
       " '시청에서 신청 한시간만에 여권을 받아든 시민들은 어허, 이렇게 신통할 수가 를 연발했다.',\n",
       " '그러나 실은 이게 정상인 것이다.',\n",
       " '행정이라는 것, 정부라는 것은 이런 서비스를 위해 존재해야 마땅했다.',\n",
       " '여권 퀵서비스 시책은 이후 전국의 10여개 자치단체로 확산됐다.',\n",
       " '새 밀레니엄. 그렇게도 많이 화두에 올랐던 새 천년이 시작됐다.',\n",
       " '우리의 중앙정부와 자치단체는 20세기 내내 완고하게, 권력을 자의적으로 휘두르기만 해왔다.',\n",
       " '위의 두가지 히트 행정 은 한 세기를 마무리하는 시점에 와서야 간신히 시작된 작은 변화의 몸짓이다.',\n",
       " '이 변모는 각성한 시민의식이 행정에 변혁을 요구해 이뤄지고 있다.',\n",
       " '과거처럼 생산성 없이 시민 위에 군림만 하는 관청을 용납하지 않겠다는 게 요즘 시민사회의 분위기다.',\n",
       " '지난 천년간 한반도는 지구촌 가운데서도 중앙집권과 강압통치의 전통이 두드러진 동토였다.',\n",
       " '백성들은 관에서 부른다면 두려움에 날밤을 새워야 했다.',\n",
       " '또 구명이나 인허가를 위해 쌈지를 털어야 했다.',\n",
       " '이 과업을 어떻게 이룰 것인가 이 고민은 즐거이 날 밤을 새울 만한 것이다.',\n",
       " '다행히도 1932년에 내려진 미국의 대법원 판결이 우리에게 하나의 힌트를 준다.',\n",
       " '이 판결은 정책 실험 을 할 수 있다는 것은 지방자치제의 행복한 결과다.',\n",
       " '따라서 중앙정부는 지방의 특수성을 무시한 통제를 해서는 안된다 는 속시원한 내용이었다.',\n",
       " '이 쟁송은 한 주정부가 공기업으로 얼음공장을 하려한 데서 비롯됐다.',\n",
       " '지방자치는 정책의 실험실 이 돼야 한다는 의미다.',\n",
       " '또 시민단체들은 목청 높여 이를 촉구해야 한다.',\n",
       " '선진국들은 일류 시책의 상당수가 작은 자치단체에서 창안.실험돼 전국에 확산되고 있다.',\n",
       " '창의적 정책의 주도권이 지방에 있으니 지방분권이 안될 수가 없다.',\n",
       " '또 중앙정부의 간섭이 부당하다고 생각되면 소송을 내 씨름을 벌인다.',\n",
       " '이와 함께 1950년대부터 시작된 지식사회로의 대전환이 마무리 단계에 들어가고 있는 시기다.',\n",
       " '그러나 이들이 새 밀레니엄 시대 우리 경제의 견인차가 될 것만은 분명하다.',\n",
       " '그리고 경제섹션이 증면됐음에도 불구하고 경제기사가 산재해 있는 것이 독자의 입장에서는 불편하다.',\n",
       " '즉 통화량.금리.환율.재정적자.구조조정 등에 대한 진지한 논의가 긴요한 시점이라는 얘기다.',\n",
       " '어쩌면 지금부터 5년 내에 21세기 재계의 판도가 결정될 가능성이 크다.',\n",
       " '같은 시간 창 밖의 광화문 거리엔 수많은 사람들의 환호 속에 뉴 밀레니엄 축제가 열렸다.',\n",
       " '지난 2년간 Y2K에 매달려 왔던 그들로서는 처음으로 성공 이라는 확신을 갖게된 것이다.',\n",
       " '창 밖에서 벌어지고 있는 행사는 이미 정점으로 치닫고 있었다.',\n",
       " '그 단적인 예가 1일 0시 경기도 평촌 신도시아파트에서 발생한 난방 제어기의 오.작동 사고다.',\n",
       " '반대 사례도 있다.',\n",
       " '기업이나 은행이 컴퓨터나 전산시스템을 켜고 본격적으로 일을 시작하는 3, 4일이 고비다.',\n",
       " 'Y2K 바이러스가 늘어나고 있다는 소식도 계속 들어오고 있다.',\n",
       " '99년 11월 22일부터 2호선 당산철교가 재개통되면서 하루 이용승객이 약 7만명 증가했다.',\n",
       " '지하철공사는 시민불편과 열차 정체현상이 발생하지 않도록 열차간격을 적절하게 조정토록 하겠다.',\n",
       " '어린이집에 다니는 네살 된 딸을 둔 가정주부다.',\n",
       " '딸아이는 그곳에 가기 위해 매일 통학용 승합차를 이용한다.',\n",
       " '그런데 이 차는 12인승이지만 항상 20명 가까운 원아들을 가득 태우고 운행하고 있어 불안하다.',\n",
       " '얼마전 원장과 이 문제에 대해 의논했지만 지금까지 달라진 것은 없다.',\n",
       " '어른들의 이런 무책임함이 제2, 제3의 씨랜드사고로 이어질 수도 있다.',\n",
       " 'Y2K에 대한 우려가 생각보다 적었다는 의견이 나오고 있다.',\n",
       " '이틀이나 지났지만 별다른 문제가 없으니 그럴만도 하다.',\n",
       " '그러나 인류 초유의 대실수인 Y2K의 해결은 풀코스 마라톤과 같다.',\n",
       " 'Y2K 해결은 마라톤에 비유된다.',\n",
       " '그러면 이 마라톤 대장정의 길이는 얼마일까 적어도 3개월은 지나야 한다.',\n",
       " '미국을 비롯한 선진국들이 Y2K 비상대책팀을 1분기까지 해체하지 않는 이유도 바로 여기에 있다.',\n",
       " '미국의 가트너 그룹은 1월 1일 하루동안 터질 Y2K 사고는 얼마 되지 않을 것으로 보았다.',\n",
       " '또 1년이 지나도 세계 전체기업의 60만이 Y2K 수리작업의 종점에 다다를 것으로 보고 있다.',\n",
       " 'Y2K는 정보화시대를 진입하는 출발점에서 거행하는 성인식 이다.',\n",
       " '일각에서는 정보화 부작용과 관련된 사건이 너무 과장된 것 아니냐는 지적이 있다.',\n",
       " '이런 견해를 주장하는 사람에게는 98년 7월에 터진 홍콩의 신국제공항사건의 예를 일러주고 싶다.',\n",
       " '이런 유형의 사고 특성은 아마 정보화 부문에서만 존재하는 독특한 것이 아닌가 생각된다.',\n",
       " '여기서 거북은 20세기의 상징이며 토끼는 21세기의 상징처럼 그려지고 있다.',\n",
       " '20세기에는 느린 거북이라 하더라도 성실한 자세로 빠른 토끼를 이길 수 있었다.',\n",
       " '하지만 21세기에는 낮잠을 자다가도 토끼가 스노보드를 타고 달리면 거북을 이긴다는 것이다.',\n",
       " '거북은 느리지만 성실한 노력의 표상으로, 토끼는 튀는 비약과 모험의 상징으로 묘사된다.',\n",
       " '거북이 성실한 축적과 연속성의 상징이라면 토끼는 비약과 단절의 상징인 것이다.',\n",
       " '이 우화의 묘사대로 사실 20세기는 성실한 축적을 통한 따라잡기 의 세기였다.',\n",
       " '우리 나라와 같은 후발국도 자본과 기술의 축적을 통해 선발국 따라잡기에 성공할 수 있었던 세기였다.',\n",
       " '하지만 21세기는 튀는 토끼의 비약과 모험이 없으면 성공하기 힘들게 됐다.',\n",
       " '토끼처럼 튀는 비약의 발상이 없이는 성공하기 힘들다.',\n",
       " '이러한 세기말적 전환은 18세기 말에도, 19세기 말에도 존재했었다.',\n",
       " '우리도 결코 이러한 파도의 충격에서 예외일 수는 없었다.',\n",
       " '19세기 말의 변화에 우리는 민족주의로 저항했지만 20세기 말의 변화에는 세계화로 동참했다.',\n",
       " '김대중정부는 시장경제와 민주주의의 이념을 민주화 운동과 접목시키는 데 국정의 초점을 맞추었다.',\n",
       " '토끼의 건달성을 극복하는 작업은 정치에서부터 시작되지 않으면 안된다.',\n",
       " '정치개혁의 가장 중요한 과제는 여야간에 진정한 세력균형을 이루는 일이다.',\n",
       " '김대중 정부의 지난 2년간은 여야의 튀는 건달들 간에 벌어진 밀어붙이기 와 악쓰기 의 연속이었다.',\n",
       " '정치에 대한 신뢰가 땅에 떨어지지 않을 수 없었다.',\n",
       " '김대중 정부는 비약의 이념과 운동을 등에 업고 등장했다.',\n",
       " '김대중 정부가 의도하지 않은 놀랄 만한 정치발전이 아닐 수 없다.',\n",
       " '호적등본을 떼려고 동사무소에 갔다.',\n",
       " '수수료로 1천6백원이 나왔는데 마침 잔돈이 없었다.',\n",
       " '그래서 미안하다는 말과 어 1만원짜리를 냈다.',\n",
       " '그랬더니 창구직원은 지금 사무실에 거스름 돈이 없으니 밖에 나가 돈을 바꿔오라 고 했다.',\n",
       " '물론 잔돈을 미리 준비하지 못한 나도 책임이 있다.',\n",
       " '최근 공직사회에서도 개혁의 바람이 불고 있는 것으로 안다.',\n",
       " '그러나 이같은 사소한 일 하나가 많은 공무원들의 변신의 노력을 허사로 만들기 십상이다.',\n",
       " '며칠 전 평소처럼 잔돈을 모아 우체국에 갔다.',\n",
       " '결국 나는 아이 손을 잡고 우체국을 나와 근처 은행에 가서 저금을 했다.',\n",
       " '아줌마 와 사모님 이 지난해처럼 극명하게 대비된 해도 드물 것이다.',\n",
       " '중앙일보는 2000년을 맞아 특집 여론조사를 실시했다.',\n",
       " '표본추출은 지역별 유권자비에 따라 할당추출을 실시했다.',\n",
       " 'N세대의 특징에 대한 조사는 언론사로선 처음 기획.조사한 것이다.',\n",
       " '새 천년 인류의 생존을 위협할 가장 큰 요인으로는 3명 중 2명이 환경파괴를 지목했다.',\n",
       " '1120년 은 9.1, 20년 이상은 4.5였다.',\n",
       " '14.2만이 현재 IMF 위기를 벗어났다 고 인정했다.',\n",
       " '대형 사고의 위험성에도 92.0가 심각한 수준 이라고 고개를 끄덕였다.',\n",
       " '따뜻한 인간애.프로정신.첨단기술능력.고정관념을 뒤집는 용기.창조력 등도 필요한 능력으로 꼽혔다.',\n",
       " '21세기 한국의 바람직한 미래상 을 들어 보면 국민들의 염원이 읽혀진다.',\n",
       " '새 천년이 되면 이뤄질 것으로 생각되는 것 중 첫번째는 통일이었다.',\n",
       " '본지 여론조사에 따르면 이들은 독립적이며 자신만만한 반면 이기적.비윤리적.비타협적이기도 하다.',\n",
       " '이른바 솔로형 인간 이 등장한 것이다.',\n",
       " '현실정치에는 상당히 무관심하나 전자민주화만큼은 관심이 무척 많은 세대다.',\n",
       " '과거의 투표행위를 물은 결과 반골기질이 유감없이 드러났다.',\n",
       " '현재 지역구의 현역의원이 자신이 찍어준 후보 라는 솔로형 인간은 겨우 14.8다.',\n",
       " '나머지 85.2는 찍어준 후보가 아니다 또는 관심없다모르겠다 는 반응이다.',\n",
       " '재신임 비율이 50세 이상층의 절반 수준이다.',\n",
       " '다만 흥미를 끄는 것은 솔로형 인간들의 전자투표에 대한 관심이다.',\n",
       " 'PC는 필수, 결혼은 선택이다.',\n",
       " '이들은 광적인 PC매니어인 것이다.',\n",
       " '쇼핑도 직접 쇼핑보다 인터넷.TV쇼핑이 더 편리 가 36.4였다.',\n",
       " '또한 내가 가장 중요하고, 때문에 나만을 위한 생활이 무척 중요하다.',\n",
       " '평생 얼마나 벌 수 있다고 보는가 라는 질문에는 평균 1백34.4억원을 벌 자신이 있다고 장담했다.',\n",
       " '이런 예상치는 50세 이상층의 무려 15배가 훨씬 넘는 것이다.',\n",
       " '또한 남자는 군대에 가야 한다 는 73.9로 국방에 대한 의무감도에 옅어지고 있다.',\n",
       " '그러나 가능하다면 탤런트.영화배우 등이 되고 싶다 는 항목에서는 36.5가 그렇다 고 했다.',\n",
       " '솔로형 인간의 나홀로주의를 더욱 강화시키는 것은 다름아닌 바로 PC중독증이다.',\n",
       " 'N세대의 3명 중 한명꼴이 혼자 PC를 조작하는 시간이 가장 즐겁다 고 했을 정도다.',\n",
       " '응답률이 32.0에 이른다.',\n",
       " '친구를 만나거나 운동을 즐기기보다 집에 앉아 PC를 두드리는 것이 가장 행복한 것이다.',\n",
       " 'PC를 통한 가상세계에서 친구도 대화도 즐거움도 모두 해결되는 것이다.',\n",
       " '22.1는 사이버섹스에 흥미가 있다 는 반응을 나타냈다.',\n",
       " 'PC를 통해 음란물을 실제 접해 보았다는 경험률도 37.6나 된다.',\n",
       " '기존의 인간관계.남녀관계에 대한 고정관념이 뿌리째 흔들리고 있다.',\n",
       " '게다가 솔로형 S인간의 절반 정도인 45.9가 평생 혼자 살 수도 있다 고 자신만만해 한다.',\n",
       " '하나의 평생직장을 갖고 싶다는 바람도 65.9로 50세 이상층에 비해 빠른 속도로 줄어들고 있다.',\n",
       " '여타 인간관계에서도 이런 조짐은 예외없이 나타나고 있다.',\n",
       " '당연히 이웃을 보는 시각에도 차이가 존재한다.',\n",
       " '이웃과 친하게 지내야 한다 에 89.4가 공감하긴 했으나 50세 이상층과는 그 정도가 다르다.',\n",
       " '부모의 맹목적인 희생을 고맙게 받아들이지도 않을 뿐 아니라 자신들도 희생할 자세가 돼 있지 않다.',\n",
       " '부모는 장남이 모셔야 한다 에도 21.7만이 그렇다 고 했다.',\n",
       " 'N세대가 엮을 세상이 궁금하다.',\n",
       " '처음 만난 사람과도 성관계 가능 은 21.0. 이들에게 성윤리 운운은 이미 구름잡는 소리다.',\n",
       " '또한 경제윤리도 변했다.',\n",
       " '존 내스비트는 앨빈 토플러와 더불어 미래예측 분야의 대표적 인물로 꼽힌다.',\n",
       " '신간 소개를 위해 전국을 순회 중인 내스비트와 어렵게 인터뷰를 가졌다.',\n",
       " '새 책에서 기술에 찌든 인간생활의 문제점을 지적했다.',\n",
       " '1929년 유타주 남부 글렌우드란 시골에서 출생한 존 내스비트는 독실한 모르몬교 집안에서 성장했다.',\n",
       " '그의 할아버지는 덴마크에서 이민와 모르몬교 교주 브리감 영의 제자가 됐다.',\n",
       " '모스크바대 초빙교수, 중국 난징대 교수 등을 거쳤으며 명예학위 12개를 가지고 있다.',\n",
       " '21세기에 통일은 이뤄진다.',\n",
       " '이는 시간의 문제일 뿐, 결국 남북이 하나되어 새 천년을 일궈나갈 것이다.',\n",
       " '분단은 우리에게 여러 제약을 안겨주었다.',\n",
       " '이제 구각을 깨고 낡은 멍에에서 벗어나 희망찬 통일시대를 능동적으로 열어가야 한다.',\n",
       " '중앙일보는 새 천년을 맞으면서 통일시대의 과제를 함께 생각해보는 지면을 마련한다.',\n",
       " '그러나 지금 많은 사람들은 북한 경제의 주름살이 펴져야 통일의 부담이 줄어든다고 생각한다.',\n",
       " '그러나 공장가동률 20대 라는 참담한 산업붕괴의 늪에서 탈출하기란 쉽지 않다.',\n",
       " '결국 국제사회와 한국의 협조가 필요하다.',\n",
       " '새 천년을 맞이해 평화정착에 대한 기대가 높지만 동북아의 현실은 이에 부응하지 못하고 있다.',\n",
       " '남북한 당국이 무기감축에 합의해 한반도의 두터운 냉전 얼음벽을 깨뜨려야 한다는 지적이다.',\n",
       " '그러나 한반도에서는 역사의 시계바늘이 멈춰 좀체 움직이지 않는다.',\n",
       " '평양도 이데올로기 주술에 포박돼 있기는 마찬가지다.',\n",
       " '황장엽씨는 자신이 한때 평양에서 반당적 수정주의자 로 낙인찍혀 곤경에 처했었음을 밝힌 적이 있다.',\n",
       " '그가 김일성대학 총장 시절에 쓴 사회발전의 원동력 이란 논문 때문이란다.',\n",
       " '주체사상의 대부가 수정주의자로 내몰릴 정도라면 평양의 이데올로기 갑옷의 두께를 짐작할 만하다.',\n",
       " '전문가들은 남북이 이데올로기의 멍에를 벗어던질 때 비로소 통일의 활로가 트일 것이라고 지적한다.',\n",
       " '남북한의 통일과정에서 정치.제도적 통일 못지않게 중요한 것이 사회심리적 통합이다.',\n",
       " '남북은 10여년 전 기본합의서에서 화해.협력을 약속했다.',\n",
       " '화해.협력은 당국관계만으로는 부족한 데다 그나마 늘 암초를 만난다.',\n",
       " '그래서 민간의 역할이 중요하다.',\n",
       " '그러나 반목.대결의 제로섬게임에서 벗어나는 출구가 필요하다는 점은 누구나 인정한다.',\n",
       " '지금부터의 과제는 확대 와 제도화 다.',\n",
       " '화해.협력기반을 안정적으로 만들기 위해서다.',\n",
       " '제도화는 당국의 몫이다.',\n",
       " '남북한 당국은 교류.협력에 나서는 민간의 노력을 북돋우고 틀을 정착시켜야 한다.',\n",
       " '서로 이해하는데 교류만큼 효과적인 방법은 없다.',\n",
       " '화해.협력에 참가하는 경험자가 많아져야 그 물줄기가 도도히 흐를 수 있을 것이다.',\n",
       " '서울에 온 탈북자들은 끝없는 차량행렬에 놀라고 각종 간판에 어안이 벙벙해진다.',\n",
       " '그들에게 한자도 어렵지만 외래어는 낯선 풍경이다.',\n",
       " '북한 주민들은 서구화.근대화 체험이 없어 남한의 5060년대식 정서를 갖고 있다.',\n",
       " '이 차이를 극복하자면 자주 접촉하고 교류를 갖는 것 외에 달리 방법이 없다.',\n",
       " '또 남북의 새 세대가 서로의 생활문화을 이해할 수 있게 교육환경도 개선돼야 한다.',\n",
       " '남북이 공통점을 늘려나가는 동질성 회복이 곧 통일의 밑거름이란 지적이다.',\n",
       " '한국의 해외동포는 이미 5백만명을 넘어섰다.',\n",
       " '통일을 능동적으로 준비하는 과정에서 동포사회의 응집력을 활용해야 한다는 목소리가 높다.',\n",
       " '현재 남북 사이에는 홍콩과 유사한 중개지가 없다.',\n",
       " '게다가 남북간에는 마땅한 갈등 해소방안도 정립돼 있지 않은 상황이다.',\n",
       " '특히 당국간 관계개선을 기피하고 있는 북측의 입장을 감안하면 완충역할 의 필요성은 절실하다.',\n",
       " '한민족이 21세기에 연출해 낼 최대 드라마는 통일 이 될 전망이다.',\n",
       " '새 세기를 맞으면서 한반도의 냉전체제와 분단이 존속되리라는 현상유지론은 설 자리를 잃고 있다.',\n",
       " '현상타파론과 관련, 심각한 후유증을 동반할 수 있는 급진통일을 피해야 한다고 전문가들은 지적한다.',\n",
       " '나쁜 시나리오를 피하고 좋은 시나리오를 가꿔나가야 한다는 것이다.',\n",
       " '남북한 당사자와 주변 강대국들은 속생각이야 어떻든 일단 평화적 통일을 지지한다.',\n",
       " '김대중 정부는 한반도 냉전구조 해체에 정책적 비중을 두고 있다.',\n",
       " '이것이 결국 남북한 당국관계를 회복하고 냉전해체의 기반을 마련해줄 것이라고 보는 것이다.',\n",
       " '나아가 남북은 군비통제와 병력감축에 착수하고 정전협정을 평화협정으로 대체하게 될 것이다.',\n",
       " '물론 이 과정에서 화폐통일.언어.교육.문화충돌 등 숱한 문제가 발생한다.',\n",
       " '통일비용만도 최소 2천4백69억달러에 이를 것으로 추산된다.',\n",
       " '홍콩진세근 특파원홍콩에 주둔 중인 인민해방군과 맥도널드 햄버거간 전운 이 감돌고 있다.',\n",
       " '그러나 맥도널드의 메이 탕 대변인은 광고에 나온 사람은 배우일 뿐 이라고 반박했다.',\n",
       " '즐거움이 축제의 주조였으나 각종 사건사고도 끊이지 않았다.',\n",
       " '뉴욕의 타임스 스퀘어에도 축하행사가 끝난 뒤 35t의 쓰레기가 거리에 널렸다.',\n",
       " '지구촌 한편에서는 행사금지 라는 엄명아래 조용히 새 천년을 맞은 곳도 있다.',\n",
       " '세기의 도둑 도 세기의 순간을 놓치지 않았다.',\n",
       " '정부조직도 곧 개편될 전망이다.',\n",
       " '옐친은 조기 사임 대가로 자신과 가족들의 확실한 신변보장을 약속받았다.',\n",
       " '연합희망을 담고 있기에 시작은 항상 아름답다.',\n",
       " '중국장쩌민중국 국가주석은 1일 대만에 정당간 대화와 담판을 제의했다.',\n",
       " '이번 조치는 서로 핵시설을 공격하지 않기로 한 1988년의 협정에 따른 것이다.',\n",
       " '핵시설 공격에 따른 상호 핵공격 등 파국을 막기 위한 조치다.',\n",
       " '핵보유국인 양국은 카슈미르의 영유권을 둘러싸고 오랫동안 분쟁을 벌여왔다.',\n",
       " '새 천년 첫 즈믄둥이는 뉴질랜드에서 태어났다.',\n",
       " '하지만 불행하게도 출생 직후 건강에 문제가 발견돼 치료를 받고 있다.',\n",
       " '인구가 14억명에 이르는 중국에서 1일 하룻동안 수천수만명의 아이들이 태어날 수 있기 때문이다.',\n",
       " '첫 창자첸시잉 은 후베이성 우한시에서 태어난 남아로 밝혀졌다.',\n",
       " '이 아이는 정확히 1일 0시0분17초에 새 천년 세상을 만났다.',\n",
       " '대만도 새 천년 0시에 태어난 아이들만 첸시잉으로 발표했다.',\n",
       " '대만의료협회는 2일 모두 27명의 첸시잉이 태어났다 고 밝혔다.',\n",
       " '이중 56명의 아기들은 새 천년 0시0분0초에 태어난 것으로 기록됐다.',\n",
       " '미국에서는 천년을 사이에 두고 최소한 네쌍의 쌍둥이가 태어난 것으로 보고됐다.',\n",
       " '이들 중에는 60, 70대 노인들도 적지 않았다.',\n",
       " '비디오를 통해 밖에서라도 수강할 수 있게 해달라 고 조르는 대학생도 있었다.',\n",
       " '프랑스 총리실 직속기구인 2000년 사업단이 개설한 총지식대학 이 1일 문을 열었다.',\n",
       " '생명이란 무엇인가 가 첫 강의 주제다.',\n",
       " '노벨의학상 수상자인 프랑수아 자코프 박사가 강의를 맡았다.',\n",
       " '새해 첫날부터 프랑스인들의 예상을 뛰어넘는 지식 열기 에는 주최측도 놀라는 눈치다.',\n",
       " '총지식대학 은 새 천년 맞이 기념사업의 프랑스판하이라이트다.',\n",
       " '강의내용은 책자로 정리돼 살아 있는 백과사전 으로 편찬될 예정이다.',\n",
       " '좌석이 허용하는 한 선착순 수강이며 수강료는 없다.',\n",
       " '프랑스 사람들은 에펠탑의 화려한 불꽃놀이로 새 천년을 맞았다.',\n",
       " '축제의 불꽃놀이는 두뇌에도 필요하다 는 것이 장 자크 에야공 2000년 사업단장의 말이다.',\n",
       " '충북도내 봉사활동 최장시간 기록 보유자인 이인수씨가 새해를 맞으며 밝힌 소원이다.',\n",
       " '그동안 이씨의 자원봉사 활동은 대상과 종류를 가리지 않았다.',\n",
       " '그런가 하면 98년 8월 보은 수해 때는 가옥이나 농작물 유실 현장도 누볐다.',\n",
       " '청주시 율량동에서 혼자 사는 노인을 돌본지도 올해로 9년째다.',\n",
       " '이 같은 활동을 인정받아 96년엔 국민포장을 받았다.',\n",
       " '이씨가 자원 봉사에 처음 나선 것은 이웃집 선배 언니의 비밀 을 알고부터다.',\n",
       " '틈틈이 불우시설에서 봉사한다는 사실을 어렵사리 털어놓는 선배가 왠지 멋있어 보였다.',\n",
       " '다음날로 이씨는 충북적십자사 청주부녀봉사회에 가입했다.',\n",
       " '84년부터는 부녀봉사회 총무를 맡으면서 더욱 바빠졌다.',\n",
       " '자원봉사 새내기들에게 그녀가 꼭 들려주고 싶은 말이다.',\n",
       " '지난해 9월 이동 IP서버 를 개발하는 등 이미 초동기술을 확보해놓은 상태다.',\n",
       " '새벽 12시가 정상 퇴근 시간이며 일요일.명절을 반납한지도 오래됐다.',\n",
       " '그래서 팀원 대부분이 주당 평균 90시간 이상 연구실을 지키며 연구에 몰두하고 있다.',\n",
       " '연구실은 교수가 1998년 2월 부임하면서 설립됐다.',\n",
       " '연구.개발 열기가 뜨거운 만큼 성과도 제법 알맹이가 있다.',\n",
       " '지난 2년 동안에만 국내 특허 15건, 미국.일본 등에 국제특허 2건을 출원해 놓은 상태다.',\n",
       " '연구실에서 개발한 기술을 산업계에 이전하는 작업도 활발하다.',\n",
       " '학문으로만 그치는 기술은 죽은 기술 이나 다름없다는 인식에서다.',\n",
       " '벤처기업인 MMC.미디어콤.파이온사 등이 현재 이 연구실로부터 기술을 전수받고 있다.',\n",
       " '통신정보시스템연구실의 꺼지지 않는 불빛은 새 천년 한국의 밝은 미래를 환하게 비추는 듯 하다.',\n",
       " '서울을 인간적인 도시, 한국적인 도시, 세계적인 도시로 가꾸는데 치중할 것이다.',\n",
       " '기존 시정 방향과 어긋나거나 특수 계층만의 이익을 위한 부당한 요구는 단호히 거절할 것이다.',\n",
       " '그런 생각없다. 정말 시정에 최선을 다할 생각이다.',\n",
       " ...]"
      ]
     },
     "execution_count": 316,
     "metadata": {},
     "output_type": "execute_result"
    }
   ],
   "source": [
    "clean_short"
   ]
  },
  {
   "cell_type": "code",
   "execution_count": 317,
   "metadata": {},
   "outputs": [],
   "source": [
    "ban_df_2 = pd.DataFrame(clean_short)"
   ]
  },
  {
   "cell_type": "code",
   "execution_count": 318,
   "metadata": {},
   "outputs": [
    {
     "data": {
      "text/plain": [
       "3571442"
      ]
     },
     "execution_count": 318,
     "metadata": {},
     "output_type": "execute_result"
    }
   ],
   "source": [
    "len(ban_df_2)"
   ]
  },
  {
   "cell_type": "code",
   "execution_count": 319,
   "metadata": {},
   "outputs": [],
   "source": [
    "#저장\n",
    "ban_df_2.to_csv(\"./반말(55자).txt\", encoding='utf-8-sig', header=None, index=False)"
   ]
  },
  {
   "cell_type": "code",
   "execution_count": null,
   "metadata": {},
   "outputs": [],
   "source": []
  },
  {
   "cell_type": "code",
   "execution_count": 2,
   "metadata": {},
   "outputs": [
    {
     "name": "stdout",
     "output_type": "stream",
     "text": [
      "5\n"
     ]
    },
    {
     "data": {
      "text/plain": [
       "['명사형(55자).txt', '반말(55자).txt', '의문문(55자).txt', '합쇼체(55자).txt', '해요체(55자).txt']"
      ]
     },
     "execution_count": 2,
     "metadata": {},
     "output_type": "execute_result"
    }
   ],
   "source": [
    "txt_files = listdir('./under_55')\n",
    "print(len(txt_files))\n",
    "txt_files"
   ]
  },
  {
   "cell_type": "code",
   "execution_count": 3,
   "metadata": {},
   "outputs": [
    {
     "name": "stderr",
     "output_type": "stream",
     "text": [
      "100%|████████████████████████████████████████████████████████████████████████████████████| 5/5 [00:14<00:00,  2.93s/it]\n"
     ]
    }
   ],
   "source": [
    "script_total = []\n",
    "\n",
    "for i in tqdm(txt_files, mininterval=1):\n",
    "    f = open(\"./under_55/\"+i, 'r', encoding='utf-8-sig')\n",
    "    while True:\n",
    "        line = f.readline()\n",
    "        if not line: break\n",
    "        script_total.append(line.strip('\\n'))\n",
    "    f.close()"
   ]
  },
  {
   "cell_type": "code",
   "execution_count": 4,
   "metadata": {},
   "outputs": [
    {
     "name": "stdout",
     "output_type": "stream",
     "text": [
      "7367254\n"
     ]
    },
    {
     "data": {
      "text/plain": [
       "['이모씨 피해자 서류들을 찢어버렸다고 했거든요.',\n",
       " '여기 와서 잡혀가면 그렇게 많이 투자해 가지고 잡혀서 집으로 가면 또 빚지고 사는 거에요.',\n",
       " '김정림 상인 서울 부암동 옛날보다 한두달 전부터 완전 바닥이에요.',\n",
       " '전에는 왔다갔다 했는데 요즘은 사람이 안 다녀요.',\n",
       " '서울 잠실 석촌호수에 나와있습니다 불꽃놀이가 화려하게 펼쳐지고 있군요.',\n",
       " '김경미 서울 고척동 새해는 새로운 직장에 취직했는데 일 열심히 했으면 좋겠구요.',\n",
       " '가족 모두 건강하고 행복했으면 좋겠습니다 김민구 경기 광명 가족 모두 건강하구요.',\n",
       " '이 모씨 피의자 한 삼천만원 가지면 셋이 일천만원씩 나눠가질수 있잖아요.',\n",
       " '피해자 낮에 미리 만져놔서 미리 작업을 해놓았던 거예요.',\n",
       " '송영돈 충남 당진군 집옆에 내린 눈은 못먹을 거 같은데 여기서는 먹어도 될 거 같아요.']"
      ]
     },
     "execution_count": 4,
     "metadata": {},
     "output_type": "execute_result"
    }
   ],
   "source": [
    "print(len(script_total))\n",
    "script_total[-10:]"
   ]
  },
  {
   "cell_type": "code",
   "execution_count": 10,
   "metadata": {},
   "outputs": [],
   "source": [
    "script_sel = []\n",
    "\n",
    "for i in script_total:\n",
    "    if len(i) > 20:\n",
    "        script_sel.append(i)\n",
    "    else:\n",
    "        pass"
   ]
  },
  {
   "cell_type": "code",
   "execution_count": 11,
   "metadata": {},
   "outputs": [
    {
     "name": "stdout",
     "output_type": "stream",
     "text": [
      "5799194\n"
     ]
    },
    {
     "data": {
      "text/plain": [
       "['그보다 더 큰 황금맥은 지난 수십년간 일본 민영 TV방송국들이 만들어왔던 프로그램들.',\n",
       " '소속팀의 대표지역이 다른 게 별거 이유.',\n",
       " '평소 믿고 따르던 동네 아저씨로부터 성폭행과 추행에 시달리길 구년여.',\n",
       " '책 인간동물의 공존이유 맛깔스럽게 설명',\n",
       " '4일 기준환율은 전날보다 34.50원 오른 1천4백45.10원.',\n",
       " '물, 물좀 다오 강렬한 카리스마와 연기력 덕분에 회장님 전문이라 불리는 배우! 이덕화씨!',\n",
       " '불어버린 컵라면과 비스킷이 놓인 제단.',\n",
       " '생산업체 관계자로부터 해당 상품에 대해 객관적인 설명을 이끌어 내는 인터뷰 능력.',\n",
       " '대표적 사례가 한국과의 8강전서 김무교, 류지혜를 잇따라 꺾은 일본의 고야마 지레.',\n",
       " '수상 작품은 금상에 지하철사령실, 은상에 월성성당, 동상에 알리앙스예식장.']"
      ]
     },
     "execution_count": 11,
     "metadata": {},
     "output_type": "execute_result"
    }
   ],
   "source": [
    "print(len(script_sel))\n",
    "script_sel[:10]"
   ]
  },
  {
   "cell_type": "code",
   "execution_count": 12,
   "metadata": {},
   "outputs": [
    {
     "name": "stderr",
     "output_type": "stream",
     "text": [
      "\n",
      "  0%|                                                                                      | 0/5799194 [00:00<?, ?it/s]\n",
      " 43%|█████████████████████████████                                      | 2515256/5799194 [00:01<00:01, 2514583.33it/s]\n",
      "100%|███████████████████████████████████████████████████████████████████| 5799194/5799194 [00:02<00:00, 2600634.94it/s]\n"
     ]
    }
   ],
   "source": [
    "script_sel_2 = []\n",
    "\n",
    "for i in tqdm(script_sel, mininterval=1):\n",
    "    if len(i) < 50:\n",
    "        script_sel_2.append(i)\n",
    "    else:\n",
    "        pass"
   ]
  },
  {
   "cell_type": "code",
   "execution_count": 13,
   "metadata": {},
   "outputs": [
    {
     "name": "stdout",
     "output_type": "stream",
     "text": [
      "4660563\n"
     ]
    },
    {
     "data": {
      "text/plain": [
       "['그보다 더 큰 황금맥은 지난 수십년간 일본 민영 TV방송국들이 만들어왔던 프로그램들.',\n",
       " '소속팀의 대표지역이 다른 게 별거 이유.',\n",
       " '평소 믿고 따르던 동네 아저씨로부터 성폭행과 추행에 시달리길 구년여.',\n",
       " '책 인간동물의 공존이유 맛깔스럽게 설명',\n",
       " '4일 기준환율은 전날보다 34.50원 오른 1천4백45.10원.',\n",
       " '물, 물좀 다오 강렬한 카리스마와 연기력 덕분에 회장님 전문이라 불리는 배우! 이덕화씨!',\n",
       " '불어버린 컵라면과 비스킷이 놓인 제단.',\n",
       " '생산업체 관계자로부터 해당 상품에 대해 객관적인 설명을 이끌어 내는 인터뷰 능력.',\n",
       " '대표적 사례가 한국과의 8강전서 김무교, 류지혜를 잇따라 꺾은 일본의 고야마 지레.',\n",
       " '수상 작품은 금상에 지하철사령실, 은상에 월성성당, 동상에 알리앙스예식장.']"
      ]
     },
     "execution_count": 13,
     "metadata": {},
     "output_type": "execute_result"
    }
   ],
   "source": [
    "print(len(script_sel_2))\n",
    "script_sel_2[:10]"
   ]
  },
  {
   "cell_type": "code",
   "execution_count": 14,
   "metadata": {},
   "outputs": [],
   "source": [
    "script_df = pd.DataFrame(script_sel_2)"
   ]
  },
  {
   "cell_type": "code",
   "execution_count": 15,
   "metadata": {},
   "outputs": [],
   "source": [
    "script_df.to_csv(\"script.txt\", encoding='utf-8-sig', header=None, index=False)"
   ]
  },
  {
   "cell_type": "code",
   "execution_count": null,
   "metadata": {},
   "outputs": [],
   "source": []
  },
  {
   "cell_type": "code",
   "execution_count": null,
   "metadata": {},
   "outputs": [],
   "source": []
  },
  {
   "cell_type": "code",
   "execution_count": 2,
   "metadata": {},
   "outputs": [],
   "source": [
    "hapsho = pd.read_csv('./under_55/합쇼체(55자).txt', sep='\\n', header=None)\n",
    "yo = pd.read_csv('./under_55/해요체(55자).txt', sep='\\n', header=None)\n",
    "que = pd.read_csv('./under_55/의문문(55자).txt', sep='\\n', header=None)\n",
    "noun = pd.read_csv('./under_55/명사형(55자).txt', sep='\\n', header=None)\n",
    "ban = pd.read_csv('./under_55/반말(55자).txt', sep='\\n', header=None)"
   ]
  },
  {
   "cell_type": "code",
   "execution_count": 8,
   "metadata": {},
   "outputs": [
    {
     "name": "stderr",
     "output_type": "stream",
     "text": [
      "100%|███████████████████████████████████████████████████████████████████| 2639397/2639397 [00:01<00:00, 2166287.54it/s]\n"
     ]
    }
   ],
   "source": [
    "hapsho_sel = []\n",
    "\n",
    "for i in tqdm(hapsho[0], mininterval=1):\n",
    "    if len(i) > 15:\n",
    "        hapsho_sel.append(i)\n",
    "    else:\n",
    "        pass"
   ]
  },
  {
   "cell_type": "code",
   "execution_count": 9,
   "metadata": {},
   "outputs": [
    {
     "data": {
      "text/plain": [
       "['21세기와 새 밀레니엄은 엄밀히 말해 서기 2001년부터입니다.',\n",
       " '서 예수가 태어난 해를 AD1년으로 규정했기 때문입니다.',\n",
       " '따라서 AD 1세기는 1년에서 100년까지이며, 20세기도 1901년에서 2000년까지입니다.',\n",
       " '또 첫 밀레니엄은 서기 1000년까지, 두번째 밀레니엄은 2000년까지입니다.',\n",
       " '21세기로 맞추자 이런 주제를 다룹니다']"
      ]
     },
     "execution_count": 9,
     "metadata": {},
     "output_type": "execute_result"
    }
   ],
   "source": [
    "hapsho_sel[:5]"
   ]
  },
  {
   "cell_type": "code",
   "execution_count": 10,
   "metadata": {},
   "outputs": [],
   "source": [
    "hapsho_df = pd.DataFrame(hapsho_sel)"
   ]
  },
  {
   "cell_type": "code",
   "execution_count": 11,
   "metadata": {},
   "outputs": [],
   "source": [
    "hapsho_df.to_csv(\"합쇼체(55자).txt\", encoding='utf-8-sig', header=None, index=False)"
   ]
  },
  {
   "cell_type": "code",
   "execution_count": 12,
   "metadata": {},
   "outputs": [
    {
     "name": "stderr",
     "output_type": "stream",
     "text": [
      "100%|█████████████████████████████████████████████████████████████████████| 230477/230477 [00:00<00:00, 2044253.33it/s]\n"
     ]
    }
   ],
   "source": [
    "yo_sel = []\n",
    "\n",
    "for i in tqdm(yo[0], mininterval=1):\n",
    "    if len(i) > 15:\n",
    "        yo_sel.append(i)\n",
    "    else:\n",
    "        pass"
   ]
  },
  {
   "cell_type": "code",
   "execution_count": 13,
   "metadata": {},
   "outputs": [],
   "source": [
    "yo_df = pd.DataFrame(yo_sel)"
   ]
  },
  {
   "cell_type": "code",
   "execution_count": 14,
   "metadata": {},
   "outputs": [],
   "source": [
    "yo_df.to_csv(\"해요체(55자).txt\", encoding='utf-8-sig', header=None, index=False)"
   ]
  },
  {
   "cell_type": "code",
   "execution_count": 15,
   "metadata": {},
   "outputs": [
    {
     "name": "stderr",
     "output_type": "stream",
     "text": [
      "100%|███████████████████████████████████████████████████████████████████████| 88675/88675 [00:00<00:00, 2067851.13it/s]\n"
     ]
    }
   ],
   "source": [
    "que_sel = []\n",
    "\n",
    "for i in tqdm(que[0], mininterval=1):\n",
    "    if len(i) > 15:\n",
    "        que_sel.append(i)\n",
    "    else:\n",
    "        pass"
   ]
  },
  {
   "cell_type": "code",
   "execution_count": 16,
   "metadata": {},
   "outputs": [],
   "source": [
    "que_df = pd.DataFrame(que_sel)"
   ]
  },
  {
   "cell_type": "code",
   "execution_count": 17,
   "metadata": {},
   "outputs": [],
   "source": [
    "que_df.to_csv(\"의문문(55자).txt\", encoding='utf-8-sig', header=None, index=False)"
   ]
  },
  {
   "cell_type": "code",
   "execution_count": 18,
   "metadata": {},
   "outputs": [
    {
     "name": "stderr",
     "output_type": "stream",
     "text": [
      "100%|█████████████████████████████████████████████████████████████████████| 837260/837260 [00:00<00:00, 2142718.62it/s]\n"
     ]
    }
   ],
   "source": [
    "noun_sel = []\n",
    "\n",
    "for i in tqdm(noun[0], mininterval=1):\n",
    "    if len(i) > 15:\n",
    "        noun_sel.append(i)\n",
    "    else:\n",
    "        pass"
   ]
  },
  {
   "cell_type": "code",
   "execution_count": 19,
   "metadata": {},
   "outputs": [],
   "source": [
    "noun_df = pd.DataFrame(noun_sel)"
   ]
  },
  {
   "cell_type": "code",
   "execution_count": 20,
   "metadata": {},
   "outputs": [],
   "source": [
    "noun_df.to_csv(\"명사형(55자).txt\", encoding='utf-8-sig', header=None, index=False)"
   ]
  },
  {
   "cell_type": "code",
   "execution_count": 21,
   "metadata": {},
   "outputs": [
    {
     "name": "stderr",
     "output_type": "stream",
     "text": [
      "100%|███████████████████████████████████████████████████████████████████| 3571435/3571435 [00:01<00:00, 1955762.55it/s]\n"
     ]
    }
   ],
   "source": [
    "ban_sel = []\n",
    "\n",
    "for i in tqdm(ban[0], mininterval=1):\n",
    "    if len(i) > 15:\n",
    "        ban_sel.append(i)\n",
    "    else:\n",
    "        pass"
   ]
  },
  {
   "cell_type": "code",
   "execution_count": 22,
   "metadata": {},
   "outputs": [],
   "source": [
    "ban_df = pd.DataFrame(ban_sel)"
   ]
  },
  {
   "cell_type": "code",
   "execution_count": 23,
   "metadata": {},
   "outputs": [],
   "source": [
    "ban_df.to_csv(\"반말(55자).txt\", encoding='utf-8-sig', header=None, index=False)"
   ]
  },
  {
   "cell_type": "code",
   "execution_count": null,
   "metadata": {},
   "outputs": [],
   "source": []
  }
 ],
 "metadata": {
  "kernelspec": {
   "display_name": "Python 3",
   "language": "python",
   "name": "python3"
  },
  "language_info": {
   "codemirror_mode": {
    "name": "ipython",
    "version": 3
   },
   "file_extension": ".py",
   "mimetype": "text/x-python",
   "name": "python",
   "nbconvert_exporter": "python",
   "pygments_lexer": "ipython3",
   "version": "3.7.4"
  }
 },
 "nbformat": 4,
 "nbformat_minor": 4
}
