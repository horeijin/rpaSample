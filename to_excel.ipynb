{
 "cells": [
  {
   "cell_type": "code",
   "execution_count": 1,
   "metadata": {},
   "outputs": [],
   "source": [
    "import pandas as pd\n",
    "import openpyxl as xl"
   ]
  },
  {
   "cell_type": "code",
   "execution_count": 23,
   "metadata": {},
   "outputs": [],
   "source": [
    "df_nobom = pd.read_csv('./raw/21년7월/210713.tsv', sep='\\t', header=None)"
   ]
  },
  {
   "cell_type": "code",
   "execution_count": 24,
   "metadata": {},
   "outputs": [
    {
     "data": {
      "text/html": [
       "<div>\n",
       "<style scoped>\n",
       "    .dataframe tbody tr th:only-of-type {\n",
       "        vertical-align: middle;\n",
       "    }\n",
       "\n",
       "    .dataframe tbody tr th {\n",
       "        vertical-align: top;\n",
       "    }\n",
       "\n",
       "    .dataframe thead th {\n",
       "        text-align: right;\n",
       "    }\n",
       "</style>\n",
       "<table border=\"1\" class=\"dataframe\">\n",
       "  <thead>\n",
       "    <tr style=\"text-align: right;\">\n",
       "      <th></th>\n",
       "      <th>0</th>\n",
       "      <th>1</th>\n",
       "      <th>2</th>\n",
       "    </tr>\n",
       "  </thead>\n",
       "  <tbody>\n",
       "    <tr>\n",
       "      <td>0</td>\n",
       "      <td>2021-07-13 00:00:24.63 +0900 KST</td>\n",
       "      <td>NC_Celeb/CrtSeongmin</td>\n",
       "      <td>안녕! 나야아~. 이렇게라도 목소리 들려줄 수 있으니까, 좋다~.</td>\n",
       "    </tr>\n",
       "    <tr>\n",
       "      <td>1</td>\n",
       "      <td>2021-07-13 00:00:48.569 +0900 KST</td>\n",
       "      <td>NC_Celeb/TbzYounghoon</td>\n",
       "      <td>잘 준비는 다 했어요?</td>\n",
       "    </tr>\n",
       "    <tr>\n",
       "      <td>2</td>\n",
       "      <td>2021-07-13 00:00:49.79 +0900 KST</td>\n",
       "      <td>NC_Celeb/TbzYounghoon</td>\n",
       "      <td>혹시 오늘 못끝낸 일이 있다면 그건 내일의 우리에게 맡겨요!. 오늘은 얼른 자요!</td>\n",
       "    </tr>\n",
       "    <tr>\n",
       "      <td>3</td>\n",
       "      <td>2021-07-13 00:00:55.482 +0900 KST</td>\n",
       "      <td>NC_Celeb/CrtSeongmin</td>\n",
       "      <td>잘 잤어? 난 오늘 좀 더 자야겠다. 너무 졸려</td>\n",
       "    </tr>\n",
       "    <tr>\n",
       "      <td>4</td>\n",
       "      <td>2021-07-13 00:00:56.629 +0900 KST</td>\n",
       "      <td>NC_Celeb/CrtSeongmin</td>\n",
       "      <td>다음을 위해 오늘은 이만 끊어야겠다. 다음에 다시 걸게!</td>\n",
       "    </tr>\n",
       "  </tbody>\n",
       "</table>\n",
       "</div>"
      ],
      "text/plain": [
       "                                   0                      1  \\\n",
       "0   2021-07-13 00:00:24.63 +0900 KST   NC_Celeb/CrtSeongmin   \n",
       "1  2021-07-13 00:00:48.569 +0900 KST  NC_Celeb/TbzYounghoon   \n",
       "2   2021-07-13 00:00:49.79 +0900 KST  NC_Celeb/TbzYounghoon   \n",
       "3  2021-07-13 00:00:55.482 +0900 KST   NC_Celeb/CrtSeongmin   \n",
       "4  2021-07-13 00:00:56.629 +0900 KST   NC_Celeb/CrtSeongmin   \n",
       "\n",
       "                                               2  \n",
       "0           안녕! 나야아~. 이렇게라도 목소리 들려줄 수 있으니까, 좋다~.  \n",
       "1                                   잘 준비는 다 했어요?  \n",
       "2  혹시 오늘 못끝낸 일이 있다면 그건 내일의 우리에게 맡겨요!. 오늘은 얼른 자요!  \n",
       "3                     잘 잤어? 난 오늘 좀 더 자야겠다. 너무 졸려  \n",
       "4                다음을 위해 오늘은 이만 끊어야겠다. 다음에 다시 걸게!  "
      ]
     },
     "execution_count": 24,
     "metadata": {},
     "output_type": "execute_result"
    }
   ],
   "source": [
    "df_nobom.head()"
   ]
  },
  {
   "cell_type": "code",
   "execution_count": 25,
   "metadata": {},
   "outputs": [],
   "source": [
    "df_nobom.to_excel(\"210713.xlsx\", encoding='utf-8-fig', header=None)"
   ]
  },
  {
   "cell_type": "code",
   "execution_count": null,
   "metadata": {},
   "outputs": [],
   "source": []
  },
  {
   "cell_type": "code",
   "execution_count": null,
   "metadata": {},
   "outputs": [],
   "source": []
  }
 ],
 "metadata": {
  "kernelspec": {
   "display_name": "Python 3",
   "language": "python",
   "name": "python3"
  },
  "language_info": {
   "codemirror_mode": {
    "name": "ipython",
    "version": 3
   },
   "file_extension": ".py",
   "mimetype": "text/x-python",
   "name": "python",
   "nbconvert_exporter": "python",
   "pygments_lexer": "ipython3",
   "version": "3.7.4"
  }
 },
 "nbformat": 4,
 "nbformat_minor": 4
}
