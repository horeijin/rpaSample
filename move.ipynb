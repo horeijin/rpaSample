{
 "cells": [
  {
   "cell_type": "code",
   "execution_count": 1,
   "metadata": {},
   "outputs": [],
   "source": [
    "import os\n",
    "import pandas as pd\n",
    "from tqdm import tqdm\n",
    "import gzip\n",
    "from os import listdir\n",
    "from os.path import isfile, join\n",
    "from chardet import detect\n",
    "import re\n",
    "import numpy as np\n",
    "import shutil"
   ]
  },
  {
   "cell_type": "code",
   "execution_count": 7,
   "metadata": {},
   "outputs": [],
   "source": [
    "data_path = './resemble_wav/vctk/'"
   ]
  },
  {
   "cell_type": "code",
   "execution_count": 8,
   "metadata": {},
   "outputs": [
    {
     "name": "stdout",
     "output_type": "stream",
     "text": [
      "46\n"
     ]
    },
    {
     "data": {
      "text/plain": [
       "['p226', 'p227', 'p232', 'p237', 'p241']"
      ]
     },
     "execution_count": 8,
     "metadata": {},
     "output_type": "execute_result"
    }
   ],
   "source": [
    "files = listdir(data_path)\n",
    "print(len(files))\n",
    "files[:5]"
   ]
  },
  {
   "cell_type": "code",
   "execution_count": 9,
   "metadata": {},
   "outputs": [
    {
     "name": "stderr",
     "output_type": "stream",
     "text": [
      "100%|█████████████████████████████████████████████████████████████████████████████████| 46/46 [00:00<00:00, 109.04it/s]\n"
     ]
    }
   ],
   "source": [
    "for i in tqdm(files, mininterval=0.01):\n",
    "    path = data_path + i\n",
    "    file_li = listdir(path)\n",
    "    for j in file_li:\n",
    "        if j[-5] == \"6\":\n",
    "            des_path = './sum'\n",
    "            os.rename(path+'/'+j, des_path+'/'+j)\n",
    "        else:\n",
    "            pass"
   ]
  },
  {
   "cell_type": "code",
   "execution_count": 11,
   "metadata": {},
   "outputs": [
    {
     "name": "stdout",
     "output_type": "stream",
     "text": [
      "282\n"
     ]
    },
    {
     "data": {
      "text/plain": [
       "['hwansaengpyosa 100hwa - singalnamu.docx',\n",
       " 'hwansaengpyosa 101hwa - singalnamu.docx',\n",
       " 'hwansaengpyosa 102hwa - singalnamu.docx',\n",
       " 'hwansaengpyosa 103hwa - singalnamu.docx',\n",
       " 'hwansaengpyosa 104hwa - singalnamu.docx']"
      ]
     },
     "execution_count": 11,
     "metadata": {},
     "output_type": "execute_result"
    }
   ],
   "source": [
    "print(len(mov_files))\n",
    "mov_files[:5]"
   ]
  },
  {
   "cell_type": "code",
   "execution_count": null,
   "metadata": {},
   "outputs": [],
   "source": [
    "for i in tqdm(spk_files, mininterval=1):\n",
    "    txt_path = data_path + i\n",
    "    txt_li = listdir(txt_path)\n",
    "    for j in txt_li:\n",
    "        shutil.copy(txt_path+'/'+j, data_path+'/all_txt/'+j)"
   ]
  },
  {
   "cell_type": "code",
   "execution_count": null,
   "metadata": {},
   "outputs": [],
   "source": [
    "for movfi in mov_files:\n",
    "    print('copy file : ' + oPath + ' 에 있는 ' + movfi + ' ---> ' + nPath + '로 복사!')\n",
    "    shutil.copy(oPath +'\\'+movfi, nPath +'\\'+movfi)"
   ]
  }
 ],
 "metadata": {
  "kernelspec": {
   "display_name": "Python 3",
   "language": "python",
   "name": "python3"
  },
  "language_info": {
   "codemirror_mode": {
    "name": "ipython",
    "version": 3
   },
   "file_extension": ".py",
   "mimetype": "text/x-python",
   "name": "python",
   "nbconvert_exporter": "python",
   "pygments_lexer": "ipython3",
   "version": "3.7.4"
  }
 },
 "nbformat": 4,
 "nbformat_minor": 4
}
