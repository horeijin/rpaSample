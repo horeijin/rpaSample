{
 "cells": [
  {
   "cell_type": "code",
   "execution_count": 1,
   "metadata": {},
   "outputs": [],
   "source": [
    "import os\n",
    "import pandas as pd\n",
    "from tqdm import tqdm\n",
    "from os import listdir\n",
    "from os.path import isfile, join\n",
    "import re\n",
    "import numpy as np"
   ]
  },
  {
   "cell_type": "code",
   "execution_count": 2,
   "metadata": {},
   "outputs": [
    {
     "name": "stdout",
     "output_type": "stream",
     "text": [
      "30\n"
     ]
    },
    {
     "data": {
      "text/plain": [
       "'210501.xlsx'"
      ]
     },
     "execution_count": 2,
     "metadata": {},
     "output_type": "execute_result"
    }
   ],
   "source": [
    "csv_files = listdir('./excel/5월/')\n",
    "print(len(csv_files))\n",
    "csv_files[0]"
   ]
  },
  {
   "cell_type": "code",
   "execution_count": 3,
   "metadata": {},
   "outputs": [],
   "source": [
    "df_li = []\n",
    "\n",
    "for i in csv_files:\n",
    "    df = pd.read_excel('./excel/5월/'+i, index=False, header=None)\n",
    "    df_new = df[[2,3]]\n",
    "    df_li.append(df_new)"
   ]
  },
  {
   "cell_type": "code",
   "execution_count": 4,
   "metadata": {},
   "outputs": [],
   "source": [
    "df_acc = pd.concat(df_li, ignore_index=True)"
   ]
  },
  {
   "cell_type": "code",
   "execution_count": 5,
   "metadata": {},
   "outputs": [
    {
     "data": {
      "text/html": [
       "<div>\n",
       "<style scoped>\n",
       "    .dataframe tbody tr th:only-of-type {\n",
       "        vertical-align: middle;\n",
       "    }\n",
       "\n",
       "    .dataframe tbody tr th {\n",
       "        vertical-align: top;\n",
       "    }\n",
       "\n",
       "    .dataframe thead th {\n",
       "        text-align: right;\n",
       "    }\n",
       "</style>\n",
       "<table border=\"1\" class=\"dataframe\">\n",
       "  <thead>\n",
       "    <tr style=\"text-align: right;\">\n",
       "      <th></th>\n",
       "      <th>2</th>\n",
       "      <th>3</th>\n",
       "    </tr>\n",
       "  </thead>\n",
       "  <tbody>\n",
       "    <tr>\n",
       "      <td>0</td>\n",
       "      <td>NC_Celeb/MxIm</td>\n",
       "      <td>지원</td>\n",
       "    </tr>\n",
       "    <tr>\n",
       "      <td>1</td>\n",
       "      <td>NC_Celeb/TbzJuyeon</td>\n",
       "      <td>모린</td>\n",
       "    </tr>\n",
       "    <tr>\n",
       "      <td>2</td>\n",
       "      <td>NC_Celeb/MxIm</td>\n",
       "      <td>그래도 하품 한번 하고나면 잠이 달아나더라구요! 신기해요.</td>\n",
       "    </tr>\n",
       "    <tr>\n",
       "      <td>3</td>\n",
       "      <td>NC_Celeb/AstMoonbin</td>\n",
       "      <td>뭔가 몸이 굳은 느낌이야~ 얼른 기지개 쭈욱 켜고 하루를 시작해보자. 활기찬 하루 ...</td>\n",
       "    </tr>\n",
       "    <tr>\n",
       "      <td>4</td>\n",
       "      <td>NC_Celeb/TbzHaknyeon</td>\n",
       "      <td>오늘 하루도 되게 피곤했을텐데 먼저 자!</td>\n",
       "    </tr>\n",
       "    <tr>\n",
       "      <td>...</td>\n",
       "      <td>...</td>\n",
       "      <td>...</td>\n",
       "    </tr>\n",
       "    <tr>\n",
       "      <td>35131</td>\n",
       "      <td>NC_Celeb/TbzJuyeon</td>\n",
       "      <td>잘 지내고 있었죠~?</td>\n",
       "    </tr>\n",
       "    <tr>\n",
       "      <td>35132</td>\n",
       "      <td>NC_Celeb/TbzJuyeon</td>\n",
       "      <td>저도 연습하느라 힘들었어요. 그래도 더 열심히 해서 멋진 모습 보여줄게요!</td>\n",
       "    </tr>\n",
       "    <tr>\n",
       "      <td>35133</td>\n",
       "      <td>NC_Celeb/MxIm</td>\n",
       "      <td>수빈이</td>\n",
       "    </tr>\n",
       "    <tr>\n",
       "      <td>35134</td>\n",
       "      <td>NC_Celeb/TbzSunwoo</td>\n",
       "      <td>복숭누나</td>\n",
       "    </tr>\n",
       "    <tr>\n",
       "      <td>35135</td>\n",
       "      <td>NC_Celeb/DrpDongyun</td>\n",
       "      <td>시그누나</td>\n",
       "    </tr>\n",
       "  </tbody>\n",
       "</table>\n",
       "<p>35136 rows × 2 columns</p>\n",
       "</div>"
      ],
      "text/plain": [
       "                          2                                                  3\n",
       "0             NC_Celeb/MxIm                                                 지원\n",
       "1        NC_Celeb/TbzJuyeon                                                 모린\n",
       "2             NC_Celeb/MxIm                   그래도 하품 한번 하고나면 잠이 달아나더라구요! 신기해요.\n",
       "3       NC_Celeb/AstMoonbin  뭔가 몸이 굳은 느낌이야~ 얼른 기지개 쭈욱 켜고 하루를 시작해보자. 활기찬 하루 ...\n",
       "4      NC_Celeb/TbzHaknyeon                             오늘 하루도 되게 피곤했을텐데 먼저 자!\n",
       "...                     ...                                                ...\n",
       "35131    NC_Celeb/TbzJuyeon                                        잘 지내고 있었죠~?\n",
       "35132    NC_Celeb/TbzJuyeon          저도 연습하느라 힘들었어요. 그래도 더 열심히 해서 멋진 모습 보여줄게요!\n",
       "35133         NC_Celeb/MxIm                                                수빈이\n",
       "35134    NC_Celeb/TbzSunwoo                                               복숭누나\n",
       "35135   NC_Celeb/DrpDongyun                                               시그누나\n",
       "\n",
       "[35136 rows x 2 columns]"
      ]
     },
     "execution_count": 5,
     "metadata": {},
     "output_type": "execute_result"
    }
   ],
   "source": [
    "df_acc"
   ]
  },
  {
   "cell_type": "code",
   "execution_count": 6,
   "metadata": {},
   "outputs": [],
   "source": [
    "df_acc.to_excel('./5월취합_모듬.xlsx')"
   ]
  },
  {
   "cell_type": "code",
   "execution_count": null,
   "metadata": {},
   "outputs": [],
   "source": []
  }
 ],
 "metadata": {
  "kernelspec": {
   "display_name": "Python 3",
   "language": "python",
   "name": "python3"
  },
  "language_info": {
   "codemirror_mode": {
    "name": "ipython",
    "version": 3
   },
   "file_extension": ".py",
   "mimetype": "text/x-python",
   "name": "python",
   "nbconvert_exporter": "python",
   "pygments_lexer": "ipython3",
   "version": "3.7.4"
  }
 },
 "nbformat": 4,
 "nbformat_minor": 4
}
