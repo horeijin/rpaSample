{
 "cells": [
  {
   "cell_type": "code",
   "execution_count": 1,
   "metadata": {},
   "outputs": [],
   "source": [
    "import os\n",
    "import pandas as pd\n",
    "from tqdm import tqdm\n",
    "import gzip\n",
    "from os import listdir\n",
    "from os.path import isfile, join\n",
    "from chardet import detect\n",
    "import re\n",
    "import numpy as np\n",
    "import shutil"
   ]
  },
  {
   "cell_type": "code",
   "execution_count": 2,
   "metadata": {},
   "outputs": [
    {
     "name": "stdout",
     "output_type": "stream",
     "text": [
      "109\n"
     ]
    },
    {
     "data": {
      "text/plain": [
       "['p225', 'p226', 'p227', 'p228', 'p229']"
      ]
     },
     "execution_count": 2,
     "metadata": {},
     "output_type": "execute_result"
    }
   ],
   "source": [
    "### txt 폴더 안 폴더 개수 \n",
    "spk_files = listdir('./VCTK-Corpus-0.92/txt')\n",
    "print(len(spk_files))\n",
    "spk_files[:5]"
   ]
  },
  {
   "cell_type": "code",
   "execution_count": 52,
   "metadata": {},
   "outputs": [
    {
     "name": "stdout",
     "output_type": "stream",
     "text": [
      "109\n"
     ]
    },
    {
     "data": {
      "text/plain": [
       "['p225', 'p226', 'p227', 'p228', 'p229']"
      ]
     },
     "execution_count": 52,
     "metadata": {},
     "output_type": "execute_result"
    }
   ],
   "source": [
    "### wav 폴더 안 폴더 개수 \n",
    "### wav 폴더 안 폴더 개수가 txt 보다 하나 더 많아서 한 개 제거\n",
    "wav_files = listdir('./VCTK-Corpus-0.92/wav48_silence_trimmed')\n",
    "print(len(wav_files))\n",
    "wav_files[:5]"
   ]
  },
  {
   "cell_type": "code",
   "execution_count": 53,
   "metadata": {},
   "outputs": [],
   "source": [
    "data_path = './VCTK-Corpus-0.92/wav48_silence_trimmed/'"
   ]
  },
  {
   "cell_type": "code",
   "execution_count": 54,
   "metadata": {},
   "outputs": [],
   "source": [
    "# wav 파일 mic1, mic2 분류\n",
    "for i in wav_files:\n",
    "    wav_path = data_path + i\n",
    "    file_li = listdir(wav_path)\n",
    "    for j in file_li:\n",
    "        split_name = j.split('.')[0]\n",
    "        num = split_name[-1]\n",
    "        if num == '1':\n",
    "            des_path_1 = wav_path + '/mic1'\n",
    "            if not os.path.exists(des_path_1):\n",
    "                os.makedirs(des_path_1)\n",
    "            os.rename(wav_path +'/' +j, des_path_1 +'/' +j)\n",
    "        else:\n",
    "            des_path_2 = wav_path + '/mic2'\n",
    "            if not os.path.exists(des_path_2):\n",
    "                os.makedirs(des_path_2)\n",
    "            os.rename(wav_path +'/' +j, des_path_2 +'/' +j)"
   ]
  },
  {
   "cell_type": "code",
   "execution_count": 61,
   "metadata": {},
   "outputs": [],
   "source": [
    "import shutil"
   ]
  },
  {
   "cell_type": "code",
   "execution_count": 62,
   "metadata": {},
   "outputs": [],
   "source": [
    "data_path = './VCTK-Corpus-0.92/txt/'"
   ]
  },
  {
   "cell_type": "code",
   "execution_count": 63,
   "metadata": {},
   "outputs": [
    {
     "name": "stderr",
     "output_type": "stream",
     "text": [
      "100%|████████████████████████████████████████████████████████████████████████████████| 109/109 [03:45<00:00,  2.07s/it]\n"
     ]
    }
   ],
   "source": [
    "for i in tqdm(spk_files, mininterval=1):\n",
    "    txt_path = data_path + i\n",
    "    txt_li = listdir(txt_path)\n",
    "    for j in txt_li:\n",
    "        shutil.copy(txt_path+'/'+j, data_path+'/all_txt/'+j)"
   ]
  },
  {
   "cell_type": "code",
   "execution_count": 67,
   "metadata": {},
   "outputs": [],
   "source": [
    "data_path = './VCTK-Corpus-0.92/wav48_silence_trimmed/'"
   ]
  },
  {
   "cell_type": "code",
   "execution_count": 69,
   "metadata": {},
   "outputs": [
    {
     "name": "stderr",
     "output_type": "stream",
     "text": [
      "100%|████████████████████████████████████████████████████████████████████████████████| 109/109 [06:20<00:00,  3.49s/it]\n"
     ]
    }
   ],
   "source": [
    "for i in tqdm(spk_files, mininterval=1):\n",
    "    wav_path = data_path + i + '/mic1'\n",
    "    wav_li = listdir(wav_path)\n",
    "    for j in wav_li:\n",
    "        shutil.copy(wav_path+'/'+j, data_path+'/all_wav/'+j)"
   ]
  },
  {
   "cell_type": "code",
   "execution_count": 70,
   "metadata": {},
   "outputs": [
    {
     "name": "stdout",
     "output_type": "stream",
     "text": [
      "44583\n"
     ]
    },
    {
     "data": {
      "text/plain": [
       "['p225_001.txt',\n",
       " 'p225_002.txt',\n",
       " 'p225_003.txt',\n",
       " 'p225_004.txt',\n",
       " 'p225_005.txt']"
      ]
     },
     "execution_count": 70,
     "metadata": {},
     "output_type": "execute_result"
    }
   ],
   "source": [
    "txt_files = listdir('./VCTK-Corpus-0.92/txt/all_txt')\n",
    "print(len(txt_files))\n",
    "txt_files[:5]"
   ]
  },
  {
   "cell_type": "code",
   "execution_count": 71,
   "metadata": {},
   "outputs": [
    {
     "name": "stdout",
     "output_type": "stream",
     "text": [
      "44283\n"
     ]
    },
    {
     "data": {
      "text/plain": [
       "['p225_001_mic1.flac',\n",
       " 'p225_002_mic1.flac',\n",
       " 'p225_003_mic1.flac',\n",
       " 'p225_004_mic1.flac',\n",
       " 'p225_005_mic1.flac']"
      ]
     },
     "execution_count": 71,
     "metadata": {},
     "output_type": "execute_result"
    }
   ],
   "source": [
    "wav_files = listdir('./VCTK-Corpus-0.92/wav48_silence_trimmed/all_wav')\n",
    "print(len(wav_files))\n",
    "wav_files[:5]"
   ]
  },
  {
   "cell_type": "code",
   "execution_count": 72,
   "metadata": {},
   "outputs": [],
   "source": [
    "txt_files_df =  pd.DataFrame(txt_files)\n",
    "wav_files_df =  pd.DataFrame(wav_files)"
   ]
  },
  {
   "cell_type": "code",
   "execution_count": 73,
   "metadata": {},
   "outputs": [],
   "source": [
    "txt_files_df.to_csv(\"./텍스트.csv\", encoding='utf-8-sig', header=None, index=False)\n",
    "wav_files_df.to_csv(\"./오디오.csv\", encoding='utf-8-sig', header=None, index=False)"
   ]
  },
  {
   "cell_type": "code",
   "execution_count": 74,
   "metadata": {},
   "outputs": [
    {
     "name": "stdout",
     "output_type": "stream",
     "text": [
      "44283\n"
     ]
    },
    {
     "data": {
      "text/plain": [
       "['p225_001.txt',\n",
       " 'p225_002.txt',\n",
       " 'p225_003.txt',\n",
       " 'p225_004.txt',\n",
       " 'p225_005.txt']"
      ]
     },
     "execution_count": 74,
     "metadata": {},
     "output_type": "execute_result"
    }
   ],
   "source": [
    "all_txt_files = listdir('./VCTK-Corpus-0.92/txt/all_txt')\n",
    "print(len(all_txt_files))\n",
    "all_txt_files[:5]"
   ]
  },
  {
   "cell_type": "code",
   "execution_count": 77,
   "metadata": {},
   "outputs": [
    {
     "name": "stderr",
     "output_type": "stream",
     "text": [
      "100%|███████████████████████████████████████████████████████████████████████████| 44283/44283 [02:36<00:00, 282.78it/s]\n"
     ]
    }
   ],
   "source": [
    "all_txt = []\n",
    "\n",
    "for i in tqdm(all_txt_files, mininterval=1):\n",
    "    f = open('./VCTK-Corpus-0.92/txt/all_txt/' + i, 'r')\n",
    "    while True:\n",
    "        line = f.readline()\n",
    "        if not line: break\n",
    "        all_txt.append(line.strip('\\n'))\n",
    "    f.close()"
   ]
  },
  {
   "cell_type": "code",
   "execution_count": 78,
   "metadata": {},
   "outputs": [
    {
     "name": "stdout",
     "output_type": "stream",
     "text": [
      "44283\n"
     ]
    },
    {
     "data": {
      "text/plain": [
       "['Please call Stella.',\n",
       " 'Ask her to bring these things with her from the store.',\n",
       " 'Six spoons of fresh snow peas, five thick slabs of blue cheese, and maybe a snack for her brother Bob.',\n",
       " 'We also need a small plastic snake and a big toy frog for the kids.',\n",
       " 'She can scoop these things into three red bags, and we will go meet her Wednesday at the train station.']"
      ]
     },
     "execution_count": 78,
     "metadata": {},
     "output_type": "execute_result"
    }
   ],
   "source": [
    "print(len(all_txt))\n",
    "all_txt[:5]"
   ]
  },
  {
   "cell_type": "code",
   "execution_count": 79,
   "metadata": {},
   "outputs": [],
   "source": [
    "all_txt_df = pd.DataFrame(all_txt)"
   ]
  },
  {
   "cell_type": "code",
   "execution_count": 80,
   "metadata": {},
   "outputs": [],
   "source": [
    "all_txt_df.to_csv(\"./vctk_text.csv\", encoding='utf-8-sig', header=None, index=False)"
   ]
  },
  {
   "cell_type": "code",
   "execution_count": 1,
   "metadata": {},
   "outputs": [],
   "source": [
    "txt_path = './vctk_text.xlsx'"
   ]
  },
  {
   "cell_type": "code",
   "execution_count": 2,
   "metadata": {},
   "outputs": [],
   "source": [
    "import openpyxl as xl\n",
    "import json\n",
    "from collections import OrderedDict"
   ]
  },
  {
   "cell_type": "code",
   "execution_count": 4,
   "metadata": {},
   "outputs": [],
   "source": [
    "wb = xl.load_workbook(txt_path)\n",
    "ws = wb.active"
   ]
  },
  {
   "cell_type": "code",
   "execution_count": 5,
   "metadata": {},
   "outputs": [
    {
     "name": "stdout",
     "output_type": "stream",
     "text": [
      "44283\n"
     ]
    },
    {
     "data": {
      "text/plain": [
       "'p225_001_mic1.flac'"
      ]
     },
     "execution_count": 5,
     "metadata": {},
     "output_type": "execute_result"
    }
   ],
   "source": [
    "files = listdir('./VCTK-Corpus-0.92/wav48_silence_trimmed/all_wav')\n",
    "print(len(files))\n",
    "files[0]"
   ]
  },
  {
   "cell_type": "code",
   "execution_count": 6,
   "metadata": {},
   "outputs": [],
   "source": [
    "def clean_text(text):\n",
    "    pattern = '(\\.flac)$'\n",
    "    text = re.sub(pattern=pattern, repl='', string=text)\n",
    "    text = text.strip()\n",
    "    text = \" \".join(text.split())\n",
    "    return text  "
   ]
  },
  {
   "cell_type": "code",
   "execution_count": 7,
   "metadata": {},
   "outputs": [],
   "source": [
    "wav_files = []\n",
    "\n",
    "for i in files:\n",
    "    j = \"English/VCTK/item/\" + i\n",
    "    k = clean_text(j)\n",
    "    wav_files.append(k)"
   ]
  },
  {
   "cell_type": "code",
   "execution_count": 8,
   "metadata": {},
   "outputs": [
    {
     "data": {
      "text/plain": [
       "'English/VCTK/item/p225_001_mic1'"
      ]
     },
     "execution_count": 8,
     "metadata": {},
     "output_type": "execute_result"
    }
   ],
   "source": [
    "wav_files[0]"
   ]
  },
  {
   "cell_type": "code",
   "execution_count": 9,
   "metadata": {},
   "outputs": [],
   "source": [
    "json_data = OrderedDict()"
   ]
  },
  {
   "cell_type": "code",
   "execution_count": 10,
   "metadata": {},
   "outputs": [],
   "source": [
    "for r in ws.rows:\n",
    "        if str(r[0].value).isalpha():\n",
    "            continue\n",
    "        if r[0].value is not None:\n",
    "            json_data[wav_files[r[0].value-1]] = r[2].value"
   ]
  },
  {
   "cell_type": "code",
   "execution_count": 12,
   "metadata": {},
   "outputs": [],
   "source": [
    "with open('vctk_alignment.json', 'w', encoding=\"utf-8\") as make_file:\n",
    "        json.dump(json_data, make_file, ensure_ascii=False, indent=\"\\t\")"
   ]
  },
  {
   "cell_type": "code",
   "execution_count": null,
   "metadata": {},
   "outputs": [],
   "source": []
  },
  {
   "cell_type": "code",
   "execution_count": 2,
   "metadata": {},
   "outputs": [],
   "source": [
    "### 화자별로 jason 따로 만들기"
   ]
  },
  {
   "cell_type": "code",
   "execution_count": 11,
   "metadata": {},
   "outputs": [],
   "source": [
    "### 화자별로 wav 나누기"
   ]
  },
  {
   "cell_type": "code",
   "execution_count": 33,
   "metadata": {},
   "outputs": [
    {
     "ename": "FileNotFoundError",
     "evalue": "[WinError 3] 지정된 경로를 찾을 수 없습니다: './VCTK-Corpus-0.92/화자별/wav/all_wav'",
     "output_type": "error",
     "traceback": [
      "\u001b[1;31m---------------------------------------------------------------------------\u001b[0m",
      "\u001b[1;31mFileNotFoundError\u001b[0m                         Traceback (most recent call last)",
      "\u001b[1;32m<ipython-input-33-5f85af50ef07>\u001b[0m in \u001b[0;36m<module>\u001b[1;34m\u001b[0m\n\u001b[1;32m----> 1\u001b[1;33m \u001b[0mwav_files\u001b[0m \u001b[1;33m=\u001b[0m \u001b[0mlistdir\u001b[0m\u001b[1;33m(\u001b[0m\u001b[1;34m'./VCTK-Corpus-0.92/화자별/wav/all_wav'\u001b[0m\u001b[1;33m)\u001b[0m\u001b[1;33m\u001b[0m\u001b[1;33m\u001b[0m\u001b[0m\n\u001b[0m\u001b[0;32m      2\u001b[0m \u001b[0mprint\u001b[0m\u001b[1;33m(\u001b[0m\u001b[0mlen\u001b[0m\u001b[1;33m(\u001b[0m\u001b[0mwav_files\u001b[0m\u001b[1;33m)\u001b[0m\u001b[1;33m)\u001b[0m\u001b[1;33m\u001b[0m\u001b[1;33m\u001b[0m\u001b[0m\n\u001b[0;32m      3\u001b[0m \u001b[0mwav_files\u001b[0m\u001b[1;33m[\u001b[0m\u001b[1;33m:\u001b[0m\u001b[1;36m5\u001b[0m\u001b[1;33m]\u001b[0m\u001b[1;33m\u001b[0m\u001b[1;33m\u001b[0m\u001b[0m\n",
      "\u001b[1;31mFileNotFoundError\u001b[0m: [WinError 3] 지정된 경로를 찾을 수 없습니다: './VCTK-Corpus-0.92/화자별/wav/all_wav'"
     ]
    }
   ],
   "source": [
    "wav_files = listdir('./VCTK-Corpus-0.92/화자별/wav/all_wav')\n",
    "print(len(wav_files))\n",
    "wav_files[:5]"
   ]
  },
  {
   "cell_type": "code",
   "execution_count": 4,
   "metadata": {},
   "outputs": [],
   "source": [
    "data_path = './VCTK-Corpus-0.92/화자별/wav/'"
   ]
  },
  {
   "cell_type": "code",
   "execution_count": 6,
   "metadata": {},
   "outputs": [],
   "source": [
    "speaker_li = []\n",
    "\n",
    "for i in wav_files:\n",
    "    split_name = i.split('.')[0]\n",
    "    speaker = split_name[:4]\n",
    "    speaker_li.append(speaker)"
   ]
  },
  {
   "cell_type": "code",
   "execution_count": 8,
   "metadata": {},
   "outputs": [
    {
     "name": "stdout",
     "output_type": "stream",
     "text": [
      "108\n"
     ]
    }
   ],
   "source": [
    "my_set = set(speaker_li)\n",
    "speaker_li_edit = list(my_set)\n",
    "print(len(speaker_li_edit))"
   ]
  },
  {
   "cell_type": "code",
   "execution_count": 10,
   "metadata": {},
   "outputs": [],
   "source": [
    "for i in wav_files:\n",
    "    split_name = i.split('.')[0]\n",
    "    speaker = split_name[:4]\n",
    "    for j in speaker_li_edit:\n",
    "        if speaker == j:\n",
    "            des_path_1 = data_path + '/' + j\n",
    "            if not os.path.exists(des_path_1):\n",
    "                os.makedirs(des_path_1)\n",
    "            os.rename(data_path +'all_wav/'+i, des_path_1+'/'+i)"
   ]
  },
  {
   "cell_type": "code",
   "execution_count": 12,
   "metadata": {},
   "outputs": [],
   "source": [
    "### 화자별로 txt 나누기"
   ]
  },
  {
   "cell_type": "code",
   "execution_count": 14,
   "metadata": {},
   "outputs": [
    {
     "name": "stdout",
     "output_type": "stream",
     "text": [
      "43885\n"
     ]
    },
    {
     "data": {
      "text/plain": [
       "['p225_001.txt',\n",
       " 'p225_002.txt',\n",
       " 'p225_003.txt',\n",
       " 'p225_004.txt',\n",
       " 'p225_005.txt']"
      ]
     },
     "execution_count": 14,
     "metadata": {},
     "output_type": "execute_result"
    }
   ],
   "source": [
    "txt_files = listdir('./VCTK-Corpus-0.92/화자별/txt/all_txt')\n",
    "print(len(txt_files))\n",
    "txt_files[:5]"
   ]
  },
  {
   "cell_type": "code",
   "execution_count": 15,
   "metadata": {},
   "outputs": [],
   "source": [
    "data_path = './VCTK-Corpus-0.92/화자별/txt/'"
   ]
  },
  {
   "cell_type": "code",
   "execution_count": 16,
   "metadata": {},
   "outputs": [],
   "source": [
    "for i in txt_files:\n",
    "    split_name = i.split('.')[0]\n",
    "    speaker = split_name[:4]\n",
    "    for j in speaker_li_edit:\n",
    "        if speaker == j:\n",
    "            des_path_2 = data_path + '/' + j\n",
    "            if not os.path.exists(des_path_2):\n",
    "                os.makedirs(des_path_2)\n",
    "            os.rename(data_path +'all_txt/'+i, des_path_2+'/'+i)"
   ]
  },
  {
   "cell_type": "code",
   "execution_count": 17,
   "metadata": {},
   "outputs": [
    {
     "name": "stdout",
     "output_type": "stream",
     "text": [
      "109\n"
     ]
    }
   ],
   "source": [
    "speakers = listdir('./VCTK-Corpus-0.92/화자별/txt/')\n",
    "print(len(speakers))"
   ]
  },
  {
   "cell_type": "code",
   "execution_count": 34,
   "metadata": {},
   "outputs": [
    {
     "name": "stderr",
     "output_type": "stream",
     "text": [
      "\n",
      "  0%|                                                                                          | 0/109 [00:00<?, ?it/s]\n",
      "  1%|▊                                                                                 | 1/109 [00:24<44:09, 24.54s/it]\n",
      "  2%|█▌                                                                                | 2/109 [01:04<52:07, 29.23s/it]\n",
      "  3%|██▎                                                                               | 3/109 [01:47<59:02, 33.42s/it]\n",
      "  4%|██▉                                                                             | 4/109 [02:28<1:02:26, 35.68s/it]\n",
      "  5%|███▋                                                                            | 5/109 [03:09<1:04:21, 37.13s/it]\n",
      "  6%|████▍                                                                           | 6/109 [03:51<1:06:30, 38.74s/it]\n",
      "  6%|█████▏                                                                          | 7/109 [04:40<1:11:07, 41.83s/it]\n",
      "  7%|█████▊                                                                          | 8/109 [05:24<1:11:32, 42.50s/it]\n",
      "  8%|██████▌                                                                         | 9/109 [06:04<1:09:24, 41.65s/it]\n",
      "  9%|███████▏                                                                       | 10/109 [06:42<1:06:49, 40.50s/it]\n",
      " 10%|███████▉                                                                       | 11/109 [07:35<1:12:15, 44.24s/it]\n",
      " 11%|████████▋                                                                      | 12/109 [08:11<1:07:32, 41.78s/it]\n",
      " 12%|█████████▍                                                                     | 13/109 [09:00<1:10:19, 43.95s/it]\n",
      " 13%|██████████▏                                                                    | 14/109 [09:56<1:15:24, 47.62s/it]\n",
      " 14%|██████████▊                                                                    | 15/109 [10:37<1:11:34, 45.68s/it]\n",
      " 15%|███████████▌                                                                   | 16/109 [11:15<1:07:16, 43.40s/it]\n",
      " 16%|████████████▎                                                                  | 17/109 [11:58<1:06:16, 43.22s/it]\n",
      " 17%|█████████████                                                                  | 18/109 [12:43<1:06:22, 43.76s/it]\n",
      " 17%|█████████████▊                                                                 | 19/109 [13:21<1:02:56, 41.96s/it]\n",
      " 18%|██████████████▍                                                                | 20/109 [14:00<1:00:53, 41.05s/it]\n",
      " 19%|███████████████▏                                                               | 21/109 [14:51<1:04:49, 44.20s/it]\n",
      " 20%|███████████████▉                                                               | 22/109 [15:31<1:02:16, 42.95s/it]\n",
      " 21%|█████████████████                                                                | 23/109 [16:07<58:10, 40.59s/it]\n",
      " 22%|█████████████████▍                                                             | 24/109 [17:01<1:03:29, 44.82s/it]\n",
      " 23%|██████████████████                                                             | 25/109 [17:40<1:00:23, 43.14s/it]\n",
      " 24%|██████████████████▊                                                            | 26/109 [18:25<1:00:12, 43.52s/it]\n",
      " 25%|████████████████████                                                             | 27/109 [19:06<58:24, 42.74s/it]\n",
      " 26%|████████████████████▊                                                            | 28/109 [19:49<57:54, 42.89s/it]\n",
      " 27%|█████████████████████▌                                                           | 29/109 [20:31<56:51, 42.64s/it]\n",
      " 28%|██████████████████████▎                                                          | 30/109 [21:05<52:37, 39.97s/it]\n",
      " 28%|███████████████████████                                                          | 31/109 [21:53<54:59, 42.30s/it]\n",
      " 29%|███████████████████████▊                                                         | 32/109 [22:37<55:09, 42.98s/it]\n",
      " 30%|████████████████████████▌                                                        | 33/109 [23:29<57:56, 45.74s/it]\n",
      " 31%|█████████████████████████▎                                                       | 34/109 [24:07<54:03, 43.25s/it]\n",
      " 32%|██████████████████████████                                                       | 35/109 [24:58<56:25, 45.74s/it]\n",
      " 33%|██████████████████████████▊                                                      | 36/109 [25:41<54:29, 44.79s/it]\n",
      " 34%|███████████████████████████▍                                                     | 37/109 [26:31<55:49, 46.52s/it]\n",
      " 35%|████████████████████████████▏                                                    | 38/109 [27:25<57:32, 48.63s/it]\n",
      " 36%|████████████████████████████▉                                                    | 39/109 [28:03<52:50, 45.29s/it]\n",
      " 37%|█████████████████████████████▋                                                   | 40/109 [28:48<52:02, 45.26s/it]\n",
      " 38%|██████████████████████████████▍                                                  | 41/109 [29:35<52:01, 45.90s/it]\n",
      " 39%|███████████████████████████████▏                                                 | 42/109 [30:21<51:18, 45.95s/it]\n",
      " 39%|███████████████████████████████▉                                                 | 43/109 [31:07<50:35, 45.99s/it]\n",
      " 40%|████████████████████████████████▋                                                | 44/109 [32:01<52:18, 48.29s/it]\n",
      " 41%|█████████████████████████████████▍                                               | 45/109 [32:52<52:28, 49.19s/it]\n",
      " 42%|██████████████████████████████████▏                                              | 46/109 [33:38<50:29, 48.09s/it]\n",
      " 43%|██████████████████████████████████▉                                              | 47/109 [34:27<49:55, 48.32s/it]\n",
      " 44%|███████████████████████████████████▋                                             | 48/109 [35:19<50:13, 49.41s/it]\n",
      " 45%|████████████████████████████████████▍                                            | 49/109 [36:04<48:13, 48.22s/it]\n",
      " 46%|█████████████████████████████████████▏                                           | 50/109 [36:54<48:00, 48.82s/it]\n",
      " 47%|█████████████████████████████████████▉                                           | 51/109 [37:45<47:47, 49.44s/it]\n",
      " 48%|██████████████████████████████████████▋                                          | 52/109 [38:35<47:03, 49.54s/it]\n",
      " 49%|███████████████████████████████████████▍                                         | 53/109 [39:24<46:13, 49.53s/it]\n",
      " 50%|████████████████████████████████████████▏                                        | 54/109 [40:15<45:37, 49.77s/it]\n",
      " 50%|████████████████████████████████████████▊                                        | 55/109 [41:11<46:40, 51.86s/it]\n",
      " 51%|█████████████████████████████████████████▌                                       | 56/109 [41:55<43:44, 49.52s/it]\n",
      " 52%|██████████████████████████████████████████▎                                      | 57/109 [42:53<44:53, 51.79s/it]\n",
      " 53%|███████████████████████████████████████████                                      | 58/109 [43:45<44:06, 51.90s/it]\n",
      " 54%|███████████████████████████████████████████▊                                     | 59/109 [44:34<42:35, 51.11s/it]\n",
      " 55%|████████████████████████████████████████████▌                                    | 60/109 [45:32<43:18, 53.04s/it]\n",
      " 56%|█████████████████████████████████████████████▎                                   | 61/109 [46:23<42:02, 52.55s/it]\n",
      " 57%|██████████████████████████████████████████████                                   | 62/109 [47:13<40:31, 51.73s/it]\n",
      " 58%|██████████████████████████████████████████████▊                                  | 63/109 [48:03<39:19, 51.30s/it]\n",
      " 59%|███████████████████████████████████████████████▌                                 | 64/109 [48:52<37:57, 50.61s/it]\n",
      " 60%|████████████████████████████████████████████████▎                                | 65/109 [49:43<37:15, 50.82s/it]\n",
      " 61%|█████████████████████████████████████████████████                                | 66/109 [50:35<36:37, 51.10s/it]\n",
      " 61%|█████████████████████████████████████████████████▊                               | 67/109 [51:26<35:48, 51.14s/it]\n",
      " 62%|██████████████████████████████████████████████████▌                              | 68/109 [52:16<34:39, 50.72s/it]\n",
      " 63%|███████████████████████████████████████████████████▎                             | 69/109 [53:05<33:32, 50.31s/it]\n",
      " 64%|████████████████████████████████████████████████████                             | 70/109 [53:54<32:19, 49.73s/it]\n",
      " 65%|████████████████████████████████████████████████████▊                            | 71/109 [54:43<31:18, 49.44s/it]\n",
      " 66%|█████████████████████████████████████████████████████▌                           | 72/109 [55:18<27:54, 45.27s/it]\n",
      " 67%|██████████████████████████████████████████████████████▏                          | 73/109 [56:01<26:46, 44.63s/it]\n",
      " 68%|██████████████████████████████████████████████████████▉                          | 74/109 [56:54<27:25, 47.03s/it]\n",
      " 69%|███████████████████████████████████████████████████████▋                         | 75/109 [57:45<27:17, 48.16s/it]\n",
      " 70%|████████████████████████████████████████████████████████▍                        | 76/109 [58:26<25:24, 46.18s/it]\n",
      " 71%|█████████████████████████████████████████████████████████▏                       | 77/109 [59:17<25:24, 47.63s/it]\n",
      " 72%|████████████████████████████████████████████████████████▌                      | 78/109 [1:00:06<24:43, 47.86s/it]\n",
      " 72%|█████████████████████████████████████████████████████████▎                     | 79/109 [1:00:54<24:00, 48.01s/it]\n",
      " 73%|█████████████████████████████████████████████████████████▉                     | 80/109 [1:01:44<23:26, 48.49s/it]\n",
      " 74%|██████████████████████████████████████████████████████████▋                    | 81/109 [1:02:33<22:44, 48.73s/it]\n",
      " 75%|███████████████████████████████████████████████████████████▍                   | 82/109 [1:03:21<21:47, 48.43s/it]\n",
      " 76%|████████████████████████████████████████████████████████████▏                  | 83/109 [1:04:08<20:52, 48.16s/it]\n",
      " 77%|████████████████████████████████████████████████████████████▉                  | 84/109 [1:04:53<19:41, 47.24s/it]\n",
      " 78%|█████████████████████████████████████████████████████████████▌                 | 85/109 [1:05:44<19:17, 48.22s/it]\n",
      " 79%|██████████████████████████████████████████████████████████████▎                | 86/109 [1:06:32<18:30, 48.29s/it]\n",
      " 80%|███████████████████████████████████████████████████████████████                | 87/109 [1:07:20<17:38, 48.11s/it]\n",
      " 81%|███████████████████████████████████████████████████████████████▊               | 88/109 [1:08:07<16:40, 47.65s/it]\n",
      " 82%|████████████████████████████████████████████████████████████████▌              | 89/109 [1:08:55<15:58, 47.95s/it]\n",
      " 83%|█████████████████████████████████████████████████████████████████▏             | 90/109 [1:09:41<15:00, 47.38s/it]\n",
      " 83%|█████████████████████████████████████████████████████████████████▉             | 91/109 [1:10:30<14:19, 47.76s/it]\n",
      " 84%|██████████████████████████████████████████████████████████████████▋            | 92/109 [1:11:18<13:34, 47.93s/it]\n",
      " 85%|███████████████████████████████████████████████████████████████████▍           | 93/109 [1:12:06<12:44, 47.81s/it]\n",
      " 86%|████████████████████████████████████████████████████████████████████▏          | 94/109 [1:12:53<11:54, 47.61s/it]\n",
      " 87%|████████████████████████████████████████████████████████████████████▊          | 95/109 [1:13:40<11:06, 47.62s/it]\n",
      " 88%|█████████████████████████████████████████████████████████████████████▌         | 96/109 [1:14:30<10:27, 48.25s/it]\n",
      " 89%|██████████████████████████████████████████████████████████████████████▎        | 97/109 [1:15:16<09:31, 47.59s/it]\n",
      " 90%|███████████████████████████████████████████████████████████████████████        | 98/109 [1:16:00<08:29, 46.35s/it]\n",
      " 91%|███████████████████████████████████████████████████████████████████████▊       | 99/109 [1:16:44<07:38, 45.83s/it]\n",
      " 92%|███████████████████████████████████████████████████████████████████████▌      | 100/109 [1:17:32<06:57, 46.34s/it]\n",
      " 93%|████████████████████████████████████████████████████████████████████████▎     | 101/109 [1:18:20<06:14, 46.80s/it]\n",
      " 94%|████████████████████████████████████████████████████████████████████████▉     | 102/109 [1:19:07<05:29, 47.08s/it]\n",
      " 94%|█████████████████████████████████████████████████████████████████████████▋    | 103/109 [1:19:55<04:43, 47.32s/it]\n",
      " 95%|██████████████████████████████████████████████████████████████████████████▍   | 104/109 [1:20:08<03:04, 36.97s/it]\n",
      " 96%|███████████████████████████████████████████████████████████████████████████▏  | 105/109 [1:20:57<02:42, 40.56s/it]\n",
      " 97%|███████████████████████████████████████████████████████████████████████████▊  | 106/109 [1:21:31<01:55, 38.64s/it]\n",
      " 98%|████████████████████████████████████████████████████████████████████████████▌ | 107/109 [1:22:20<01:23, 41.67s/it]\n",
      " 99%|█████████████████████████████████████████████████████████████████████████████▎| 108/109 [1:23:08<00:43, 43.55s/it]\n",
      "100%|██████████████████████████████████████████████████████████████████████████████| 109/109 [1:23:56<00:00, 46.20s/it]\n"
     ]
    }
   ],
   "source": [
    "for i in tqdm(speakers, mininterval=1):\n",
    "    speaker_path = './VCTK-Corpus-0.92/화자별/txt/'+i\n",
    "    file_li = listdir(speaker_path)\n",
    "    txt_li = []\n",
    "    for j in file_li:\n",
    "        f = open(speaker_path+'/'+j, 'r')\n",
    "        while True:\n",
    "            line = f.readline()\n",
    "            if not line: break\n",
    "            txt_li.append(line.strip('\\n'))\n",
    "        f.close()\n",
    "        df = pd.DataFrame(txt_li)\n",
    "        df.to_excel(\"./VCTK-Corpus-0.92/화자별/excel/\"+i+\"_text.xlsx\", encoding='utf-8-sig', header=None, index=False)"
   ]
  },
  {
   "cell_type": "code",
   "execution_count": 2,
   "metadata": {},
   "outputs": [],
   "source": [
    "import openpyxl as xl\n",
    "import json\n",
    "from collections import OrderedDict"
   ]
  },
  {
   "cell_type": "code",
   "execution_count": 3,
   "metadata": {},
   "outputs": [],
   "source": [
    "data_path = './VCTK-Corpus-0.92/화자별/'"
   ]
  },
  {
   "cell_type": "code",
   "execution_count": 4,
   "metadata": {},
   "outputs": [],
   "source": [
    "excel_files = listdir(data_path+'excel/')"
   ]
  },
  {
   "cell_type": "code",
   "execution_count": 5,
   "metadata": {},
   "outputs": [
    {
     "name": "stdout",
     "output_type": "stream",
     "text": [
      "109\n",
      "['p225_text.xlsx', 'p226_text.xlsx', 'p227_text.xlsx', 'p228_text.xlsx', 'p229_text.xlsx']\n"
     ]
    }
   ],
   "source": [
    "print(len(excel_files))\n",
    "print(excel_files[:5])"
   ]
  },
  {
   "cell_type": "code",
   "execution_count": 6,
   "metadata": {},
   "outputs": [],
   "source": [
    "speakers = listdir(data_path+'wav/')"
   ]
  },
  {
   "cell_type": "code",
   "execution_count": 7,
   "metadata": {},
   "outputs": [],
   "source": [
    "#def clean_text(text):\n",
    "    #pattern = '(\\.wav)$'\n",
    "    #text = re.sub(pattern=pattern, repl='', string=text)\n",
    "    #text = text.strip()\n",
    "    #text = \" \".join(text.split())\n",
    "    #return text  "
   ]
  },
  {
   "cell_type": "code",
   "execution_count": 8,
   "metadata": {},
   "outputs": [
    {
     "name": "stdout",
     "output_type": "stream",
     "text": [
      "109\n",
      "['p225', 'p226', 'p227', 'p228', 'p229']\n"
     ]
    }
   ],
   "source": [
    "print(len(speakers))\n",
    "print(speakers[:5])"
   ]
  },
  {
   "cell_type": "code",
   "execution_count": 9,
   "metadata": {},
   "outputs": [],
   "source": [
    "def clean_text(text):\n",
    "    pattern = '(\\.wav)$'\n",
    "    text = re.sub(pattern=pattern, repl='', string=text)\n",
    "    text = text.strip()\n",
    "    text = \" \".join(text.split())\n",
    "    return text   "
   ]
  },
  {
   "cell_type": "code",
   "execution_count": 10,
   "metadata": {},
   "outputs": [
    {
     "name": "stderr",
     "output_type": "stream",
     "text": [
      "100%|████████████████████████████████████████████████████████████████████████████████| 109/109 [00:07<00:00, 15.57it/s]\n"
     ]
    }
   ],
   "source": [
    "for i in  tqdm(excel_files, mininterval=1):\n",
    "    split_name = i.split('_')[0]\n",
    "    json_data = {}\n",
    "    for j in speakers:\n",
    "        if split_name == j:\n",
    "            wb = xl.load_workbook(data_path+'excel/'+i)\n",
    "            ws = wb.active\n",
    "            wav_files = listdir(data_path+'wav/'+j)\n",
    "            wav_li =[]\n",
    "            for p in wav_files:\n",
    "                q = \"VCTK/\"+j+\"/item/\"+p\n",
    "                k = clean_text(q)\n",
    "                wav_li.append(k)\n",
    "            json_data = OrderedDict()\n",
    "            for r in ws.rows:\n",
    "                if str(r[0].value).isalpha():\n",
    "                    continue\n",
    "                if r[0].value is not None:\n",
    "                    json_data[wav_li[r[0].value-1]] = r[1].value\n",
    "            with open('vctk-'+j+'_alignment.json', 'w', encoding=\"utf-8\") as make_file:\n",
    "                json.dump(json_data, make_file, ensure_ascii=False, indent=\"\\t\")"
   ]
  },
  {
   "cell_type": "code",
   "execution_count": null,
   "metadata": {},
   "outputs": [],
   "source": []
  },
  {
   "cell_type": "code",
   "execution_count": null,
   "metadata": {},
   "outputs": [],
   "source": []
  },
  {
   "cell_type": "code",
   "execution_count": null,
   "metadata": {},
   "outputs": [],
   "source": []
  },
  {
   "cell_type": "code",
   "execution_count": null,
   "metadata": {},
   "outputs": [],
   "source": []
  },
  {
   "cell_type": "code",
   "execution_count": null,
   "metadata": {},
   "outputs": [],
   "source": []
  }
 ],
 "metadata": {
  "kernelspec": {
   "display_name": "Python 3",
   "language": "python",
   "name": "python3"
  },
  "language_info": {
   "codemirror_mode": {
    "name": "ipython",
    "version": 3
   },
   "file_extension": ".py",
   "mimetype": "text/x-python",
   "name": "python",
   "nbconvert_exporter": "python",
   "pygments_lexer": "ipython3",
   "version": "3.7.4"
  }
 },
 "nbformat": 4,
 "nbformat_minor": 4
}
