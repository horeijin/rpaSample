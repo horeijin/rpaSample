{
 "cells": [
  {
   "cell_type": "code",
   "execution_count": 1,
   "metadata": {},
   "outputs": [],
   "source": [
    "import os\n",
    "import pandas as pd\n",
    "from tqdm import tqdm\n",
    "from os import listdir\n",
    "from os.path import isfile, join\n",
    "import re\n",
    "import numpy as np\n",
    "import shutil\n",
    "\n",
    "import openpyxl as xl\n",
    "import json\n",
    "from collections import OrderedDict\n",
    "import soundfile as sf"
   ]
  },
  {
   "cell_type": "code",
   "execution_count": null,
   "metadata": {},
   "outputs": [],
   "source": [
    "# 텍스트 파일 없는 DB 텍스트 추출"
   ]
  },
  {
   "cell_type": "code",
   "execution_count": 56,
   "metadata": {},
   "outputs": [
    {
     "name": "stdin",
     "output_type": "stream",
     "text": [
      " SnuMaleSadSplit\n"
     ]
    }
   ],
   "source": [
    "# 추출할 화자 입력\n",
    "input_value = input()"
   ]
  },
  {
   "cell_type": "code",
   "execution_count": 57,
   "metadata": {},
   "outputs": [],
   "source": [
    "data_path = './SNU/'+input_value"
   ]
  },
  {
   "cell_type": "code",
   "execution_count": 58,
   "metadata": {},
   "outputs": [],
   "source": [
    "with open(data_path+'/v0/alignment.json') as json_file:\n",
    "    json_data = json.load(json_file)"
   ]
  },
  {
   "cell_type": "code",
   "execution_count": 59,
   "metadata": {},
   "outputs": [],
   "source": [
    "def clean_text(text):\n",
    "    pattern = '(\\.wav)$'\n",
    "    text = re.sub(pattern=pattern, repl='', string=text)\n",
    "    text = text.strip()\n",
    "    text = \" \".join(text.split())\n",
    "    return text  "
   ]
  },
  {
   "cell_type": "code",
   "execution_count": 60,
   "metadata": {},
   "outputs": [],
   "source": [
    "files = listdir(data_path+'/v0/wavs')"
   ]
  },
  {
   "cell_type": "code",
   "execution_count": 61,
   "metadata": {},
   "outputs": [],
   "source": [
    "fname_li = []\n",
    "\n",
    "for i in files:\n",
    "    i = clean_text(i)\n",
    "    # female은 전체, male은 split 제외한 경우 \n",
    "    #path = 'SNU/'+input_value+'/item/'+i\n",
    "    # male에서 split된 경우\n",
    "    path = 'SNU/'+'SnuMaleSad'+'/item/'+i\n",
    "    fname_li.append(path)"
   ]
  },
  {
   "cell_type": "code",
   "execution_count": 62,
   "metadata": {},
   "outputs": [
    {
     "data": {
      "text/plain": [
       "'내가 당신을 모르면 당신을 찾지도 않을테고'"
      ]
     },
     "execution_count": 62,
     "metadata": {},
     "output_type": "execute_result"
    }
   ],
   "source": [
    "json_data[fname_li[0]]"
   ]
  },
  {
   "cell_type": "code",
   "execution_count": 63,
   "metadata": {},
   "outputs": [],
   "source": [
    "text = []\n",
    "\n",
    "for i in fname_li:\n",
    "    j = json_data[i]\n",
    "    text.append(j)"
   ]
  },
  {
   "cell_type": "code",
   "execution_count": 64,
   "metadata": {},
   "outputs": [],
   "source": [
    "txt_df = pd.DataFrame(text)"
   ]
  },
  {
   "cell_type": "code",
   "execution_count": 65,
   "metadata": {},
   "outputs": [],
   "source": [
    "txt_df.to_excel(data_path+'/v0/'+'transcription_'+input_value+'.xlsx', encoding='utf-8-sig', header=None)"
   ]
  },
  {
   "cell_type": "code",
   "execution_count": null,
   "metadata": {},
   "outputs": [],
   "source": []
  },
  {
   "cell_type": "code",
   "execution_count": 44,
   "metadata": {},
   "outputs": [],
   "source": [
    "#rr = pd.DataFrame(fname_li)"
   ]
  },
  {
   "cell_type": "code",
   "execution_count": 45,
   "metadata": {},
   "outputs": [],
   "source": [
    "#rr.to_excel('./alignment_미반영.xlsx', encoding='utf-8-sig', header=None)"
   ]
  },
  {
   "cell_type": "code",
   "execution_count": null,
   "metadata": {},
   "outputs": [],
   "source": []
  },
  {
   "cell_type": "code",
   "execution_count": null,
   "metadata": {},
   "outputs": [],
   "source": [
    "### metadata.json 만들 db 선택 (ex:SNU)"
   ]
  },
  {
   "cell_type": "code",
   "execution_count": 2,
   "metadata": {},
   "outputs": [
    {
     "name": "stdin",
     "output_type": "stream",
     "text": [
      " SNU\n"
     ]
    }
   ],
   "source": [
    "input_value = input()"
   ]
  },
  {
   "cell_type": "code",
   "execution_count": 3,
   "metadata": {},
   "outputs": [],
   "source": [
    "data_path = './'+input_value\n",
    "files = listdir(data_path)"
   ]
  },
  {
   "cell_type": "code",
   "execution_count": 13,
   "metadata": {},
   "outputs": [
    {
     "name": "stderr",
     "output_type": "stream",
     "text": [
      "100%|██████████████████████████████████████████████████████████████████████████████████| 24/24 [03:39<00:00,  9.14s/it]\n"
     ]
    }
   ],
   "source": [
    "for i in tqdm(files, mininterval=1):\n",
    "    \n",
    "    # 화자별 wav 파일리스트 생성\n",
    "    # 만약 안에 wav 폴더 없으면 pass\n",
    "    if os.path.isdir(data_path+\"/\"+i+'/v0/wavs'):\n",
    "        wav_files = listdir(data_path+\"/\"+i+'/v0/wavs')\n",
    "    \n",
    "        # 음원파일의 duration, sample_rate, 파일명 경로, 스피커 구하기\n",
    "        duration_li = []\n",
    "        rate_li =[]\n",
    "        fname_li = []\n",
    "        spk_li = []\n",
    "    \n",
    "        for j in wav_files:\n",
    "        \n",
    "            # duration, sample_rate\n",
    "            f = sf.SoundFile(data_path+\"/\"+i+'/v0/wavs/'+j)\n",
    "            rate = f.samplerate\n",
    "            dur = round((len(f) / f.samplerate),2)\n",
    "            rate_li.append(rate)\n",
    "            duration_li.append(dur)\n",
    "    \n",
    "            # 파일경로, speaker\n",
    "            def clean_text(text):\n",
    "                pattern = '(\\.wav)$'\n",
    "                text = re.sub(pattern=pattern, repl='', string=text)\n",
    "                text = text.strip()\n",
    "                text = \" \".join(text.split())\n",
    "                return text\n",
    "        \n",
    "            k = input_value+'/'+i+'/item/'+j\n",
    "            k = clean_text(k)\n",
    "            q = k.split('/')\n",
    "            fname_li.append(k)\n",
    "            spk_li.append(q[0]+'/'+q[1])\n",
    "    \n",
    "        # 텍스트 내용 불러오기\n",
    "        txt_path = data_path+\"/\"+i+'/v0/transcription_'+i+'.xlsx'\n",
    "        wb = xl.load_workbook(txt_path)\n",
    "        ws = wb.active\n",
    "    \n",
    "        txt_li = []\n",
    "        for r in ws.rows:\n",
    "            txt_li.append(r[1].value)\n",
    "    \n",
    "        # df로 병합\n",
    "        df = pd.DataFrame(fname_li, columns =['fname'])\n",
    "        df.index += 1\n",
    "        df['text'] = txt_li\n",
    "        df['duration'] = duration_li\n",
    "        df['speaker'] = spk_li\n",
    "        df['sample_rate'] = rate_li\n",
    "    \n",
    "        # 데이터프레임 저장 (csv, xlsx)\n",
    "        if not os.path.exists('./'+input_value+'_meta'):\n",
    "            os.makedirs('./'+input_value+'_meta')\n",
    "\n",
    "        df.to_csv('./'+input_value+'_meta/metadata_'+i+'.csv', encoding='utf-8-sig', header=None)\n",
    "        df.to_excel('./'+input_value+'_meta/metadata_'+i+'.xlsx', encoding='utf-8-sig', header=None)\n",
    "    \n",
    "        # json 생성\n",
    "        xlsx_path = './'+input_value+'_meta/metadata_'+i+'.xlsx'\n",
    "        wb_2 = xl.load_workbook(xlsx_path)\n",
    "        ws_2 = wb_2.active\n",
    "        dic = OrderedDict()\n",
    "    \n",
    "        for z in ws_2.rows:\n",
    "            dic[z[0].value] = {'fname':z[1].value,\n",
    "                               'text':z[2].value,\n",
    "                               'duration':z[3].value,\n",
    "                               'speaker':z[4].value,\n",
    "                               'sample_rate':z[5].value}\n",
    "    \n",
    "        with open('./'+input_value+'_meta/metadata_'+i+'.json', 'w', encoding=\"utf-8\") as make_file:\n",
    "            json.dump(dic, make_file, ensure_ascii=False, indent=\"\\t\")\n",
    "    else:\n",
    "        continue"
   ]
  },
  {
   "cell_type": "code",
   "execution_count": null,
   "metadata": {},
   "outputs": [],
   "source": []
  }
 ],
 "metadata": {
  "kernelspec": {
   "display_name": "Python 3",
   "language": "python",
   "name": "python3"
  },
  "language_info": {
   "codemirror_mode": {
    "name": "ipython",
    "version": 3
   },
   "file_extension": ".py",
   "mimetype": "text/x-python",
   "name": "python",
   "nbconvert_exporter": "python",
   "pygments_lexer": "ipython3",
   "version": "3.7.4"
  }
 },
 "nbformat": 4,
 "nbformat_minor": 4
}
